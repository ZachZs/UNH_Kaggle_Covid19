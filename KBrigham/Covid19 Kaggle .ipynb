{
 "cells": [
  {
   "cell_type": "markdown",
   "metadata": {},
   "source": [
    "## Import Dependencies and set working directory"
   ]
  },
  {
   "cell_type": "code",
   "execution_count": 81,
   "metadata": {},
   "outputs": [],
   "source": [
    "import json\n",
    "import os\n",
    "import pandas as pd\n",
    "import numpy as np\n",
    "from datetime import datetime"
   ]
  },
  {
   "cell_type": "code",
   "execution_count": 82,
   "metadata": {},
   "outputs": [
    {
     "name": "stdout",
     "output_type": "stream",
     "text": [
      "C:\\Users\\lbrig\\Documents\\GRAD SCHOOL\\Semester 3\\Covid19 Kaggle\\CORD-19-research-challenge\n"
     ]
    }
   ],
   "source": [
    "%cd \"C:\\Users\\lbrig\\Documents\\GRAD SCHOOL\\Semester 3\\Covid19 Kaggle\\CORD-19-research-challenge\""
   ]
  },
  {
   "cell_type": "markdown",
   "metadata": {},
   "source": [
    "## For loop to extract relevant data from each json file"
   ]
  },
  {
   "cell_type": "code",
   "execution_count": 83,
   "metadata": {
    "scrolled": true
   },
   "outputs": [
    {
     "name": "stdout",
     "output_type": "stream",
     "text": [
      "Run time:  0:01:28.155496\n"
     ]
    }
   ],
   "source": [
    "kaggle= []\n",
    "\n",
    "start=datetime.now()\n",
    "\n",
    "jsonpaths = [\"biorxiv_medrxiv\\\\biorxiv_medrxiv\", \"comm_use_subset\\\\comm_use_subset\", \"custom_license\\\\custom_license\", \"noncomm_use_subset\\\\noncomm_use_subset\"]\n",
    "for path in jsonpaths:\n",
    "    for file in os.listdir(path):\n",
    "        filename = \"%s\\%s\" % (path, file)\n",
    "        with open(filename, 'r') as covidfile:\n",
    "            df=json.load(covidfile)\n",
    "\n",
    "        #Pull out columns needed\n",
    "        #Paper ID number\n",
    "        paperid = df['paper_id']\n",
    "        #Title of paper\n",
    "        title = df['metadata']['title']\n",
    "        #Abstract of paper with each portion of text concatinated together\n",
    "        abstract= ''\n",
    "        for words in df['abstract']:\n",
    "            abstract = abstract + ' ' + words['text']\n",
    "        #Full document with each portion of text concatinated together\n",
    "        fulldoc= ''\n",
    "        for words in df['body_text']:\n",
    "            fulldoc = fulldoc + ' ' + words['text']\n",
    "        #File type \n",
    "        filetype= path.split('\\\\')\n",
    "        \n",
    "        #Append to kaggle \n",
    "        kaggle.append({'ID': paperid, 'Title': title, 'Abstract': abstract, 'Document': fulldoc, 'Filepath': filetype[0]})\n",
    "\n",
    "\n",
    "kaggledf=pd.DataFrame(kaggle)\n",
    "\n",
    "end=datetime.now()\n",
    "print(\"Run time: \", end-start)\n"
   ]
  },
  {
   "cell_type": "code",
   "execution_count": 84,
   "metadata": {},
   "outputs": [
    {
     "data": {
      "text/html": [
       "<div>\n",
       "<style scoped>\n",
       "    .dataframe tbody tr th:only-of-type {\n",
       "        vertical-align: middle;\n",
       "    }\n",
       "\n",
       "    .dataframe tbody tr th {\n",
       "        vertical-align: top;\n",
       "    }\n",
       "\n",
       "    .dataframe thead th {\n",
       "        text-align: right;\n",
       "    }\n",
       "</style>\n",
       "<table border=\"1\" class=\"dataframe\">\n",
       "  <thead>\n",
       "    <tr style=\"text-align: right;\">\n",
       "      <th></th>\n",
       "      <th>ID</th>\n",
       "      <th>Title</th>\n",
       "      <th>Abstract</th>\n",
       "      <th>Document</th>\n",
       "      <th>Filepath</th>\n",
       "    </tr>\n",
       "  </thead>\n",
       "  <tbody>\n",
       "    <tr>\n",
       "      <td>0</td>\n",
       "      <td>0015023cc06b5362d332b3baf348d11567ca2fbb</td>\n",
       "      <td>The RNA pseudoknots in foot-and-mouth disease ...</td>\n",
       "      <td>word count: 194 22 Text word count: 5168 23 2...</td>\n",
       "      <td>VP3, and VP0 (which is further processed to V...</td>\n",
       "      <td>biorxiv_medrxiv</td>\n",
       "    </tr>\n",
       "    <tr>\n",
       "      <td>1</td>\n",
       "      <td>004f0f8bb66cf446678dc13cf2701feec4f36d76</td>\n",
       "      <td>Healthcare-resource-adjusted vulnerabilities t...</td>\n",
       "      <td></td>\n",
       "      <td>The 2019-nCoV epidemic has spread across Chin...</td>\n",
       "      <td>biorxiv_medrxiv</td>\n",
       "    </tr>\n",
       "    <tr>\n",
       "      <td>2</td>\n",
       "      <td>00d16927588fb04d4be0e6b269fc02f0d3c2aa7b</td>\n",
       "      <td>Real-time, MinION-based, amplicon sequencing f...</td>\n",
       "      <td>Infectious bronchitis (IB) causes significant...</td>\n",
       "      <td>Infectious bronchitis (IB), which is caused b...</td>\n",
       "      <td>biorxiv_medrxiv</td>\n",
       "    </tr>\n",
       "    <tr>\n",
       "      <td>3</td>\n",
       "      <td>0139ea4ca580af99b602c6435368e7fdbefacb03</td>\n",
       "      <td>A Combined Evidence Approach to Prioritize Nip...</td>\n",
       "      <td>Nipah Virus (NiV) came into limelight recentl...</td>\n",
       "      <td>Nipah is an infectious negative-sense single-...</td>\n",
       "      <td>biorxiv_medrxiv</td>\n",
       "    </tr>\n",
       "    <tr>\n",
       "      <td>4</td>\n",
       "      <td>013d9d1cba8a54d5d3718c229b812d7cf91b6c89</td>\n",
       "      <td>Assessing spread risk of Wuhan novel coronavir...</td>\n",
       "      <td>Background: A novel coronavirus (2019-nCoV) e...</td>\n",
       "      <td>In December 2019, a cluster of patients with ...</td>\n",
       "      <td>biorxiv_medrxiv</td>\n",
       "    </tr>\n",
       "  </tbody>\n",
       "</table>\n",
       "</div>"
      ],
      "text/plain": [
       "                                         ID  \\\n",
       "0  0015023cc06b5362d332b3baf348d11567ca2fbb   \n",
       "1  004f0f8bb66cf446678dc13cf2701feec4f36d76   \n",
       "2  00d16927588fb04d4be0e6b269fc02f0d3c2aa7b   \n",
       "3  0139ea4ca580af99b602c6435368e7fdbefacb03   \n",
       "4  013d9d1cba8a54d5d3718c229b812d7cf91b6c89   \n",
       "\n",
       "                                               Title  \\\n",
       "0  The RNA pseudoknots in foot-and-mouth disease ...   \n",
       "1  Healthcare-resource-adjusted vulnerabilities t...   \n",
       "2  Real-time, MinION-based, amplicon sequencing f...   \n",
       "3  A Combined Evidence Approach to Prioritize Nip...   \n",
       "4  Assessing spread risk of Wuhan novel coronavir...   \n",
       "\n",
       "                                            Abstract  \\\n",
       "0   word count: 194 22 Text word count: 5168 23 2...   \n",
       "1                                                      \n",
       "2   Infectious bronchitis (IB) causes significant...   \n",
       "3   Nipah Virus (NiV) came into limelight recentl...   \n",
       "4   Background: A novel coronavirus (2019-nCoV) e...   \n",
       "\n",
       "                                            Document         Filepath  \n",
       "0   VP3, and VP0 (which is further processed to V...  biorxiv_medrxiv  \n",
       "1   The 2019-nCoV epidemic has spread across Chin...  biorxiv_medrxiv  \n",
       "2   Infectious bronchitis (IB), which is caused b...  biorxiv_medrxiv  \n",
       "3   Nipah is an infectious negative-sense single-...  biorxiv_medrxiv  \n",
       "4   In December 2019, a cluster of patients with ...  biorxiv_medrxiv  "
      ]
     },
     "execution_count": 84,
     "metadata": {},
     "output_type": "execute_result"
    }
   ],
   "source": [
    "kaggledf.head()"
   ]
  },
  {
   "cell_type": "code",
   "execution_count": 85,
   "metadata": {},
   "outputs": [
    {
     "data": {
      "text/plain": [
       "(33224, 5)"
      ]
     },
     "execution_count": 85,
     "metadata": {},
     "output_type": "execute_result"
    }
   ],
   "source": [
    "kaggledf.shape"
   ]
  },
  {
   "cell_type": "code",
   "execution_count": 86,
   "metadata": {},
   "outputs": [
    {
     "data": {
      "text/plain": [
       "custom_license        20657\n",
       "comm_use_subset        9315\n",
       "noncomm_use_subset     2350\n",
       "biorxiv_medrxiv         902\n",
       "Name: Filepath, dtype: int64"
      ]
     },
     "execution_count": 86,
     "metadata": {},
     "output_type": "execute_result"
    }
   ],
   "source": [
    "#How many of each document type?\n",
    "pd.value_counts(kaggledf.Filepath)\n"
   ]
  },
  {
   "cell_type": "code",
   "execution_count": 87,
   "metadata": {},
   "outputs": [
    {
     "name": "stdout",
     "output_type": "stream",
     "text": [
      "C:\\Users\\lbrig\\Documents\\GRAD SCHOOL\\Semester 3\\Covid19 Kaggle\n"
     ]
    }
   ],
   "source": [
    "#New directory\n",
    "%cd \"C:\\Users\\lbrig\\Documents\\GRAD SCHOOL\\Semester 3\\Covid19 Kaggle\""
   ]
  },
  {
   "cell_type": "code",
   "execution_count": 88,
   "metadata": {},
   "outputs": [],
   "source": [
    "meta=pd.read_csv(\"metadata.csv\", usecols= [1, 3, 8, 10, 14, 15])"
   ]
  },
  {
   "cell_type": "code",
   "execution_count": 89,
   "metadata": {},
   "outputs": [
    {
     "data": {
      "text/plain": [
       "(45774, 6)"
      ]
     },
     "execution_count": 89,
     "metadata": {},
     "output_type": "execute_result"
    }
   ],
   "source": [
    "meta.shape"
   ]
  },
  {
   "cell_type": "code",
   "execution_count": 90,
   "metadata": {},
   "outputs": [],
   "source": [
    "#Split the IDs into multiple columns\n",
    "m2= meta.sha.str.split(\";\", expand=True)"
   ]
  },
  {
   "cell_type": "code",
   "execution_count": 91,
   "metadata": {},
   "outputs": [],
   "source": [
    "#Add a prefix to these columns \n",
    "m2=m2.add_prefix('ID_')"
   ]
  },
  {
   "cell_type": "code",
   "execution_count": 92,
   "metadata": {},
   "outputs": [],
   "source": [
    "#Concat the ID columns and metadata\n",
    "result = pd.concat([m2, meta], axis=1, sort=False)"
   ]
  },
  {
   "cell_type": "code",
   "execution_count": 93,
   "metadata": {},
   "outputs": [
    {
     "data": {
      "text/plain": [
       "(45774, 12)"
      ]
     },
     "execution_count": 93,
     "metadata": {},
     "output_type": "execute_result"
    }
   ],
   "source": [
    "result.shape"
   ]
  },
  {
   "cell_type": "code",
   "execution_count": 94,
   "metadata": {},
   "outputs": [
    {
     "data": {
      "text/html": [
       "<div>\n",
       "<style scoped>\n",
       "    .dataframe tbody tr th:only-of-type {\n",
       "        vertical-align: middle;\n",
       "    }\n",
       "\n",
       "    .dataframe tbody tr th {\n",
       "        vertical-align: top;\n",
       "    }\n",
       "\n",
       "    .dataframe thead th {\n",
       "        text-align: right;\n",
       "    }\n",
       "</style>\n",
       "<table border=\"1\" class=\"dataframe\">\n",
       "  <thead>\n",
       "    <tr style=\"text-align: right;\">\n",
       "      <th></th>\n",
       "      <th>ID_0</th>\n",
       "      <th>title</th>\n",
       "      <th>abstract</th>\n",
       "      <th>authors</th>\n",
       "      <th>has_full_text</th>\n",
       "      <th>full_text_file</th>\n",
       "    </tr>\n",
       "  </thead>\n",
       "  <tbody>\n",
       "    <tr>\n",
       "      <td>0</td>\n",
       "      <td>f056da9c64fbf00a4645ae326e8a4339d015d155</td>\n",
       "      <td>SIANN: Strain Identification by Alignment to N...</td>\n",
       "      <td>Next-generation sequencing is increasingly bei...</td>\n",
       "      <td>Samuel Minot; Stephen D Turner; Krista L Ternu...</td>\n",
       "      <td>True</td>\n",
       "      <td>biorxiv_medrxiv</td>\n",
       "    </tr>\n",
       "    <tr>\n",
       "      <td>1</td>\n",
       "      <td>daf32e013d325a6feb80e83d15aabc64a48fae33</td>\n",
       "      <td>Spatial epidemiology of networked metapopulati...</td>\n",
       "      <td>An emerging disease is one infectious epidemic...</td>\n",
       "      <td>Lin WANG; Xiang Li</td>\n",
       "      <td>True</td>\n",
       "      <td>biorxiv_medrxiv</td>\n",
       "    </tr>\n",
       "    <tr>\n",
       "      <td>2</td>\n",
       "      <td>f33c6d94b0efaa198f8f3f20e644625fa3fe10d2</td>\n",
       "      <td>Sequencing of the human IG light chain loci fr...</td>\n",
       "      <td>Germline variation at immunoglobulin gene (IG)...</td>\n",
       "      <td>Corey T Watson; Karyn Meltz Steinberg; Tina A ...</td>\n",
       "      <td>True</td>\n",
       "      <td>biorxiv_medrxiv</td>\n",
       "    </tr>\n",
       "    <tr>\n",
       "      <td>3</td>\n",
       "      <td>4da8a87e614373d56070ed272487451266dce919</td>\n",
       "      <td>Bayesian mixture analysis for metagenomic comm...</td>\n",
       "      <td>Deep sequencing of clinical samples is now an ...</td>\n",
       "      <td>Sofia Morfopoulou; Vincent Plagnol</td>\n",
       "      <td>True</td>\n",
       "      <td>biorxiv_medrxiv</td>\n",
       "    </tr>\n",
       "    <tr>\n",
       "      <td>4</td>\n",
       "      <td>eccef80cfbe078235df22398f195d5db462d8000</td>\n",
       "      <td>Mapping a viral phylogeny onto outbreak trees ...</td>\n",
       "      <td>Developing methods to reconstruct transmission...</td>\n",
       "      <td>Stephen P Velsko; Jonathan E Allen</td>\n",
       "      <td>True</td>\n",
       "      <td>biorxiv_medrxiv</td>\n",
       "    </tr>\n",
       "    <tr>\n",
       "      <td>...</td>\n",
       "      <td>...</td>\n",
       "      <td>...</td>\n",
       "      <td>...</td>\n",
       "      <td>...</td>\n",
       "      <td>...</td>\n",
       "      <td>...</td>\n",
       "    </tr>\n",
       "    <tr>\n",
       "      <td>45769</td>\n",
       "      <td>289deae0b2050aa259a05ba84565a4df82fa099a</td>\n",
       "      <td>Personal Protective Equipment: Protecting Heal...</td>\n",
       "      <td>Abstract Purpose The recent Ebola epidemic tha...</td>\n",
       "      <td>Fischer, William A.; Weber, David J.; Wohl, Da...</td>\n",
       "      <td>True</td>\n",
       "      <td>custom_license</td>\n",
       "    </tr>\n",
       "    <tr>\n",
       "      <td>45770</td>\n",
       "      <td>21a4369f83891bf6975dd916c0aa495d5df8709e</td>\n",
       "      <td>Viruses and asthma</td>\n",
       "      <td>Abstract Background Viral respiratory infectio...</td>\n",
       "      <td>Dulek, Daniel E.; Peebles, R. Stokes</td>\n",
       "      <td>True</td>\n",
       "      <td>custom_license</td>\n",
       "    </tr>\n",
       "    <tr>\n",
       "      <td>45771</td>\n",
       "      <td>NaN</td>\n",
       "      <td>Why the WHO won't use the p-word</td>\n",
       "      <td>There are no criteria for a pandemic, but covi...</td>\n",
       "      <td>MacKenzie, Debora</td>\n",
       "      <td>False</td>\n",
       "      <td>custom_license</td>\n",
       "    </tr>\n",
       "    <tr>\n",
       "      <td>45772</td>\n",
       "      <td>NaN</td>\n",
       "      <td>Communication, transparency key as Canada face...</td>\n",
       "      <td>NaN</td>\n",
       "      <td>Glauser, Wendy</td>\n",
       "      <td>False</td>\n",
       "      <td>NaN</td>\n",
       "    </tr>\n",
       "    <tr>\n",
       "      <td>45773</td>\n",
       "      <td>3369a14e1d116943f48b3a33597796c9802de279</td>\n",
       "      <td>Searching for animal models and potential targ...</td>\n",
       "      <td>Emerging and re-emerging pathogens represent a...</td>\n",
       "      <td>Vergara-Alert, Júlia; Vidal, Enric; Bensaid, A...</td>\n",
       "      <td>True</td>\n",
       "      <td>noncomm_use_subset</td>\n",
       "    </tr>\n",
       "  </tbody>\n",
       "</table>\n",
       "<p>45774 rows × 6 columns</p>\n",
       "</div>"
      ],
      "text/plain": [
       "                                           ID_0  \\\n",
       "0      f056da9c64fbf00a4645ae326e8a4339d015d155   \n",
       "1      daf32e013d325a6feb80e83d15aabc64a48fae33   \n",
       "2      f33c6d94b0efaa198f8f3f20e644625fa3fe10d2   \n",
       "3      4da8a87e614373d56070ed272487451266dce919   \n",
       "4      eccef80cfbe078235df22398f195d5db462d8000   \n",
       "...                                         ...   \n",
       "45769  289deae0b2050aa259a05ba84565a4df82fa099a   \n",
       "45770  21a4369f83891bf6975dd916c0aa495d5df8709e   \n",
       "45771                                       NaN   \n",
       "45772                                       NaN   \n",
       "45773  3369a14e1d116943f48b3a33597796c9802de279   \n",
       "\n",
       "                                                   title  \\\n",
       "0      SIANN: Strain Identification by Alignment to N...   \n",
       "1      Spatial epidemiology of networked metapopulati...   \n",
       "2      Sequencing of the human IG light chain loci fr...   \n",
       "3      Bayesian mixture analysis for metagenomic comm...   \n",
       "4      Mapping a viral phylogeny onto outbreak trees ...   \n",
       "...                                                  ...   \n",
       "45769  Personal Protective Equipment: Protecting Heal...   \n",
       "45770                                 Viruses and asthma   \n",
       "45771                   Why the WHO won't use the p-word   \n",
       "45772  Communication, transparency key as Canada face...   \n",
       "45773  Searching for animal models and potential targ...   \n",
       "\n",
       "                                                abstract  \\\n",
       "0      Next-generation sequencing is increasingly bei...   \n",
       "1      An emerging disease is one infectious epidemic...   \n",
       "2      Germline variation at immunoglobulin gene (IG)...   \n",
       "3      Deep sequencing of clinical samples is now an ...   \n",
       "4      Developing methods to reconstruct transmission...   \n",
       "...                                                  ...   \n",
       "45769  Abstract Purpose The recent Ebola epidemic tha...   \n",
       "45770  Abstract Background Viral respiratory infectio...   \n",
       "45771  There are no criteria for a pandemic, but covi...   \n",
       "45772                                                NaN   \n",
       "45773  Emerging and re-emerging pathogens represent a...   \n",
       "\n",
       "                                                 authors  has_full_text  \\\n",
       "0      Samuel Minot; Stephen D Turner; Krista L Ternu...           True   \n",
       "1                                     Lin WANG; Xiang Li           True   \n",
       "2      Corey T Watson; Karyn Meltz Steinberg; Tina A ...           True   \n",
       "3                     Sofia Morfopoulou; Vincent Plagnol           True   \n",
       "4                     Stephen P Velsko; Jonathan E Allen           True   \n",
       "...                                                  ...            ...   \n",
       "45769  Fischer, William A.; Weber, David J.; Wohl, Da...           True   \n",
       "45770               Dulek, Daniel E.; Peebles, R. Stokes           True   \n",
       "45771                                  MacKenzie, Debora          False   \n",
       "45772                                     Glauser, Wendy          False   \n",
       "45773  Vergara-Alert, Júlia; Vidal, Enric; Bensaid, A...           True   \n",
       "\n",
       "           full_text_file  \n",
       "0         biorxiv_medrxiv  \n",
       "1         biorxiv_medrxiv  \n",
       "2         biorxiv_medrxiv  \n",
       "3         biorxiv_medrxiv  \n",
       "4         biorxiv_medrxiv  \n",
       "...                   ...  \n",
       "45769      custom_license  \n",
       "45770      custom_license  \n",
       "45771      custom_license  \n",
       "45772                 NaN  \n",
       "45773  noncomm_use_subset  \n",
       "\n",
       "[45774 rows x 6 columns]"
      ]
     },
     "execution_count": 94,
     "metadata": {},
     "output_type": "execute_result"
    }
   ],
   "source": [
    "#Drop sha column\n",
    "result.drop(columns=['sha', 'ID_1', 'ID_2', 'ID_3', 'ID_4', 'ID_5'])"
   ]
  },
  {
   "cell_type": "code",
   "execution_count": 95,
   "metadata": {},
   "outputs": [],
   "source": [
    "merged= result.merge(kaggledf, how= 'left', left_on='ID_0', right_on= 'ID')"
   ]
  },
  {
   "cell_type": "code",
   "execution_count": 96,
   "metadata": {},
   "outputs": [
    {
     "data": {
      "text/plain": [
       "(45774, 17)"
      ]
     },
     "execution_count": 96,
     "metadata": {},
     "output_type": "execute_result"
    }
   ],
   "source": [
    "merged.shape"
   ]
  },
  {
   "cell_type": "code",
   "execution_count": 97,
   "metadata": {},
   "outputs": [
    {
     "data": {
      "text/html": [
       "<div>\n",
       "<style scoped>\n",
       "    .dataframe tbody tr th:only-of-type {\n",
       "        vertical-align: middle;\n",
       "    }\n",
       "\n",
       "    .dataframe tbody tr th {\n",
       "        vertical-align: top;\n",
       "    }\n",
       "\n",
       "    .dataframe thead th {\n",
       "        text-align: right;\n",
       "    }\n",
       "</style>\n",
       "<table border=\"1\" class=\"dataframe\">\n",
       "  <thead>\n",
       "    <tr style=\"text-align: right;\">\n",
       "      <th></th>\n",
       "      <th>ID_0</th>\n",
       "      <th>ID_1</th>\n",
       "      <th>ID_2</th>\n",
       "      <th>ID_3</th>\n",
       "      <th>ID_4</th>\n",
       "      <th>ID_5</th>\n",
       "      <th>sha</th>\n",
       "      <th>title</th>\n",
       "      <th>abstract</th>\n",
       "      <th>authors</th>\n",
       "      <th>has_full_text</th>\n",
       "      <th>full_text_file</th>\n",
       "      <th>ID</th>\n",
       "      <th>Title</th>\n",
       "      <th>Abstract</th>\n",
       "      <th>Document</th>\n",
       "      <th>Filepath</th>\n",
       "    </tr>\n",
       "  </thead>\n",
       "  <tbody>\n",
       "    <tr>\n",
       "      <td>45769</td>\n",
       "      <td>289deae0b2050aa259a05ba84565a4df82fa099a</td>\n",
       "      <td>None</td>\n",
       "      <td>None</td>\n",
       "      <td>None</td>\n",
       "      <td>None</td>\n",
       "      <td>None</td>\n",
       "      <td>289deae0b2050aa259a05ba84565a4df82fa099a</td>\n",
       "      <td>Personal Protective Equipment: Protecting Heal...</td>\n",
       "      <td>Abstract Purpose The recent Ebola epidemic tha...</td>\n",
       "      <td>Fischer, William A.; Weber, David J.; Wohl, Da...</td>\n",
       "      <td>True</td>\n",
       "      <td>custom_license</td>\n",
       "      <td>289deae0b2050aa259a05ba84565a4df82fa099a</td>\n",
       "      <td>Personal Protective Equipment: Protecting Heal...</td>\n",
       "      <td>Purpose: The recent Ebola epidemic that devas...</td>\n",
       "      <td>The recent Ebola epidemic that devastated Wes...</td>\n",
       "      <td>custom_license</td>\n",
       "    </tr>\n",
       "    <tr>\n",
       "      <td>45770</td>\n",
       "      <td>21a4369f83891bf6975dd916c0aa495d5df8709e</td>\n",
       "      <td>None</td>\n",
       "      <td>None</td>\n",
       "      <td>None</td>\n",
       "      <td>None</td>\n",
       "      <td>None</td>\n",
       "      <td>21a4369f83891bf6975dd916c0aa495d5df8709e</td>\n",
       "      <td>Viruses and asthma</td>\n",
       "      <td>Abstract Background Viral respiratory infectio...</td>\n",
       "      <td>Dulek, Daniel E.; Peebles, R. Stokes</td>\n",
       "      <td>True</td>\n",
       "      <td>custom_license</td>\n",
       "      <td>21a4369f83891bf6975dd916c0aa495d5df8709e</td>\n",
       "      <td>Viruses and asthma ☆</td>\n",
       "      <td>Background: Viral respiratory infection has l...</td>\n",
       "      <td>Asthma is a complex disease regulated by both...</td>\n",
       "      <td>custom_license</td>\n",
       "    </tr>\n",
       "    <tr>\n",
       "      <td>45771</td>\n",
       "      <td>NaN</td>\n",
       "      <td>NaN</td>\n",
       "      <td>NaN</td>\n",
       "      <td>NaN</td>\n",
       "      <td>NaN</td>\n",
       "      <td>NaN</td>\n",
       "      <td>NaN</td>\n",
       "      <td>Why the WHO won't use the p-word</td>\n",
       "      <td>There are no criteria for a pandemic, but covi...</td>\n",
       "      <td>MacKenzie, Debora</td>\n",
       "      <td>False</td>\n",
       "      <td>custom_license</td>\n",
       "      <td>NaN</td>\n",
       "      <td>NaN</td>\n",
       "      <td>NaN</td>\n",
       "      <td>NaN</td>\n",
       "      <td>NaN</td>\n",
       "    </tr>\n",
       "    <tr>\n",
       "      <td>45772</td>\n",
       "      <td>NaN</td>\n",
       "      <td>NaN</td>\n",
       "      <td>NaN</td>\n",
       "      <td>NaN</td>\n",
       "      <td>NaN</td>\n",
       "      <td>NaN</td>\n",
       "      <td>NaN</td>\n",
       "      <td>Communication, transparency key as Canada face...</td>\n",
       "      <td>NaN</td>\n",
       "      <td>Glauser, Wendy</td>\n",
       "      <td>False</td>\n",
       "      <td>NaN</td>\n",
       "      <td>NaN</td>\n",
       "      <td>NaN</td>\n",
       "      <td>NaN</td>\n",
       "      <td>NaN</td>\n",
       "      <td>NaN</td>\n",
       "    </tr>\n",
       "    <tr>\n",
       "      <td>45773</td>\n",
       "      <td>3369a14e1d116943f48b3a33597796c9802de279</td>\n",
       "      <td>f523909ff52d8a6b9e7ddeb44c7d10ff9adf366c</td>\n",
       "      <td>None</td>\n",
       "      <td>None</td>\n",
       "      <td>None</td>\n",
       "      <td>None</td>\n",
       "      <td>3369a14e1d116943f48b3a33597796c9802de279; f523...</td>\n",
       "      <td>Searching for animal models and potential targ...</td>\n",
       "      <td>Emerging and re-emerging pathogens represent a...</td>\n",
       "      <td>Vergara-Alert, Júlia; Vidal, Enric; Bensaid, A...</td>\n",
       "      <td>True</td>\n",
       "      <td>noncomm_use_subset</td>\n",
       "      <td>3369a14e1d116943f48b3a33597796c9802de279</td>\n",
       "      <td>Searching for animal models and potential targ...</td>\n",
       "      <td>Emerging and re-emerging pathogens represent ...</td>\n",
       "      <td>Searching for animal models and potential tar...</td>\n",
       "      <td>noncomm_use_subset</td>\n",
       "    </tr>\n",
       "  </tbody>\n",
       "</table>\n",
       "</div>"
      ],
      "text/plain": [
       "                                           ID_0  \\\n",
       "45769  289deae0b2050aa259a05ba84565a4df82fa099a   \n",
       "45770  21a4369f83891bf6975dd916c0aa495d5df8709e   \n",
       "45771                                       NaN   \n",
       "45772                                       NaN   \n",
       "45773  3369a14e1d116943f48b3a33597796c9802de279   \n",
       "\n",
       "                                            ID_1  ID_2  ID_3  ID_4  ID_5  \\\n",
       "45769                                       None  None  None  None  None   \n",
       "45770                                       None  None  None  None  None   \n",
       "45771                                        NaN   NaN   NaN   NaN   NaN   \n",
       "45772                                        NaN   NaN   NaN   NaN   NaN   \n",
       "45773   f523909ff52d8a6b9e7ddeb44c7d10ff9adf366c  None  None  None  None   \n",
       "\n",
       "                                                     sha  \\\n",
       "45769           289deae0b2050aa259a05ba84565a4df82fa099a   \n",
       "45770           21a4369f83891bf6975dd916c0aa495d5df8709e   \n",
       "45771                                                NaN   \n",
       "45772                                                NaN   \n",
       "45773  3369a14e1d116943f48b3a33597796c9802de279; f523...   \n",
       "\n",
       "                                                   title  \\\n",
       "45769  Personal Protective Equipment: Protecting Heal...   \n",
       "45770                                 Viruses and asthma   \n",
       "45771                   Why the WHO won't use the p-word   \n",
       "45772  Communication, transparency key as Canada face...   \n",
       "45773  Searching for animal models and potential targ...   \n",
       "\n",
       "                                                abstract  \\\n",
       "45769  Abstract Purpose The recent Ebola epidemic tha...   \n",
       "45770  Abstract Background Viral respiratory infectio...   \n",
       "45771  There are no criteria for a pandemic, but covi...   \n",
       "45772                                                NaN   \n",
       "45773  Emerging and re-emerging pathogens represent a...   \n",
       "\n",
       "                                                 authors  has_full_text  \\\n",
       "45769  Fischer, William A.; Weber, David J.; Wohl, Da...           True   \n",
       "45770               Dulek, Daniel E.; Peebles, R. Stokes           True   \n",
       "45771                                  MacKenzie, Debora          False   \n",
       "45772                                     Glauser, Wendy          False   \n",
       "45773  Vergara-Alert, Júlia; Vidal, Enric; Bensaid, A...           True   \n",
       "\n",
       "           full_text_file                                        ID  \\\n",
       "45769      custom_license  289deae0b2050aa259a05ba84565a4df82fa099a   \n",
       "45770      custom_license  21a4369f83891bf6975dd916c0aa495d5df8709e   \n",
       "45771      custom_license                                       NaN   \n",
       "45772                 NaN                                       NaN   \n",
       "45773  noncomm_use_subset  3369a14e1d116943f48b3a33597796c9802de279   \n",
       "\n",
       "                                                   Title  \\\n",
       "45769  Personal Protective Equipment: Protecting Heal...   \n",
       "45770                               Viruses and asthma ☆   \n",
       "45771                                                NaN   \n",
       "45772                                                NaN   \n",
       "45773  Searching for animal models and potential targ...   \n",
       "\n",
       "                                                Abstract  \\\n",
       "45769   Purpose: The recent Ebola epidemic that devas...   \n",
       "45770   Background: Viral respiratory infection has l...   \n",
       "45771                                                NaN   \n",
       "45772                                                NaN   \n",
       "45773   Emerging and re-emerging pathogens represent ...   \n",
       "\n",
       "                                                Document            Filepath  \n",
       "45769   The recent Ebola epidemic that devastated Wes...      custom_license  \n",
       "45770   Asthma is a complex disease regulated by both...      custom_license  \n",
       "45771                                                NaN                 NaN  \n",
       "45772                                                NaN                 NaN  \n",
       "45773   Searching for animal models and potential tar...  noncomm_use_subset  "
      ]
     },
     "execution_count": 97,
     "metadata": {},
     "output_type": "execute_result"
    }
   ],
   "source": [
    "merged.tail()"
   ]
  },
  {
   "cell_type": "code",
   "execution_count": 98,
   "metadata": {},
   "outputs": [
    {
     "data": {
      "text/plain": [
       "True     31753\n",
       "False    14021\n",
       "Name: has_full_text, dtype: int64"
      ]
     },
     "execution_count": 98,
     "metadata": {},
     "output_type": "execute_result"
    }
   ],
   "source": [
    "pd.value_counts(merged.has_full_text)"
   ]
  },
  {
   "cell_type": "code",
   "execution_count": null,
   "metadata": {},
   "outputs": [],
   "source": []
  }
 ],
 "metadata": {
  "kernelspec": {
   "display_name": "Python 3",
   "language": "python",
   "name": "python3"
  },
  "language_info": {
   "codemirror_mode": {
    "name": "ipython",
    "version": 3
   },
   "file_extension": ".py",
   "mimetype": "text/x-python",
   "name": "python",
   "nbconvert_exporter": "python",
   "pygments_lexer": "ipython3",
   "version": "3.7.4"
  }
 },
 "nbformat": 4,
 "nbformat_minor": 2
}
