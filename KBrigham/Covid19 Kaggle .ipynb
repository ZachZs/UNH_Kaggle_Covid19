{
 "cells": [
  {
   "cell_type": "markdown",
   "metadata": {},
   "source": [
    "## Import Dependencies and set working directory"
   ]
  },
  {
   "cell_type": "code",
   "execution_count": 8,
   "metadata": {},
   "outputs": [],
   "source": [
    "import json\n",
    "import os\n",
    "import pandas as pd\n",
    "import numpy as np\n",
    "from datetime import datetime\n",
    "import matplotlib.pyplot as plt"
   ]
  },
  {
   "cell_type": "code",
   "execution_count": 2,
   "metadata": {},
   "outputs": [
    {
     "name": "stdout",
     "output_type": "stream",
     "text": [
      "C:\\Users\\lbrig\\Documents\\GRAD SCHOOL\\Semester 3\\Covid19 Kaggle\\CORD-19-research-challenge\n"
     ]
    }
   ],
   "source": [
    "%cd \"C:\\Users\\lbrig\\Documents\\GRAD SCHOOL\\Semester 3\\Covid19 Kaggle\\CORD-19-research-challenge\""
   ]
  },
  {
   "cell_type": "markdown",
   "metadata": {},
   "source": [
    "## For loop to extract relevant data from each json file"
   ]
  },
  {
   "cell_type": "code",
   "execution_count": 3,
   "metadata": {
    "scrolled": true
   },
   "outputs": [
    {
     "name": "stdout",
     "output_type": "stream",
     "text": [
      "Run time:  0:10:10.064949\n"
     ]
    }
   ],
   "source": [
    "kaggle= []\n",
    "\n",
    "start=datetime.now()\n",
    "\n",
    "jsonpaths = [\"biorxiv_medrxiv\\\\biorxiv_medrxiv\", \"comm_use_subset\\\\comm_use_subset\", \"custom_license\\\\custom_license\", \"noncomm_use_subset\\\\noncomm_use_subset\"]\n",
    "for path in jsonpaths:\n",
    "    for file in os.listdir(path):\n",
    "        filename = \"%s\\%s\" % (path, file)\n",
    "        with open(filename, 'r') as covidfile:\n",
    "            df=json.load(covidfile)\n",
    "\n",
    "        #Pull out columns needed\n",
    "        #Paper ID number\n",
    "        paperid = df['paper_id']\n",
    "        #Title of paper\n",
    "        title = df['metadata']['title']\n",
    "        #Abstract of paper with each portion of text concatinated together\n",
    "        abstract= ''\n",
    "        for words in df['abstract']:\n",
    "            abstract = abstract + ' ' + words['text']\n",
    "        #Full document with each portion of text concatinated together\n",
    "        fulldoc= ''\n",
    "        for words in df['body_text']:\n",
    "            fulldoc = fulldoc + ' ' + words['text']\n",
    "        #File type \n",
    "        filetype= path.split('\\\\')\n",
    "        \n",
    "        #Append to kaggle \n",
    "        kaggle.append({'ID': paperid, 'Title': title, 'Abstract': abstract, 'Document': fulldoc, 'Filepath': filetype[0]})\n",
    "\n",
    "\n",
    "kaggledf=pd.DataFrame(kaggle)\n",
    "\n",
    "end=datetime.now()\n",
    "print(\"Run time: \", end-start)\n"
   ]
  },
  {
   "cell_type": "code",
   "execution_count": 4,
   "metadata": {},
   "outputs": [
    {
     "data": {
      "text/html": [
       "<div>\n",
       "<style scoped>\n",
       "    .dataframe tbody tr th:only-of-type {\n",
       "        vertical-align: middle;\n",
       "    }\n",
       "\n",
       "    .dataframe tbody tr th {\n",
       "        vertical-align: top;\n",
       "    }\n",
       "\n",
       "    .dataframe thead th {\n",
       "        text-align: right;\n",
       "    }\n",
       "</style>\n",
       "<table border=\"1\" class=\"dataframe\">\n",
       "  <thead>\n",
       "    <tr style=\"text-align: right;\">\n",
       "      <th></th>\n",
       "      <th>ID</th>\n",
       "      <th>Title</th>\n",
       "      <th>Abstract</th>\n",
       "      <th>Document</th>\n",
       "      <th>Filepath</th>\n",
       "    </tr>\n",
       "  </thead>\n",
       "  <tbody>\n",
       "    <tr>\n",
       "      <td>0</td>\n",
       "      <td>0015023cc06b5362d332b3baf348d11567ca2fbb</td>\n",
       "      <td>The RNA pseudoknots in foot-and-mouth disease ...</td>\n",
       "      <td>word count: 194 22 Text word count: 5168 23 2...</td>\n",
       "      <td>VP3, and VP0 (which is further processed to V...</td>\n",
       "      <td>biorxiv_medrxiv</td>\n",
       "    </tr>\n",
       "    <tr>\n",
       "      <td>1</td>\n",
       "      <td>00340eea543336d54adda18236424de6a5e91c9d</td>\n",
       "      <td>Analysis Title: Regaining perspective on SARS-...</td>\n",
       "      <td>During the past three months, a new coronavir...</td>\n",
       "      <td>In December 2019, a novel coronavirus, SARS-C...</td>\n",
       "      <td>biorxiv_medrxiv</td>\n",
       "    </tr>\n",
       "    <tr>\n",
       "      <td>2</td>\n",
       "      <td>004f0f8bb66cf446678dc13cf2701feec4f36d76</td>\n",
       "      <td>Healthcare-resource-adjusted vulnerabilities t...</td>\n",
       "      <td></td>\n",
       "      <td>The 2019-nCoV epidemic has spread across Chin...</td>\n",
       "      <td>biorxiv_medrxiv</td>\n",
       "    </tr>\n",
       "    <tr>\n",
       "      <td>3</td>\n",
       "      <td>00d16927588fb04d4be0e6b269fc02f0d3c2aa7b</td>\n",
       "      <td>Real-time, MinION-based, amplicon sequencing f...</td>\n",
       "      <td>Infectious bronchitis (IB) causes significant...</td>\n",
       "      <td>Infectious bronchitis (IB), which is caused b...</td>\n",
       "      <td>biorxiv_medrxiv</td>\n",
       "    </tr>\n",
       "    <tr>\n",
       "      <td>4</td>\n",
       "      <td>0139ea4ca580af99b602c6435368e7fdbefacb03</td>\n",
       "      <td>A Combined Evidence Approach to Prioritize Nip...</td>\n",
       "      <td>Nipah Virus (NiV) came into limelight recentl...</td>\n",
       "      <td>Nipah is an infectious negative-sense single-...</td>\n",
       "      <td>biorxiv_medrxiv</td>\n",
       "    </tr>\n",
       "  </tbody>\n",
       "</table>\n",
       "</div>"
      ],
      "text/plain": [
       "                                         ID  \\\n",
       "0  0015023cc06b5362d332b3baf348d11567ca2fbb   \n",
       "1  00340eea543336d54adda18236424de6a5e91c9d   \n",
       "2  004f0f8bb66cf446678dc13cf2701feec4f36d76   \n",
       "3  00d16927588fb04d4be0e6b269fc02f0d3c2aa7b   \n",
       "4  0139ea4ca580af99b602c6435368e7fdbefacb03   \n",
       "\n",
       "                                               Title  \\\n",
       "0  The RNA pseudoknots in foot-and-mouth disease ...   \n",
       "1  Analysis Title: Regaining perspective on SARS-...   \n",
       "2  Healthcare-resource-adjusted vulnerabilities t...   \n",
       "3  Real-time, MinION-based, amplicon sequencing f...   \n",
       "4  A Combined Evidence Approach to Prioritize Nip...   \n",
       "\n",
       "                                            Abstract  \\\n",
       "0   word count: 194 22 Text word count: 5168 23 2...   \n",
       "1   During the past three months, a new coronavir...   \n",
       "2                                                      \n",
       "3   Infectious bronchitis (IB) causes significant...   \n",
       "4   Nipah Virus (NiV) came into limelight recentl...   \n",
       "\n",
       "                                            Document         Filepath  \n",
       "0   VP3, and VP0 (which is further processed to V...  biorxiv_medrxiv  \n",
       "1   In December 2019, a novel coronavirus, SARS-C...  biorxiv_medrxiv  \n",
       "2   The 2019-nCoV epidemic has spread across Chin...  biorxiv_medrxiv  \n",
       "3   Infectious bronchitis (IB), which is caused b...  biorxiv_medrxiv  \n",
       "4   Nipah is an infectious negative-sense single-...  biorxiv_medrxiv  "
      ]
     },
     "execution_count": 4,
     "metadata": {},
     "output_type": "execute_result"
    }
   ],
   "source": [
    "kaggledf.head(5)"
   ]
  },
  {
   "cell_type": "code",
   "execution_count": 5,
   "metadata": {},
   "outputs": [
    {
     "data": {
      "text/plain": [
       "(33375, 5)"
      ]
     },
     "execution_count": 5,
     "metadata": {},
     "output_type": "execute_result"
    }
   ],
   "source": [
    "kaggledf.shape"
   ]
  },
  {
   "cell_type": "code",
   "execution_count": 6,
   "metadata": {},
   "outputs": [],
   "source": [
    "#Replacing the cells with only white space with na\n",
    "kaggledf = kaggledf.replace(r'^\\s*$', np.nan, regex=True)"
   ]
  },
  {
   "cell_type": "code",
   "execution_count": 7,
   "metadata": {},
   "outputs": [
    {
     "data": {
      "text/plain": [
       "ID             0\n",
       "Title       3655\n",
       "Abstract    8548\n",
       "Document       0\n",
       "Filepath       0\n",
       "dtype: int64"
      ]
     },
     "execution_count": 7,
     "metadata": {},
     "output_type": "execute_result"
    }
   ],
   "source": [
    "#Count of missing values per column\n",
    "kaggledf.isna().sum()"
   ]
  },
  {
   "cell_type": "code",
   "execution_count": 8,
   "metadata": {},
   "outputs": [
    {
     "data": {
      "text/plain": [
       "custom_license        20657\n",
       "comm_use_subset        9315\n",
       "noncomm_use_subset     2350\n",
       "biorxiv_medrxiv        1053\n",
       "Name: Filepath, dtype: int64"
      ]
     },
     "execution_count": 8,
     "metadata": {},
     "output_type": "execute_result"
    }
   ],
   "source": [
    "#How many of each document type?\n",
    "pd.value_counts(kaggledf.Filepath)\n"
   ]
  },
  {
   "cell_type": "code",
   "execution_count": 9,
   "metadata": {},
   "outputs": [
    {
     "data": {
      "text/plain": [
       "<matplotlib.axes._subplots.AxesSubplot at 0x1e0e2f3dac8>"
      ]
     },
     "execution_count": 9,
     "metadata": {},
     "output_type": "execute_result"
    },
    {
     "data": {
      "image/png": "[encoded data removed]",
      "text/plain": [
       "<Figure size 432x288 with 1 Axes>"
      ]
     },
     "metadata": {
      "needs_background": "light"
     },
     "output_type": "display_data"
    }
   ],
   "source": [
    "#Plot the count of each document type\n",
    "kaggledf.Filepath.value_counts().sort_values().plot(kind = 'barh')"
   ]
  },
  {
   "cell_type": "code",
   "execution_count": 23,
   "metadata": {},
   "outputs": [],
   "source": [
    "kaggledf.to_csv('KaggleData.csv')"
   ]
  },
  {
   "cell_type": "markdown",
   "metadata": {},
   "source": [
    "# Looking at Metadata csv and merging with kaggledf"
   ]
  },
  {
   "cell_type": "markdown",
   "metadata": {},
   "source": [
    "## ---SUMMARY FROM METADATA README----\n",
    "##### total metadata rows: 45774\n",
    "##### biorxiv_medrxiv: 1053 full text (new: 194, removed: 26)\n",
    "##### comm_use_subset: 9315 full text (new: 210, removed: 13)\n",
    "##### custom_license: 20657 full text (new: 4218, removed: 520)\n",
    "##### noncomm_use_subset: 2350 full text (new: 6, removed: 9)"
   ]
  },
  {
   "cell_type": "code",
   "execution_count": 10,
   "metadata": {},
   "outputs": [
    {
     "name": "stdout",
     "output_type": "stream",
     "text": [
      "C:\\Users\\lbrig\\Documents\\GRAD SCHOOL\\Semester 3\\Covid19 Kaggle\n"
     ]
    }
   ],
   "source": [
    "#New directory\n",
    "%cd \"C:\\Users\\lbrig\\Documents\\GRAD SCHOOL\\Semester 3\\Covid19 Kaggle\""
   ]
  },
  {
   "cell_type": "code",
   "execution_count": 20,
   "metadata": {},
   "outputs": [],
   "source": [
    "meta=pd.read_csv(\"metadata.csv\")"
   ]
  },
  {
   "cell_type": "code",
   "execution_count": 21,
   "metadata": {},
   "outputs": [
    {
     "data": {
      "text/plain": [
       "(45774, 17)"
      ]
     },
     "execution_count": 21,
     "metadata": {},
     "output_type": "execute_result"
    }
   ],
   "source": [
    "meta.shape"
   ]
  },
  {
   "cell_type": "code",
   "execution_count": 22,
   "metadata": {},
   "outputs": [
    {
     "data": {
      "text/html": [
       "<div>\n",
       "<style scoped>\n",
       "    .dataframe tbody tr th:only-of-type {\n",
       "        vertical-align: middle;\n",
       "    }\n",
       "\n",
       "    .dataframe tbody tr th {\n",
       "        vertical-align: top;\n",
       "    }\n",
       "\n",
       "    .dataframe thead th {\n",
       "        text-align: right;\n",
       "    }\n",
       "</style>\n",
       "<table border=\"1\" class=\"dataframe\">\n",
       "  <thead>\n",
       "    <tr style=\"text-align: right;\">\n",
       "      <th></th>\n",
       "      <th>cord_uid</th>\n",
       "      <th>sha</th>\n",
       "      <th>source_x</th>\n",
       "      <th>title</th>\n",
       "      <th>doi</th>\n",
       "      <th>pmcid</th>\n",
       "      <th>pubmed_id</th>\n",
       "      <th>license</th>\n",
       "      <th>abstract</th>\n",
       "      <th>publish_time</th>\n",
       "      <th>authors</th>\n",
       "      <th>journal</th>\n",
       "      <th>Microsoft Academic Paper ID</th>\n",
       "      <th>WHO #Covidence</th>\n",
       "      <th>has_full_text</th>\n",
       "      <th>full_text_file</th>\n",
       "      <th>url</th>\n",
       "    </tr>\n",
       "  </thead>\n",
       "  <tbody>\n",
       "    <tr>\n",
       "      <td>0</td>\n",
       "      <td>vho70jcx</td>\n",
       "      <td>f056da9c64fbf00a4645ae326e8a4339d015d155</td>\n",
       "      <td>biorxiv</td>\n",
       "      <td>SIANN: Strain Identification by Alignment to N...</td>\n",
       "      <td>10.1101/001727</td>\n",
       "      <td>NaN</td>\n",
       "      <td>NaN</td>\n",
       "      <td>biorxiv</td>\n",
       "      <td>Next-generation sequencing is increasingly bei...</td>\n",
       "      <td>2014-01-10</td>\n",
       "      <td>Samuel Minot; Stephen D Turner; Krista L Ternu...</td>\n",
       "      <td>NaN</td>\n",
       "      <td>NaN</td>\n",
       "      <td>NaN</td>\n",
       "      <td>True</td>\n",
       "      <td>biorxiv_medrxiv</td>\n",
       "      <td>https://doi.org/10.1101/001727</td>\n",
       "    </tr>\n",
       "    <tr>\n",
       "      <td>1</td>\n",
       "      <td>i9tbix2v</td>\n",
       "      <td>daf32e013d325a6feb80e83d15aabc64a48fae33</td>\n",
       "      <td>biorxiv</td>\n",
       "      <td>Spatial epidemiology of networked metapopulati...</td>\n",
       "      <td>10.1101/003889</td>\n",
       "      <td>NaN</td>\n",
       "      <td>NaN</td>\n",
       "      <td>biorxiv</td>\n",
       "      <td>An emerging disease is one infectious epidemic...</td>\n",
       "      <td>2014-06-04</td>\n",
       "      <td>Lin WANG; Xiang Li</td>\n",
       "      <td>NaN</td>\n",
       "      <td>NaN</td>\n",
       "      <td>NaN</td>\n",
       "      <td>True</td>\n",
       "      <td>biorxiv_medrxiv</td>\n",
       "      <td>https://doi.org/10.1101/003889</td>\n",
       "    </tr>\n",
       "    <tr>\n",
       "      <td>2</td>\n",
       "      <td>62gfisc6</td>\n",
       "      <td>f33c6d94b0efaa198f8f3f20e644625fa3fe10d2</td>\n",
       "      <td>biorxiv</td>\n",
       "      <td>Sequencing of the human IG light chain loci fr...</td>\n",
       "      <td>10.1101/006866</td>\n",
       "      <td>NaN</td>\n",
       "      <td>NaN</td>\n",
       "      <td>biorxiv</td>\n",
       "      <td>Germline variation at immunoglobulin gene (IG)...</td>\n",
       "      <td>2014-07-03</td>\n",
       "      <td>Corey T Watson; Karyn Meltz Steinberg; Tina A ...</td>\n",
       "      <td>NaN</td>\n",
       "      <td>NaN</td>\n",
       "      <td>NaN</td>\n",
       "      <td>True</td>\n",
       "      <td>biorxiv_medrxiv</td>\n",
       "      <td>https://doi.org/10.1101/006866</td>\n",
       "    </tr>\n",
       "    <tr>\n",
       "      <td>3</td>\n",
       "      <td>058r9486</td>\n",
       "      <td>4da8a87e614373d56070ed272487451266dce919</td>\n",
       "      <td>biorxiv</td>\n",
       "      <td>Bayesian mixture analysis for metagenomic comm...</td>\n",
       "      <td>10.1101/007476</td>\n",
       "      <td>NaN</td>\n",
       "      <td>NaN</td>\n",
       "      <td>biorxiv</td>\n",
       "      <td>Deep sequencing of clinical samples is now an ...</td>\n",
       "      <td>2014-07-25</td>\n",
       "      <td>Sofia Morfopoulou; Vincent Plagnol</td>\n",
       "      <td>NaN</td>\n",
       "      <td>NaN</td>\n",
       "      <td>NaN</td>\n",
       "      <td>True</td>\n",
       "      <td>biorxiv_medrxiv</td>\n",
       "      <td>https://doi.org/10.1101/007476</td>\n",
       "    </tr>\n",
       "    <tr>\n",
       "      <td>4</td>\n",
       "      <td>wich35l7</td>\n",
       "      <td>eccef80cfbe078235df22398f195d5db462d8000</td>\n",
       "      <td>biorxiv</td>\n",
       "      <td>Mapping a viral phylogeny onto outbreak trees ...</td>\n",
       "      <td>10.1101/010389</td>\n",
       "      <td>NaN</td>\n",
       "      <td>NaN</td>\n",
       "      <td>biorxiv</td>\n",
       "      <td>Developing methods to reconstruct transmission...</td>\n",
       "      <td>2014-11-11</td>\n",
       "      <td>Stephen P Velsko; Jonathan E Allen</td>\n",
       "      <td>NaN</td>\n",
       "      <td>NaN</td>\n",
       "      <td>NaN</td>\n",
       "      <td>True</td>\n",
       "      <td>biorxiv_medrxiv</td>\n",
       "      <td>https://doi.org/10.1101/010389</td>\n",
       "    </tr>\n",
       "  </tbody>\n",
       "</table>\n",
       "</div>"
      ],
      "text/plain": [
       "   cord_uid                                       sha source_x  \\\n",
       "0  vho70jcx  f056da9c64fbf00a4645ae326e8a4339d015d155  biorxiv   \n",
       "1  i9tbix2v  daf32e013d325a6feb80e83d15aabc64a48fae33  biorxiv   \n",
       "2  62gfisc6  f33c6d94b0efaa198f8f3f20e644625fa3fe10d2  biorxiv   \n",
       "3  058r9486  4da8a87e614373d56070ed272487451266dce919  biorxiv   \n",
       "4  wich35l7  eccef80cfbe078235df22398f195d5db462d8000  biorxiv   \n",
       "\n",
       "                                               title             doi pmcid  \\\n",
       "0  SIANN: Strain Identification by Alignment to N...  10.1101/001727   NaN   \n",
       "1  Spatial epidemiology of networked metapopulati...  10.1101/003889   NaN   \n",
       "2  Sequencing of the human IG light chain loci fr...  10.1101/006866   NaN   \n",
       "3  Bayesian mixture analysis for metagenomic comm...  10.1101/007476   NaN   \n",
       "4  Mapping a viral phylogeny onto outbreak trees ...  10.1101/010389   NaN   \n",
       "\n",
       "   pubmed_id  license                                           abstract  \\\n",
       "0        NaN  biorxiv  Next-generation sequencing is increasingly bei...   \n",
       "1        NaN  biorxiv  An emerging disease is one infectious epidemic...   \n",
       "2        NaN  biorxiv  Germline variation at immunoglobulin gene (IG)...   \n",
       "3        NaN  biorxiv  Deep sequencing of clinical samples is now an ...   \n",
       "4        NaN  biorxiv  Developing methods to reconstruct transmission...   \n",
       "\n",
       "  publish_time                                            authors journal  \\\n",
       "0   2014-01-10  Samuel Minot; Stephen D Turner; Krista L Ternu...     NaN   \n",
       "1   2014-06-04                                 Lin WANG; Xiang Li     NaN   \n",
       "2   2014-07-03  Corey T Watson; Karyn Meltz Steinberg; Tina A ...     NaN   \n",
       "3   2014-07-25                 Sofia Morfopoulou; Vincent Plagnol     NaN   \n",
       "4   2014-11-11                 Stephen P Velsko; Jonathan E Allen     NaN   \n",
       "\n",
       "   Microsoft Academic Paper ID WHO #Covidence  has_full_text   full_text_file  \\\n",
       "0                          NaN            NaN           True  biorxiv_medrxiv   \n",
       "1                          NaN            NaN           True  biorxiv_medrxiv   \n",
       "2                          NaN            NaN           True  biorxiv_medrxiv   \n",
       "3                          NaN            NaN           True  biorxiv_medrxiv   \n",
       "4                          NaN            NaN           True  biorxiv_medrxiv   \n",
       "\n",
       "                              url  \n",
       "0  https://doi.org/10.1101/001727  \n",
       "1  https://doi.org/10.1101/003889  \n",
       "2  https://doi.org/10.1101/006866  \n",
       "3  https://doi.org/10.1101/007476  \n",
       "4  https://doi.org/10.1101/010389  "
      ]
     },
     "execution_count": 22,
     "metadata": {},
     "output_type": "execute_result"
    }
   ],
   "source": [
    "meta.head()"
   ]
  },
  {
   "cell_type": "code",
   "execution_count": 13,
   "metadata": {},
   "outputs": [],
   "source": [
    "#Split the IDs into multiple columns\n",
    "m2= meta.sha.str.split(\";\", expand=True)"
   ]
  },
  {
   "cell_type": "code",
   "execution_count": 14,
   "metadata": {},
   "outputs": [],
   "source": [
    "#Add a prefix to these columns \n",
    "m2=m2.add_prefix('ID_')"
   ]
  },
  {
   "cell_type": "code",
   "execution_count": 15,
   "metadata": {},
   "outputs": [],
   "source": [
    "#Concat the ID columns and metadata\n",
    "result = pd.concat([m2, meta], axis=1, sort=False)"
   ]
  },
  {
   "cell_type": "code",
   "execution_count": 16,
   "metadata": {},
   "outputs": [
    {
     "data": {
      "text/plain": [
       "(45774, 12)"
      ]
     },
     "execution_count": 16,
     "metadata": {},
     "output_type": "execute_result"
    }
   ],
   "source": [
    "result.shape"
   ]
  },
  {
   "cell_type": "code",
   "execution_count": 17,
   "metadata": {},
   "outputs": [],
   "source": [
    "#Drop columns\n",
    "result=result.drop(columns=['sha', 'ID_1', 'ID_2', 'ID_3', 'ID_4', 'ID_5'])"
   ]
  },
  {
   "cell_type": "code",
   "execution_count": 19,
   "metadata": {},
   "outputs": [
    {
     "data": {
      "text/html": [
       "<div>\n",
       "<style scoped>\n",
       "    .dataframe tbody tr th:only-of-type {\n",
       "        vertical-align: middle;\n",
       "    }\n",
       "\n",
       "    .dataframe tbody tr th {\n",
       "        vertical-align: top;\n",
       "    }\n",
       "\n",
       "    .dataframe thead th {\n",
       "        text-align: right;\n",
       "    }\n",
       "</style>\n",
       "<table border=\"1\" class=\"dataframe\">\n",
       "  <thead>\n",
       "    <tr style=\"text-align: right;\">\n",
       "      <th></th>\n",
       "      <th>ID_0</th>\n",
       "      <th>title</th>\n",
       "      <th>abstract</th>\n",
       "      <th>authors</th>\n",
       "      <th>has_full_text</th>\n",
       "      <th>full_text_file</th>\n",
       "    </tr>\n",
       "  </thead>\n",
       "  <tbody>\n",
       "    <tr>\n",
       "      <td>0</td>\n",
       "      <td>f056da9c64fbf00a4645ae326e8a4339d015d155</td>\n",
       "      <td>SIANN: Strain Identification by Alignment to N...</td>\n",
       "      <td>Next-generation sequencing is increasingly bei...</td>\n",
       "      <td>Samuel Minot; Stephen D Turner; Krista L Ternu...</td>\n",
       "      <td>True</td>\n",
       "      <td>biorxiv_medrxiv</td>\n",
       "    </tr>\n",
       "    <tr>\n",
       "      <td>1</td>\n",
       "      <td>daf32e013d325a6feb80e83d15aabc64a48fae33</td>\n",
       "      <td>Spatial epidemiology of networked metapopulati...</td>\n",
       "      <td>An emerging disease is one infectious epidemic...</td>\n",
       "      <td>Lin WANG; Xiang Li</td>\n",
       "      <td>True</td>\n",
       "      <td>biorxiv_medrxiv</td>\n",
       "    </tr>\n",
       "    <tr>\n",
       "      <td>2</td>\n",
       "      <td>f33c6d94b0efaa198f8f3f20e644625fa3fe10d2</td>\n",
       "      <td>Sequencing of the human IG light chain loci fr...</td>\n",
       "      <td>Germline variation at immunoglobulin gene (IG)...</td>\n",
       "      <td>Corey T Watson; Karyn Meltz Steinberg; Tina A ...</td>\n",
       "      <td>True</td>\n",
       "      <td>biorxiv_medrxiv</td>\n",
       "    </tr>\n",
       "    <tr>\n",
       "      <td>3</td>\n",
       "      <td>4da8a87e614373d56070ed272487451266dce919</td>\n",
       "      <td>Bayesian mixture analysis for metagenomic comm...</td>\n",
       "      <td>Deep sequencing of clinical samples is now an ...</td>\n",
       "      <td>Sofia Morfopoulou; Vincent Plagnol</td>\n",
       "      <td>True</td>\n",
       "      <td>biorxiv_medrxiv</td>\n",
       "    </tr>\n",
       "    <tr>\n",
       "      <td>4</td>\n",
       "      <td>eccef80cfbe078235df22398f195d5db462d8000</td>\n",
       "      <td>Mapping a viral phylogeny onto outbreak trees ...</td>\n",
       "      <td>Developing methods to reconstruct transmission...</td>\n",
       "      <td>Stephen P Velsko; Jonathan E Allen</td>\n",
       "      <td>True</td>\n",
       "      <td>biorxiv_medrxiv</td>\n",
       "    </tr>\n",
       "  </tbody>\n",
       "</table>\n",
       "</div>"
      ],
      "text/plain": [
       "                                       ID_0  \\\n",
       "0  f056da9c64fbf00a4645ae326e8a4339d015d155   \n",
       "1  daf32e013d325a6feb80e83d15aabc64a48fae33   \n",
       "2  f33c6d94b0efaa198f8f3f20e644625fa3fe10d2   \n",
       "3  4da8a87e614373d56070ed272487451266dce919   \n",
       "4  eccef80cfbe078235df22398f195d5db462d8000   \n",
       "\n",
       "                                               title  \\\n",
       "0  SIANN: Strain Identification by Alignment to N...   \n",
       "1  Spatial epidemiology of networked metapopulati...   \n",
       "2  Sequencing of the human IG light chain loci fr...   \n",
       "3  Bayesian mixture analysis for metagenomic comm...   \n",
       "4  Mapping a viral phylogeny onto outbreak trees ...   \n",
       "\n",
       "                                            abstract  \\\n",
       "0  Next-generation sequencing is increasingly bei...   \n",
       "1  An emerging disease is one infectious epidemic...   \n",
       "2  Germline variation at immunoglobulin gene (IG)...   \n",
       "3  Deep sequencing of clinical samples is now an ...   \n",
       "4  Developing methods to reconstruct transmission...   \n",
       "\n",
       "                                             authors  has_full_text  \\\n",
       "0  Samuel Minot; Stephen D Turner; Krista L Ternu...           True   \n",
       "1                                 Lin WANG; Xiang Li           True   \n",
       "2  Corey T Watson; Karyn Meltz Steinberg; Tina A ...           True   \n",
       "3                 Sofia Morfopoulou; Vincent Plagnol           True   \n",
       "4                 Stephen P Velsko; Jonathan E Allen           True   \n",
       "\n",
       "    full_text_file  \n",
       "0  biorxiv_medrxiv  \n",
       "1  biorxiv_medrxiv  \n",
       "2  biorxiv_medrxiv  \n",
       "3  biorxiv_medrxiv  \n",
       "4  biorxiv_medrxiv  "
      ]
     },
     "execution_count": 19,
     "metadata": {},
     "output_type": "execute_result"
    }
   ],
   "source": [
    "result.head()"
   ]
  },
  {
   "cell_type": "code",
   "execution_count": 17,
   "metadata": {},
   "outputs": [],
   "source": [
    "merged= result.merge(kaggledf, how= 'left', left_on='ID_0', right_on= 'ID')"
   ]
  },
  {
   "cell_type": "code",
   "execution_count": 18,
   "metadata": {},
   "outputs": [
    {
     "data": {
      "text/plain": [
       "(45774, 11)"
      ]
     },
     "execution_count": 18,
     "metadata": {},
     "output_type": "execute_result"
    }
   ],
   "source": [
    "merged.shape"
   ]
  },
  {
   "cell_type": "code",
   "execution_count": 19,
   "metadata": {},
   "outputs": [
    {
     "data": {
      "text/html": [
       "<div>\n",
       "<style scoped>\n",
       "    .dataframe tbody tr th:only-of-type {\n",
       "        vertical-align: middle;\n",
       "    }\n",
       "\n",
       "    .dataframe tbody tr th {\n",
       "        vertical-align: top;\n",
       "    }\n",
       "\n",
       "    .dataframe thead th {\n",
       "        text-align: right;\n",
       "    }\n",
       "</style>\n",
       "<table border=\"1\" class=\"dataframe\">\n",
       "  <thead>\n",
       "    <tr style=\"text-align: right;\">\n",
       "      <th></th>\n",
       "      <th>ID_0</th>\n",
       "      <th>title</th>\n",
       "      <th>abstract</th>\n",
       "      <th>authors</th>\n",
       "      <th>has_full_text</th>\n",
       "      <th>full_text_file</th>\n",
       "      <th>ID</th>\n",
       "      <th>Title</th>\n",
       "      <th>Abstract</th>\n",
       "      <th>Document</th>\n",
       "      <th>Filepath</th>\n",
       "    </tr>\n",
       "  </thead>\n",
       "  <tbody>\n",
       "    <tr>\n",
       "      <td>45769</td>\n",
       "      <td>289deae0b2050aa259a05ba84565a4df82fa099a</td>\n",
       "      <td>Personal Protective Equipment: Protecting Heal...</td>\n",
       "      <td>Abstract Purpose The recent Ebola epidemic tha...</td>\n",
       "      <td>Fischer, William A.; Weber, David J.; Wohl, Da...</td>\n",
       "      <td>True</td>\n",
       "      <td>custom_license</td>\n",
       "      <td>289deae0b2050aa259a05ba84565a4df82fa099a</td>\n",
       "      <td>Personal Protective Equipment: Protecting Heal...</td>\n",
       "      <td>Purpose: The recent Ebola epidemic that devas...</td>\n",
       "      <td>The recent Ebola epidemic that devastated Wes...</td>\n",
       "      <td>custom_license</td>\n",
       "    </tr>\n",
       "    <tr>\n",
       "      <td>45770</td>\n",
       "      <td>21a4369f83891bf6975dd916c0aa495d5df8709e</td>\n",
       "      <td>Viruses and asthma</td>\n",
       "      <td>Abstract Background Viral respiratory infectio...</td>\n",
       "      <td>Dulek, Daniel E.; Peebles, R. Stokes</td>\n",
       "      <td>True</td>\n",
       "      <td>custom_license</td>\n",
       "      <td>21a4369f83891bf6975dd916c0aa495d5df8709e</td>\n",
       "      <td>Viruses and asthma ☆</td>\n",
       "      <td>Background: Viral respiratory infection has l...</td>\n",
       "      <td>Asthma is a complex disease regulated by both...</td>\n",
       "      <td>custom_license</td>\n",
       "    </tr>\n",
       "    <tr>\n",
       "      <td>45771</td>\n",
       "      <td>NaN</td>\n",
       "      <td>Why the WHO won't use the p-word</td>\n",
       "      <td>There are no criteria for a pandemic, but covi...</td>\n",
       "      <td>MacKenzie, Debora</td>\n",
       "      <td>False</td>\n",
       "      <td>custom_license</td>\n",
       "      <td>NaN</td>\n",
       "      <td>NaN</td>\n",
       "      <td>NaN</td>\n",
       "      <td>NaN</td>\n",
       "      <td>NaN</td>\n",
       "    </tr>\n",
       "    <tr>\n",
       "      <td>45772</td>\n",
       "      <td>NaN</td>\n",
       "      <td>Communication, transparency key as Canada face...</td>\n",
       "      <td>NaN</td>\n",
       "      <td>Glauser, Wendy</td>\n",
       "      <td>False</td>\n",
       "      <td>NaN</td>\n",
       "      <td>NaN</td>\n",
       "      <td>NaN</td>\n",
       "      <td>NaN</td>\n",
       "      <td>NaN</td>\n",
       "      <td>NaN</td>\n",
       "    </tr>\n",
       "    <tr>\n",
       "      <td>45773</td>\n",
       "      <td>3369a14e1d116943f48b3a33597796c9802de279</td>\n",
       "      <td>Searching for animal models and potential targ...</td>\n",
       "      <td>Emerging and re-emerging pathogens represent a...</td>\n",
       "      <td>Vergara-Alert, Júlia; Vidal, Enric; Bensaid, A...</td>\n",
       "      <td>True</td>\n",
       "      <td>noncomm_use_subset</td>\n",
       "      <td>3369a14e1d116943f48b3a33597796c9802de279</td>\n",
       "      <td>Searching for animal models and potential targ...</td>\n",
       "      <td>Emerging and re-emerging pathogens represent ...</td>\n",
       "      <td>Searching for animal models and potential tar...</td>\n",
       "      <td>noncomm_use_subset</td>\n",
       "    </tr>\n",
       "  </tbody>\n",
       "</table>\n",
       "</div>"
      ],
      "text/plain": [
       "                                           ID_0  \\\n",
       "45769  289deae0b2050aa259a05ba84565a4df82fa099a   \n",
       "45770  21a4369f83891bf6975dd916c0aa495d5df8709e   \n",
       "45771                                       NaN   \n",
       "45772                                       NaN   \n",
       "45773  3369a14e1d116943f48b3a33597796c9802de279   \n",
       "\n",
       "                                                   title  \\\n",
       "45769  Personal Protective Equipment: Protecting Heal...   \n",
       "45770                                 Viruses and asthma   \n",
       "45771                   Why the WHO won't use the p-word   \n",
       "45772  Communication, transparency key as Canada face...   \n",
       "45773  Searching for animal models and potential targ...   \n",
       "\n",
       "                                                abstract  \\\n",
       "45769  Abstract Purpose The recent Ebola epidemic tha...   \n",
       "45770  Abstract Background Viral respiratory infectio...   \n",
       "45771  There are no criteria for a pandemic, but covi...   \n",
       "45772                                                NaN   \n",
       "45773  Emerging and re-emerging pathogens represent a...   \n",
       "\n",
       "                                                 authors  has_full_text  \\\n",
       "45769  Fischer, William A.; Weber, David J.; Wohl, Da...           True   \n",
       "45770               Dulek, Daniel E.; Peebles, R. Stokes           True   \n",
       "45771                                  MacKenzie, Debora          False   \n",
       "45772                                     Glauser, Wendy          False   \n",
       "45773  Vergara-Alert, Júlia; Vidal, Enric; Bensaid, A...           True   \n",
       "\n",
       "           full_text_file                                        ID  \\\n",
       "45769      custom_license  289deae0b2050aa259a05ba84565a4df82fa099a   \n",
       "45770      custom_license  21a4369f83891bf6975dd916c0aa495d5df8709e   \n",
       "45771      custom_license                                       NaN   \n",
       "45772                 NaN                                       NaN   \n",
       "45773  noncomm_use_subset  3369a14e1d116943f48b3a33597796c9802de279   \n",
       "\n",
       "                                                   Title  \\\n",
       "45769  Personal Protective Equipment: Protecting Heal...   \n",
       "45770                               Viruses and asthma ☆   \n",
       "45771                                                NaN   \n",
       "45772                                                NaN   \n",
       "45773  Searching for animal models and potential targ...   \n",
       "\n",
       "                                                Abstract  \\\n",
       "45769   Purpose: The recent Ebola epidemic that devas...   \n",
       "45770   Background: Viral respiratory infection has l...   \n",
       "45771                                                NaN   \n",
       "45772                                                NaN   \n",
       "45773   Emerging and re-emerging pathogens represent ...   \n",
       "\n",
       "                                                Document            Filepath  \n",
       "45769   The recent Ebola epidemic that devastated Wes...      custom_license  \n",
       "45770   Asthma is a complex disease regulated by both...      custom_license  \n",
       "45771                                                NaN                 NaN  \n",
       "45772                                                NaN                 NaN  \n",
       "45773   Searching for animal models and potential tar...  noncomm_use_subset  "
      ]
     },
     "execution_count": 19,
     "metadata": {},
     "output_type": "execute_result"
    }
   ],
   "source": [
    "merged.tail()"
   ]
  },
  {
   "cell_type": "code",
   "execution_count": 20,
   "metadata": {},
   "outputs": [
    {
     "data": {
      "text/plain": [
       "True     31753\n",
       "False    14021\n",
       "Name: has_full_text, dtype: int64"
      ]
     },
     "execution_count": 20,
     "metadata": {},
     "output_type": "execute_result"
    }
   ],
   "source": [
    "pd.value_counts(merged.has_full_text)"
   ]
  },
  {
   "cell_type": "code",
   "execution_count": 21,
   "metadata": {},
   "outputs": [
    {
     "data": {
      "text/plain": [
       "custom_license        23227\n",
       "comm_use_subset        8982\n",
       "noncomm_use_subset     2131\n",
       "biorxiv_medrxiv        1218\n",
       "Name: full_text_file, dtype: int64"
      ]
     },
     "execution_count": 21,
     "metadata": {},
     "output_type": "execute_result"
    }
   ],
   "source": [
    "pd.value_counts(merged.full_text_file)"
   ]
  },
  {
   "cell_type": "code",
   "execution_count": null,
   "metadata": {},
   "outputs": [],
   "source": []
  }
 ],
 "metadata": {
  "kernelspec": {
   "display_name": "Python 3",
   "language": "python",
   "name": "python3"
  },
  "language_info": {
   "codemirror_mode": {
    "name": "ipython",
    "version": 3
   },
   "file_extension": ".py",
   "mimetype": "text/x-python",
   "name": "python",
   "nbconvert_exporter": "python",
   "pygments_lexer": "ipython3",
   "version": "3.7.4"
  }
 },
 "nbformat": 4,
 "nbformat_minor": 2
}
