{
 "cells": [
  {
   "cell_type": "markdown",
   "metadata": {},
   "source": [
    "## Import Dependencies and set working directory"
   ]
  },
  {
   "cell_type": "code",
   "execution_count": 121,
   "metadata": {},
   "outputs": [],
   "source": [
    "import json\n",
    "import os\n",
    "import pandas as pd\n",
    "import numpy as np\n",
    "from datetime import datetime"
   ]
  },
  {
   "cell_type": "code",
   "execution_count": 122,
   "metadata": {},
   "outputs": [
    {
     "name": "stdout",
     "output_type": "stream",
     "text": [
      "C:\\Users\\lbrig\\Documents\\GRAD SCHOOL\\Semester 3\\Covid19 Kaggle\\CORD-19-research-challenge\n"
     ]
    }
   ],
   "source": [
    "%cd \"C:\\Users\\lbrig\\Documents\\GRAD SCHOOL\\Semester 3\\Covid19 Kaggle\\CORD-19-research-challenge\""
   ]
  },
  {
   "cell_type": "markdown",
   "metadata": {},
   "source": [
    "## For loop to extract relevant data from each json file"
   ]
  },
  {
   "cell_type": "code",
   "execution_count": 123,
   "metadata": {
    "scrolled": true
   },
   "outputs": [
    {
     "name": "stdout",
     "output_type": "stream",
     "text": [
      "Run time:  0:01:21.645252\n"
     ]
    }
   ],
   "source": [
    "kaggle= []\n",
    "\n",
    "start=datetime.now()\n",
    "\n",
    "jsonpaths = [\"biorxiv_medrxiv\\\\biorxiv_medrxiv\", \"comm_use_subset\\\\comm_use_subset\", \"custom_license\\\\custom_license\", \"noncomm_use_subset\\\\noncomm_use_subset\"]\n",
    "for path in jsonpaths:\n",
    "    for file in os.listdir(path):\n",
    "        filename = \"%s\\%s\" % (path, file)\n",
    "        with open(filename, 'r') as covidfile:\n",
    "            df=json.load(covidfile)\n",
    "\n",
    "        #Pull out columns needed\n",
    "        #Paper ID number\n",
    "        paperid = df['paper_id']\n",
    "        #Title of paper\n",
    "        title = df['metadata']['title']\n",
    "        #Abstract of paper with each portion of text concatinated together\n",
    "        abstract= ''\n",
    "        for words in df['abstract']:\n",
    "            abstract = abstract + ' ' + words['text']\n",
    "        #Full document with each portion of text concatinated together\n",
    "        fulldoc= ''\n",
    "        for words in df['body_text']:\n",
    "            fulldoc = fulldoc + ' ' + words['text']\n",
    "        #File type \n",
    "        filetype= path.split('\\\\')\n",
    "        \n",
    "        #Append to kaggle \n",
    "        kaggle.append({'ID': paperid, 'Title': title, 'Abstract': abstract, 'Document': fulldoc, 'Filepath': filetype[0]})\n",
    "\n",
    "\n",
    "kaggledf=pd.DataFrame(kaggle)\n",
    "\n",
    "end=datetime.now()\n",
    "print(\"Run time: \", end-start)\n"
   ]
  },
  {
   "cell_type": "code",
   "execution_count": 147,
   "metadata": {},
   "outputs": [
    {
     "data": {
      "text/html": [
       "<div>\n",
       "<style scoped>\n",
       "    .dataframe tbody tr th:only-of-type {\n",
       "        vertical-align: middle;\n",
       "    }\n",
       "\n",
       "    .dataframe tbody tr th {\n",
       "        vertical-align: top;\n",
       "    }\n",
       "\n",
       "    .dataframe thead th {\n",
       "        text-align: right;\n",
       "    }\n",
       "</style>\n",
       "<table border=\"1\" class=\"dataframe\">\n",
       "  <thead>\n",
       "    <tr style=\"text-align: right;\">\n",
       "      <th></th>\n",
       "      <th>ID</th>\n",
       "      <th>Title</th>\n",
       "      <th>Abstract</th>\n",
       "      <th>Document</th>\n",
       "      <th>Filepath</th>\n",
       "    </tr>\n",
       "  </thead>\n",
       "  <tbody>\n",
       "    <tr>\n",
       "      <td>0</td>\n",
       "      <td>0015023cc06b5362d332b3baf348d11567ca2fbb</td>\n",
       "      <td>The RNA pseudoknots in foot-and-mouth disease ...</td>\n",
       "      <td>word count: 194 22 Text word count: 5168 23 2...</td>\n",
       "      <td>VP3, and VP0 (which is further processed to V...</td>\n",
       "      <td>biorxiv_medrxiv</td>\n",
       "    </tr>\n",
       "    <tr>\n",
       "      <td>1</td>\n",
       "      <td>004f0f8bb66cf446678dc13cf2701feec4f36d76</td>\n",
       "      <td>Healthcare-resource-adjusted vulnerabilities t...</td>\n",
       "      <td>NaN</td>\n",
       "      <td>The 2019-nCoV epidemic has spread across Chin...</td>\n",
       "      <td>biorxiv_medrxiv</td>\n",
       "    </tr>\n",
       "    <tr>\n",
       "      <td>2</td>\n",
       "      <td>00d16927588fb04d4be0e6b269fc02f0d3c2aa7b</td>\n",
       "      <td>Real-time, MinION-based, amplicon sequencing f...</td>\n",
       "      <td>Infectious bronchitis (IB) causes significant...</td>\n",
       "      <td>Infectious bronchitis (IB), which is caused b...</td>\n",
       "      <td>biorxiv_medrxiv</td>\n",
       "    </tr>\n",
       "    <tr>\n",
       "      <td>3</td>\n",
       "      <td>0139ea4ca580af99b602c6435368e7fdbefacb03</td>\n",
       "      <td>A Combined Evidence Approach to Prioritize Nip...</td>\n",
       "      <td>Nipah Virus (NiV) came into limelight recentl...</td>\n",
       "      <td>Nipah is an infectious negative-sense single-...</td>\n",
       "      <td>biorxiv_medrxiv</td>\n",
       "    </tr>\n",
       "    <tr>\n",
       "      <td>4</td>\n",
       "      <td>013d9d1cba8a54d5d3718c229b812d7cf91b6c89</td>\n",
       "      <td>Assessing spread risk of Wuhan novel coronavir...</td>\n",
       "      <td>Background: A novel coronavirus (2019-nCoV) e...</td>\n",
       "      <td>In December 2019, a cluster of patients with ...</td>\n",
       "      <td>biorxiv_medrxiv</td>\n",
       "    </tr>\n",
       "    <tr>\n",
       "      <td>5</td>\n",
       "      <td>01d162d7fae6aaba8e6e60e563ef4c2fca7b0e18</td>\n",
       "      <td>TWIRLS, an automated topic-wise inference meth...</td>\n",
       "      <td>Faced with the current large-scale public hea...</td>\n",
       "      <td>The sudden outbreak of the new coronavirus (S...</td>\n",
       "      <td>biorxiv_medrxiv</td>\n",
       "    </tr>\n",
       "    <tr>\n",
       "      <td>6</td>\n",
       "      <td>01e3b313e78a352593be2ff64927192af66619b5</td>\n",
       "      <td>Title: Viruses are a dominant driver of protei...</td>\n",
       "      <td>Viruses interact with hundreds to thousands o...</td>\n",
       "      <td>The copyright holder for this preprint (which...</td>\n",
       "      <td>biorxiv_medrxiv</td>\n",
       "    </tr>\n",
       "    <tr>\n",
       "      <td>7</td>\n",
       "      <td>02201e4601ab0eb70b6c26480cf2bfeae2625193</td>\n",
       "      <td>The impact of regular school closure on season...</td>\n",
       "      <td>School closure is often considered as an opti...</td>\n",
       "      <td>they affect seasonal influenza dynamics. The ...</td>\n",
       "      <td>biorxiv_medrxiv</td>\n",
       "    </tr>\n",
       "    <tr>\n",
       "      <td>8</td>\n",
       "      <td>0255ea4b2f26a51a3bfa3bd8f3e1978c82c976d5</td>\n",
       "      <td>Carbon Nanocarriers Deliver siRNA to Intact Pl...</td>\n",
       "      <td>Post-transcriptional gene silencing (PTGS) is...</td>\n",
       "      <td>siRNA without relying on plant transformation...</td>\n",
       "      <td>biorxiv_medrxiv</td>\n",
       "    </tr>\n",
       "    <tr>\n",
       "      <td>9</td>\n",
       "      <td>029c1c588047f1d612a219ee15494d2d19ff7439</td>\n",
       "      <td>Protective Population Behavior Change in Outbr...</td>\n",
       "      <td>NaN</td>\n",
       "      <td>estimation is complicated, however, by effort...</td>\n",
       "      <td>biorxiv_medrxiv</td>\n",
       "    </tr>\n",
       "    <tr>\n",
       "      <td>10</td>\n",
       "      <td>03ce432f27c7df6af22b92245a614db2ecb5de5f</td>\n",
       "      <td>A hidden gene in astroviruses encodes a cell-p...</td>\n",
       "      <td>Human astroviruses are small nonenveloped vir...</td>\n",
       "      <td>Humans astroviruses (HAstVs) belong to genus ...</td>\n",
       "      <td>biorxiv_medrxiv</td>\n",
       "    </tr>\n",
       "    <tr>\n",
       "      <td>11</td>\n",
       "      <td>03ea3a614b56409d3f099c9ad764864293132540</td>\n",
       "      <td>Live-cell single RNA imaging reveals bursts of...</td>\n",
       "      <td>Ribosomal frameshifting during the translatio...</td>\n",
       "      <td>Frameshifting is a fundamental biological pro...</td>\n",
       "      <td>biorxiv_medrxiv</td>\n",
       "    </tr>\n",
       "    <tr>\n",
       "      <td>12</td>\n",
       "      <td>04030bba3035a58c7725ae267973206f6eb6c0b4</td>\n",
       "      <td>Development and Evaluation of A CRISPR-based D...</td>\n",
       "      <td>The recent outbreak of infections by the 2019...</td>\n",
       "      <td>Since the beginning of 2020, a surging number...</td>\n",
       "      <td>biorxiv_medrxiv</td>\n",
       "    </tr>\n",
       "    <tr>\n",
       "      <td>13</td>\n",
       "      <td>041bae0a6de2b69979d39460b3f2ee8946534ec2</td>\n",
       "      <td>Estimation of the final size of the second pha...</td>\n",
       "      <td>In the note, the logistic growth regression m...</td>\n",
       "      <td>however, use approximate solution and thus ob...</td>\n",
       "      <td>biorxiv_medrxiv</td>\n",
       "    </tr>\n",
       "    <tr>\n",
       "      <td>14</td>\n",
       "      <td>05082393ba4c7ec530190dd887d99c74fd72f6d6</td>\n",
       "      <td>Self-assembly of the RZZ complex into filament...</td>\n",
       "      <td>NaN</td>\n",
       "      <td>To examine the role of the kinetochore dynein...</td>\n",
       "      <td>biorxiv_medrxiv</td>\n",
       "    </tr>\n",
       "    <tr>\n",
       "      <td>15</td>\n",
       "      <td>05d47dd5b46f86428de058db4ecc8bca76a9ad16</td>\n",
       "      <td>Development of CRISPR as a prophylactic strate...</td>\n",
       "      <td>NaN</td>\n",
       "      <td>The world is currently faced with a pandemic ...</td>\n",
       "      <td>biorxiv_medrxiv</td>\n",
       "    </tr>\n",
       "    <tr>\n",
       "      <td>16</td>\n",
       "      <td>05d99c07db59b6948e39bfa62c2cbbf62944059a</td>\n",
       "      <td>A spatial model of CoVID-19 transmission in En...</td>\n",
       "      <td>An outbreak of a novel coronavirus, named CoV...</td>\n",
       "      <td>An outbreak of a novel coronavirus, recently ...</td>\n",
       "      <td>biorxiv_medrxiv</td>\n",
       "    </tr>\n",
       "    <tr>\n",
       "      <td>17</td>\n",
       "      <td>0624a12abfe85c8b5070850d912a2db4cd453236</td>\n",
       "      <td>TALC: Transcription Aware Long Read Correction</td>\n",
       "      <td>Long-read sequencing technologies are invalua...</td>\n",
       "      <td>Recent advances in RNA sequencing (RNA-seq) t...</td>\n",
       "      <td>biorxiv_medrxiv</td>\n",
       "    </tr>\n",
       "    <tr>\n",
       "      <td>18</td>\n",
       "      <td>06a1002f9fbea7179ac3572843f66b14568af6e4</td>\n",
       "      <td>Nelfinavir was predicted to be a potential inh...</td>\n",
       "      <td>2019-nCov has caused more than 80 deaths as o...</td>\n",
       "      <td>In December 2019, cluster of patients with pn...</td>\n",
       "      <td>biorxiv_medrxiv</td>\n",
       "    </tr>\n",
       "    <tr>\n",
       "      <td>19</td>\n",
       "      <td>06c1b3535b83251cf92c01258b5048beeab7a460</td>\n",
       "      <td>Beyond R 0 : the importance of contact tracing...</td>\n",
       "      <td>The basic reproductive number -R 0 -is one of...</td>\n",
       "      <td>The basic reproductive number -R 0 -is one of...</td>\n",
       "      <td>biorxiv_medrxiv</td>\n",
       "    </tr>\n",
       "    <tr>\n",
       "      <td>20</td>\n",
       "      <td>07e833d0917cace550853f72923856d0fe1a7120</td>\n",
       "      <td>Mycroft-West et al. (2020) Running title: SARS...</td>\n",
       "      <td>Many pathogens take advantage of the dependen...</td>\n",
       "      <td>Heparin, the second most widely used drug by ...</td>\n",
       "      <td>biorxiv_medrxiv</td>\n",
       "    </tr>\n",
       "    <tr>\n",
       "      <td>21</td>\n",
       "      <td>08660499ee722a74043f8417faee3e1eeb9d0f5f</td>\n",
       "      <td>International travelers and genomics uncover a...</td>\n",
       "      <td>The ongoing Zika epidemic in the Americas has...</td>\n",
       "      <td>The recent Zika epidemic in the Americas is a...</td>\n",
       "      <td>biorxiv_medrxiv</td>\n",
       "    </tr>\n",
       "    <tr>\n",
       "      <td>22</td>\n",
       "      <td>08a22278486e12768ce186677a6a89663d24586f</td>\n",
       "      <td>Complemented palindrome small RNAs first disco...</td>\n",
       "      <td>In this study, we reported for the first time...</td>\n",
       "      <td>In this study, we reported for the first time...</td>\n",
       "      <td>biorxiv_medrxiv</td>\n",
       "    </tr>\n",
       "    <tr>\n",
       "      <td>23</td>\n",
       "      <td>090b6c8b3df30bc248221869f673a2d970caa1b9</td>\n",
       "      <td>Quantifying the success of measles vaccination...</td>\n",
       "      <td>In the wake of the Rohingya population's mass...</td>\n",
       "      <td>3 . CC-BY-NC-ND 4.0 International license It ...</td>\n",
       "      <td>biorxiv_medrxiv</td>\n",
       "    </tr>\n",
       "    <tr>\n",
       "      <td>24</td>\n",
       "      <td>091a8e9a61e19e88caeb039f0e3888d111b20439</td>\n",
       "      <td>Epidemiological characteristics of 1212 COVID-...</td>\n",
       "      <td>Based on publicly released data for 1212 pati...</td>\n",
       "      <td>Arising from Wuhan South China seafood market...</td>\n",
       "      <td>biorxiv_medrxiv</td>\n",
       "    </tr>\n",
       "    <tr>\n",
       "      <td>25</td>\n",
       "      <td>09b6706748f0c1ae0da436ac2dfac9052b84e4ea</td>\n",
       "      <td>Cryo-EM structures of HKU2 and SADS-CoV spike ...</td>\n",
       "      <td>A new porcine coronavirus SADS-CoV was recent...</td>\n",
       "      <td>However, the molecular mechanisms underlying ...</td>\n",
       "      <td>biorxiv_medrxiv</td>\n",
       "    </tr>\n",
       "    <tr>\n",
       "      <td>26</td>\n",
       "      <td>09c9fcabc66a106e01ef42247cbd86b6d85bd67f</td>\n",
       "      <td>Mono-ADP-ribosylation by ARTD10 restricts Chik...</td>\n",
       "      <td>24 A subset of intracellular mono-ADP-ribosyl...</td>\n",
       "      <td>. CC-BY-NC-ND 4.0 International license autho...</td>\n",
       "      <td>biorxiv_medrxiv</td>\n",
       "    </tr>\n",
       "    <tr>\n",
       "      <td>27</td>\n",
       "      <td>09ec8daa8e32168d92d05b86de1784c639685fb4</td>\n",
       "      <td>The influenza A virus endoribonuclease PA-X us...</td>\n",
       "      <td>NaN</td>\n",
       "      <td>Many viruses globally shut off host gene expr...</td>\n",
       "      <td>biorxiv_medrxiv</td>\n",
       "    </tr>\n",
       "    <tr>\n",
       "      <td>28</td>\n",
       "      <td>0a32446730827ad8152c6a61e4738e4e0b231412</td>\n",
       "      <td>Artesunate interacts with Vitamin D receptor t...</td>\n",
       "      <td>NaN</td>\n",
       "      <td>Sepsis is a leading cause of death worldwide ...</td>\n",
       "      <td>biorxiv_medrxiv</td>\n",
       "    </tr>\n",
       "    <tr>\n",
       "      <td>29</td>\n",
       "      <td>0a43046c154d0e521a6c425df215d90f3c62681e</td>\n",
       "      <td>Full Title: Comparisons of a Novel Air Samplin...</td>\n",
       "      <td>300 words) 33 Quantification of aerosolized i...</td>\n",
       "      <td>Introduction minimize the effects of sampling...</td>\n",
       "      <td>biorxiv_medrxiv</td>\n",
       "    </tr>\n",
       "  </tbody>\n",
       "</table>\n",
       "</div>"
      ],
      "text/plain": [
       "                                          ID  \\\n",
       "0   0015023cc06b5362d332b3baf348d11567ca2fbb   \n",
       "1   004f0f8bb66cf446678dc13cf2701feec4f36d76   \n",
       "2   00d16927588fb04d4be0e6b269fc02f0d3c2aa7b   \n",
       "3   0139ea4ca580af99b602c6435368e7fdbefacb03   \n",
       "4   013d9d1cba8a54d5d3718c229b812d7cf91b6c89   \n",
       "5   01d162d7fae6aaba8e6e60e563ef4c2fca7b0e18   \n",
       "6   01e3b313e78a352593be2ff64927192af66619b5   \n",
       "7   02201e4601ab0eb70b6c26480cf2bfeae2625193   \n",
       "8   0255ea4b2f26a51a3bfa3bd8f3e1978c82c976d5   \n",
       "9   029c1c588047f1d612a219ee15494d2d19ff7439   \n",
       "10  03ce432f27c7df6af22b92245a614db2ecb5de5f   \n",
       "11  03ea3a614b56409d3f099c9ad764864293132540   \n",
       "12  04030bba3035a58c7725ae267973206f6eb6c0b4   \n",
       "13  041bae0a6de2b69979d39460b3f2ee8946534ec2   \n",
       "14  05082393ba4c7ec530190dd887d99c74fd72f6d6   \n",
       "15  05d47dd5b46f86428de058db4ecc8bca76a9ad16   \n",
       "16  05d99c07db59b6948e39bfa62c2cbbf62944059a   \n",
       "17  0624a12abfe85c8b5070850d912a2db4cd453236   \n",
       "18  06a1002f9fbea7179ac3572843f66b14568af6e4   \n",
       "19  06c1b3535b83251cf92c01258b5048beeab7a460   \n",
       "20  07e833d0917cace550853f72923856d0fe1a7120   \n",
       "21  08660499ee722a74043f8417faee3e1eeb9d0f5f   \n",
       "22  08a22278486e12768ce186677a6a89663d24586f   \n",
       "23  090b6c8b3df30bc248221869f673a2d970caa1b9   \n",
       "24  091a8e9a61e19e88caeb039f0e3888d111b20439   \n",
       "25  09b6706748f0c1ae0da436ac2dfac9052b84e4ea   \n",
       "26  09c9fcabc66a106e01ef42247cbd86b6d85bd67f   \n",
       "27  09ec8daa8e32168d92d05b86de1784c639685fb4   \n",
       "28  0a32446730827ad8152c6a61e4738e4e0b231412   \n",
       "29  0a43046c154d0e521a6c425df215d90f3c62681e   \n",
       "\n",
       "                                                Title  \\\n",
       "0   The RNA pseudoknots in foot-and-mouth disease ...   \n",
       "1   Healthcare-resource-adjusted vulnerabilities t...   \n",
       "2   Real-time, MinION-based, amplicon sequencing f...   \n",
       "3   A Combined Evidence Approach to Prioritize Nip...   \n",
       "4   Assessing spread risk of Wuhan novel coronavir...   \n",
       "5   TWIRLS, an automated topic-wise inference meth...   \n",
       "6   Title: Viruses are a dominant driver of protei...   \n",
       "7   The impact of regular school closure on season...   \n",
       "8   Carbon Nanocarriers Deliver siRNA to Intact Pl...   \n",
       "9   Protective Population Behavior Change in Outbr...   \n",
       "10  A hidden gene in astroviruses encodes a cell-p...   \n",
       "11  Live-cell single RNA imaging reveals bursts of...   \n",
       "12  Development and Evaluation of A CRISPR-based D...   \n",
       "13  Estimation of the final size of the second pha...   \n",
       "14  Self-assembly of the RZZ complex into filament...   \n",
       "15  Development of CRISPR as a prophylactic strate...   \n",
       "16  A spatial model of CoVID-19 transmission in En...   \n",
       "17     TALC: Transcription Aware Long Read Correction   \n",
       "18  Nelfinavir was predicted to be a potential inh...   \n",
       "19  Beyond R 0 : the importance of contact tracing...   \n",
       "20  Mycroft-West et al. (2020) Running title: SARS...   \n",
       "21  International travelers and genomics uncover a...   \n",
       "22  Complemented palindrome small RNAs first disco...   \n",
       "23  Quantifying the success of measles vaccination...   \n",
       "24  Epidemiological characteristics of 1212 COVID-...   \n",
       "25  Cryo-EM structures of HKU2 and SADS-CoV spike ...   \n",
       "26  Mono-ADP-ribosylation by ARTD10 restricts Chik...   \n",
       "27  The influenza A virus endoribonuclease PA-X us...   \n",
       "28  Artesunate interacts with Vitamin D receptor t...   \n",
       "29  Full Title: Comparisons of a Novel Air Samplin...   \n",
       "\n",
       "                                             Abstract  \\\n",
       "0    word count: 194 22 Text word count: 5168 23 2...   \n",
       "1                                                 NaN   \n",
       "2    Infectious bronchitis (IB) causes significant...   \n",
       "3    Nipah Virus (NiV) came into limelight recentl...   \n",
       "4    Background: A novel coronavirus (2019-nCoV) e...   \n",
       "5    Faced with the current large-scale public hea...   \n",
       "6    Viruses interact with hundreds to thousands o...   \n",
       "7    School closure is often considered as an opti...   \n",
       "8    Post-transcriptional gene silencing (PTGS) is...   \n",
       "9                                                 NaN   \n",
       "10   Human astroviruses are small nonenveloped vir...   \n",
       "11   Ribosomal frameshifting during the translatio...   \n",
       "12   The recent outbreak of infections by the 2019...   \n",
       "13   In the note, the logistic growth regression m...   \n",
       "14                                                NaN   \n",
       "15                                                NaN   \n",
       "16   An outbreak of a novel coronavirus, named CoV...   \n",
       "17   Long-read sequencing technologies are invalua...   \n",
       "18   2019-nCov has caused more than 80 deaths as o...   \n",
       "19   The basic reproductive number -R 0 -is one of...   \n",
       "20   Many pathogens take advantage of the dependen...   \n",
       "21   The ongoing Zika epidemic in the Americas has...   \n",
       "22   In this study, we reported for the first time...   \n",
       "23   In the wake of the Rohingya population's mass...   \n",
       "24   Based on publicly released data for 1212 pati...   \n",
       "25   A new porcine coronavirus SADS-CoV was recent...   \n",
       "26   24 A subset of intracellular mono-ADP-ribosyl...   \n",
       "27                                                NaN   \n",
       "28                                                NaN   \n",
       "29   300 words) 33 Quantification of aerosolized i...   \n",
       "\n",
       "                                             Document         Filepath  \n",
       "0    VP3, and VP0 (which is further processed to V...  biorxiv_medrxiv  \n",
       "1    The 2019-nCoV epidemic has spread across Chin...  biorxiv_medrxiv  \n",
       "2    Infectious bronchitis (IB), which is caused b...  biorxiv_medrxiv  \n",
       "3    Nipah is an infectious negative-sense single-...  biorxiv_medrxiv  \n",
       "4    In December 2019, a cluster of patients with ...  biorxiv_medrxiv  \n",
       "5    The sudden outbreak of the new coronavirus (S...  biorxiv_medrxiv  \n",
       "6    The copyright holder for this preprint (which...  biorxiv_medrxiv  \n",
       "7    they affect seasonal influenza dynamics. The ...  biorxiv_medrxiv  \n",
       "8    siRNA without relying on plant transformation...  biorxiv_medrxiv  \n",
       "9    estimation is complicated, however, by effort...  biorxiv_medrxiv  \n",
       "10   Humans astroviruses (HAstVs) belong to genus ...  biorxiv_medrxiv  \n",
       "11   Frameshifting is a fundamental biological pro...  biorxiv_medrxiv  \n",
       "12   Since the beginning of 2020, a surging number...  biorxiv_medrxiv  \n",
       "13   however, use approximate solution and thus ob...  biorxiv_medrxiv  \n",
       "14   To examine the role of the kinetochore dynein...  biorxiv_medrxiv  \n",
       "15   The world is currently faced with a pandemic ...  biorxiv_medrxiv  \n",
       "16   An outbreak of a novel coronavirus, recently ...  biorxiv_medrxiv  \n",
       "17   Recent advances in RNA sequencing (RNA-seq) t...  biorxiv_medrxiv  \n",
       "18   In December 2019, cluster of patients with pn...  biorxiv_medrxiv  \n",
       "19   The basic reproductive number -R 0 -is one of...  biorxiv_medrxiv  \n",
       "20   Heparin, the second most widely used drug by ...  biorxiv_medrxiv  \n",
       "21   The recent Zika epidemic in the Americas is a...  biorxiv_medrxiv  \n",
       "22   In this study, we reported for the first time...  biorxiv_medrxiv  \n",
       "23   3 . CC-BY-NC-ND 4.0 International license It ...  biorxiv_medrxiv  \n",
       "24   Arising from Wuhan South China seafood market...  biorxiv_medrxiv  \n",
       "25   However, the molecular mechanisms underlying ...  biorxiv_medrxiv  \n",
       "26   . CC-BY-NC-ND 4.0 International license autho...  biorxiv_medrxiv  \n",
       "27   Many viruses globally shut off host gene expr...  biorxiv_medrxiv  \n",
       "28   Sepsis is a leading cause of death worldwide ...  biorxiv_medrxiv  \n",
       "29   Introduction minimize the effects of sampling...  biorxiv_medrxiv  "
      ]
     },
     "execution_count": 147,
     "metadata": {},
     "output_type": "execute_result"
    }
   ],
   "source": [
    "kaggledf.head(30)"
   ]
  },
  {
   "cell_type": "code",
   "execution_count": 125,
   "metadata": {},
   "outputs": [
    {
     "data": {
      "text/plain": [
       "(33224, 5)"
      ]
     },
     "execution_count": 125,
     "metadata": {},
     "output_type": "execute_result"
    }
   ],
   "source": [
    "kaggledf.shape"
   ]
  },
  {
   "cell_type": "code",
   "execution_count": 145,
   "metadata": {},
   "outputs": [],
   "source": [
    "#Replacing the cells with only white space with na\n",
    "kaggledf = kaggledf.replace(r'^\\s*$', np.nan, regex=True)"
   ]
  },
  {
   "cell_type": "code",
   "execution_count": 146,
   "metadata": {},
   "outputs": [
    {
     "data": {
      "text/plain": [
       "ID             0\n",
       "Title       3649\n",
       "Abstract    8528\n",
       "Document       0\n",
       "Filepath       0\n",
       "dtype: int64"
      ]
     },
     "execution_count": 146,
     "metadata": {},
     "output_type": "execute_result"
    }
   ],
   "source": [
    "#Count of missing values per column\n",
    "kaggledf.isna().sum()"
   ]
  },
  {
   "cell_type": "code",
   "execution_count": 148,
   "metadata": {},
   "outputs": [
    {
     "data": {
      "text/plain": [
       "custom_license        20657\n",
       "comm_use_subset        9315\n",
       "noncomm_use_subset     2350\n",
       "biorxiv_medrxiv         902\n",
       "Name: Filepath, dtype: int64"
      ]
     },
     "execution_count": 148,
     "metadata": {},
     "output_type": "execute_result"
    }
   ],
   "source": [
    "#How many of each document type?\n",
    "pd.value_counts(kaggledf.Filepath)\n"
   ]
  },
  {
   "cell_type": "code",
   "execution_count": null,
   "metadata": {},
   "outputs": [],
   "source": []
  },
  {
   "cell_type": "markdown",
   "metadata": {},
   "source": [
    "# Looking at Metadata csv and merging with kaggledf"
   ]
  },
  {
   "cell_type": "code",
   "execution_count": 127,
   "metadata": {},
   "outputs": [
    {
     "name": "stdout",
     "output_type": "stream",
     "text": [
      "C:\\Users\\lbrig\\Documents\\GRAD SCHOOL\\Semester 3\\Covid19 Kaggle\n"
     ]
    }
   ],
   "source": [
    "#New directory\n",
    "%cd \"C:\\Users\\lbrig\\Documents\\GRAD SCHOOL\\Semester 3\\Covid19 Kaggle\""
   ]
  },
  {
   "cell_type": "code",
   "execution_count": 128,
   "metadata": {},
   "outputs": [],
   "source": [
    "meta=pd.read_csv(\"metadata.csv\", usecols= [1, 3, 8, 10, 14, 15])"
   ]
  },
  {
   "cell_type": "code",
   "execution_count": 129,
   "metadata": {},
   "outputs": [
    {
     "data": {
      "text/plain": [
       "(45774, 6)"
      ]
     },
     "execution_count": 129,
     "metadata": {},
     "output_type": "execute_result"
    }
   ],
   "source": [
    "meta.shape"
   ]
  },
  {
   "cell_type": "code",
   "execution_count": 130,
   "metadata": {},
   "outputs": [],
   "source": [
    "#Split the IDs into multiple columns\n",
    "m2= meta.sha.str.split(\";\", expand=True)"
   ]
  },
  {
   "cell_type": "code",
   "execution_count": 131,
   "metadata": {},
   "outputs": [],
   "source": [
    "#Add a prefix to these columns \n",
    "m2=m2.add_prefix('ID_')"
   ]
  },
  {
   "cell_type": "code",
   "execution_count": 132,
   "metadata": {},
   "outputs": [],
   "source": [
    "#Concat the ID columns and metadata\n",
    "result = pd.concat([m2, meta], axis=1, sort=False)"
   ]
  },
  {
   "cell_type": "code",
   "execution_count": 133,
   "metadata": {},
   "outputs": [
    {
     "data": {
      "text/plain": [
       "(45774, 12)"
      ]
     },
     "execution_count": 133,
     "metadata": {},
     "output_type": "execute_result"
    }
   ],
   "source": [
    "result.shape"
   ]
  },
  {
   "cell_type": "code",
   "execution_count": 134,
   "metadata": {},
   "outputs": [],
   "source": [
    "#Drop columns\n",
    "result=result.drop(columns=['sha', 'ID_1', 'ID_2', 'ID_3', 'ID_4', 'ID_5'])"
   ]
  },
  {
   "cell_type": "code",
   "execution_count": 135,
   "metadata": {},
   "outputs": [],
   "source": [
    "merged= result.merge(kaggledf, how= 'left', left_on='ID_0', right_on= 'ID')"
   ]
  },
  {
   "cell_type": "code",
   "execution_count": 136,
   "metadata": {},
   "outputs": [
    {
     "data": {
      "text/plain": [
       "(45774, 11)"
      ]
     },
     "execution_count": 136,
     "metadata": {},
     "output_type": "execute_result"
    }
   ],
   "source": [
    "merged.shape"
   ]
  },
  {
   "cell_type": "code",
   "execution_count": 137,
   "metadata": {},
   "outputs": [
    {
     "data": {
      "text/html": [
       "<div>\n",
       "<style scoped>\n",
       "    .dataframe tbody tr th:only-of-type {\n",
       "        vertical-align: middle;\n",
       "    }\n",
       "\n",
       "    .dataframe tbody tr th {\n",
       "        vertical-align: top;\n",
       "    }\n",
       "\n",
       "    .dataframe thead th {\n",
       "        text-align: right;\n",
       "    }\n",
       "</style>\n",
       "<table border=\"1\" class=\"dataframe\">\n",
       "  <thead>\n",
       "    <tr style=\"text-align: right;\">\n",
       "      <th></th>\n",
       "      <th>ID_0</th>\n",
       "      <th>title</th>\n",
       "      <th>abstract</th>\n",
       "      <th>authors</th>\n",
       "      <th>has_full_text</th>\n",
       "      <th>full_text_file</th>\n",
       "      <th>ID</th>\n",
       "      <th>Title</th>\n",
       "      <th>Abstract</th>\n",
       "      <th>Document</th>\n",
       "      <th>Filepath</th>\n",
       "    </tr>\n",
       "  </thead>\n",
       "  <tbody>\n",
       "    <tr>\n",
       "      <td>45769</td>\n",
       "      <td>289deae0b2050aa259a05ba84565a4df82fa099a</td>\n",
       "      <td>Personal Protective Equipment: Protecting Heal...</td>\n",
       "      <td>Abstract Purpose The recent Ebola epidemic tha...</td>\n",
       "      <td>Fischer, William A.; Weber, David J.; Wohl, Da...</td>\n",
       "      <td>True</td>\n",
       "      <td>custom_license</td>\n",
       "      <td>289deae0b2050aa259a05ba84565a4df82fa099a</td>\n",
       "      <td>Personal Protective Equipment: Protecting Heal...</td>\n",
       "      <td>Purpose: The recent Ebola epidemic that devas...</td>\n",
       "      <td>The recent Ebola epidemic that devastated Wes...</td>\n",
       "      <td>custom_license</td>\n",
       "    </tr>\n",
       "    <tr>\n",
       "      <td>45770</td>\n",
       "      <td>21a4369f83891bf6975dd916c0aa495d5df8709e</td>\n",
       "      <td>Viruses and asthma</td>\n",
       "      <td>Abstract Background Viral respiratory infectio...</td>\n",
       "      <td>Dulek, Daniel E.; Peebles, R. Stokes</td>\n",
       "      <td>True</td>\n",
       "      <td>custom_license</td>\n",
       "      <td>21a4369f83891bf6975dd916c0aa495d5df8709e</td>\n",
       "      <td>Viruses and asthma ☆</td>\n",
       "      <td>Background: Viral respiratory infection has l...</td>\n",
       "      <td>Asthma is a complex disease regulated by both...</td>\n",
       "      <td>custom_license</td>\n",
       "    </tr>\n",
       "    <tr>\n",
       "      <td>45771</td>\n",
       "      <td>NaN</td>\n",
       "      <td>Why the WHO won't use the p-word</td>\n",
       "      <td>There are no criteria for a pandemic, but covi...</td>\n",
       "      <td>MacKenzie, Debora</td>\n",
       "      <td>False</td>\n",
       "      <td>custom_license</td>\n",
       "      <td>NaN</td>\n",
       "      <td>NaN</td>\n",
       "      <td>NaN</td>\n",
       "      <td>NaN</td>\n",
       "      <td>NaN</td>\n",
       "    </tr>\n",
       "    <tr>\n",
       "      <td>45772</td>\n",
       "      <td>NaN</td>\n",
       "      <td>Communication, transparency key as Canada face...</td>\n",
       "      <td>NaN</td>\n",
       "      <td>Glauser, Wendy</td>\n",
       "      <td>False</td>\n",
       "      <td>NaN</td>\n",
       "      <td>NaN</td>\n",
       "      <td>NaN</td>\n",
       "      <td>NaN</td>\n",
       "      <td>NaN</td>\n",
       "      <td>NaN</td>\n",
       "    </tr>\n",
       "    <tr>\n",
       "      <td>45773</td>\n",
       "      <td>3369a14e1d116943f48b3a33597796c9802de279</td>\n",
       "      <td>Searching for animal models and potential targ...</td>\n",
       "      <td>Emerging and re-emerging pathogens represent a...</td>\n",
       "      <td>Vergara-Alert, Júlia; Vidal, Enric; Bensaid, A...</td>\n",
       "      <td>True</td>\n",
       "      <td>noncomm_use_subset</td>\n",
       "      <td>3369a14e1d116943f48b3a33597796c9802de279</td>\n",
       "      <td>Searching for animal models and potential targ...</td>\n",
       "      <td>Emerging and re-emerging pathogens represent ...</td>\n",
       "      <td>Searching for animal models and potential tar...</td>\n",
       "      <td>noncomm_use_subset</td>\n",
       "    </tr>\n",
       "  </tbody>\n",
       "</table>\n",
       "</div>"
      ],
      "text/plain": [
       "                                           ID_0  \\\n",
       "45769  289deae0b2050aa259a05ba84565a4df82fa099a   \n",
       "45770  21a4369f83891bf6975dd916c0aa495d5df8709e   \n",
       "45771                                       NaN   \n",
       "45772                                       NaN   \n",
       "45773  3369a14e1d116943f48b3a33597796c9802de279   \n",
       "\n",
       "                                                   title  \\\n",
       "45769  Personal Protective Equipment: Protecting Heal...   \n",
       "45770                                 Viruses and asthma   \n",
       "45771                   Why the WHO won't use the p-word   \n",
       "45772  Communication, transparency key as Canada face...   \n",
       "45773  Searching for animal models and potential targ...   \n",
       "\n",
       "                                                abstract  \\\n",
       "45769  Abstract Purpose The recent Ebola epidemic tha...   \n",
       "45770  Abstract Background Viral respiratory infectio...   \n",
       "45771  There are no criteria for a pandemic, but covi...   \n",
       "45772                                                NaN   \n",
       "45773  Emerging and re-emerging pathogens represent a...   \n",
       "\n",
       "                                                 authors  has_full_text  \\\n",
       "45769  Fischer, William A.; Weber, David J.; Wohl, Da...           True   \n",
       "45770               Dulek, Daniel E.; Peebles, R. Stokes           True   \n",
       "45771                                  MacKenzie, Debora          False   \n",
       "45772                                     Glauser, Wendy          False   \n",
       "45773  Vergara-Alert, Júlia; Vidal, Enric; Bensaid, A...           True   \n",
       "\n",
       "           full_text_file                                        ID  \\\n",
       "45769      custom_license  289deae0b2050aa259a05ba84565a4df82fa099a   \n",
       "45770      custom_license  21a4369f83891bf6975dd916c0aa495d5df8709e   \n",
       "45771      custom_license                                       NaN   \n",
       "45772                 NaN                                       NaN   \n",
       "45773  noncomm_use_subset  3369a14e1d116943f48b3a33597796c9802de279   \n",
       "\n",
       "                                                   Title  \\\n",
       "45769  Personal Protective Equipment: Protecting Heal...   \n",
       "45770                               Viruses and asthma ☆   \n",
       "45771                                                NaN   \n",
       "45772                                                NaN   \n",
       "45773  Searching for animal models and potential targ...   \n",
       "\n",
       "                                                Abstract  \\\n",
       "45769   Purpose: The recent Ebola epidemic that devas...   \n",
       "45770   Background: Viral respiratory infection has l...   \n",
       "45771                                                NaN   \n",
       "45772                                                NaN   \n",
       "45773   Emerging and re-emerging pathogens represent ...   \n",
       "\n",
       "                                                Document            Filepath  \n",
       "45769   The recent Ebola epidemic that devastated Wes...      custom_license  \n",
       "45770   Asthma is a complex disease regulated by both...      custom_license  \n",
       "45771                                                NaN                 NaN  \n",
       "45772                                                NaN                 NaN  \n",
       "45773   Searching for animal models and potential tar...  noncomm_use_subset  "
      ]
     },
     "execution_count": 137,
     "metadata": {},
     "output_type": "execute_result"
    }
   ],
   "source": [
    "merged.tail()"
   ]
  },
  {
   "cell_type": "code",
   "execution_count": 138,
   "metadata": {},
   "outputs": [
    {
     "data": {
      "text/plain": [
       "True     31753\n",
       "False    14021\n",
       "Name: has_full_text, dtype: int64"
      ]
     },
     "execution_count": 138,
     "metadata": {},
     "output_type": "execute_result"
    }
   ],
   "source": [
    "pd.value_counts(merged.has_full_text)"
   ]
  },
  {
   "cell_type": "code",
   "execution_count": null,
   "metadata": {},
   "outputs": [],
   "source": []
  }
 ],
 "metadata": {
  "kernelspec": {
   "display_name": "Python 3",
   "language": "python",
   "name": "python3"
  },
  "language_info": {
   "codemirror_mode": {
    "name": "ipython",
    "version": 3
   },
   "file_extension": ".py",
   "mimetype": "text/x-python",
   "name": "python",
   "nbconvert_exporter": "python",
   "pygments_lexer": "ipython3",
   "version": "3.7.4"
  }
 },
 "nbformat": 4,
 "nbformat_minor": 2
}
