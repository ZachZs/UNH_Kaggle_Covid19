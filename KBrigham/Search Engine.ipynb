{
 "cells": [
  {
   "cell_type": "markdown",
   "metadata": {},
   "source": [
    "## Import Dependencies, Set Directory, Load in DF from pickle file "
   ]
  },
  {
   "cell_type": "code",
   "execution_count": 100,
   "metadata": {},
   "outputs": [],
   "source": [
    "import numpy as np\n",
    "import pandas as pd\n",
    "from sklearn.feature_extraction.text import TfidfVectorizer\n",
    "from sklearn.feature_extraction.text import CountVectorizer\n",
    "from sklearn.metrics.pairwise import cosine_similarity\n",
    "from nltk.corpus import stopwords\n",
    "from datetime import datetime\n",
    "\n",
    "import pickle"
   ]
  },
  {
   "cell_type": "code",
   "execution_count": 101,
   "metadata": {},
   "outputs": [
    {
     "name": "stdout",
     "output_type": "stream",
     "text": [
      "C:\\Users\\lbrig\\Documents\\GRAD SCHOOL\\Semester 3\\Covid19 Kaggle\n"
     ]
    }
   ],
   "source": [
    "#Set Directory\n",
    "%cd \"C:\\Users\\lbrig\\Documents\\GRAD SCHOOL\\Semester 3\\Covid19 Kaggle\""
   ]
  },
  {
   "cell_type": "code",
   "execution_count": 102,
   "metadata": {},
   "outputs": [
    {
     "name": "stdout",
     "output_type": "stream",
     "text": [
      "Loaded model from: kdfeng.pickle.dat\n"
     ]
    }
   ],
   "source": [
    "#Load in Kaggle Documents with Column of Tokenized Words from Processing and KMeans Notebook\n",
    "\n",
    "kdfeng = pickle.load(open(\"kdfeng.pickle.dat\", \"rb\")) \n",
    "print(\"Loaded model from: kdfeng.pickle.dat\")"
   ]
  },
  {
   "cell_type": "code",
   "execution_count": 103,
   "metadata": {},
   "outputs": [
    {
     "data": {
      "text/html": [
       "<div>\n",
       "<style scoped>\n",
       "    .dataframe tbody tr th:only-of-type {\n",
       "        vertical-align: middle;\n",
       "    }\n",
       "\n",
       "    .dataframe tbody tr th {\n",
       "        vertical-align: top;\n",
       "    }\n",
       "\n",
       "    .dataframe thead th {\n",
       "        text-align: right;\n",
       "    }\n",
       "</style>\n",
       "<table border=\"1\" class=\"dataframe\">\n",
       "  <thead>\n",
       "    <tr style=\"text-align: right;\">\n",
       "      <th></th>\n",
       "      <th>ID</th>\n",
       "      <th>Title</th>\n",
       "      <th>Abstract</th>\n",
       "      <th>Document</th>\n",
       "      <th>Filepath</th>\n",
       "      <th>Detected Language</th>\n",
       "      <th>Tokenized</th>\n",
       "    </tr>\n",
       "  </thead>\n",
       "  <tbody>\n",
       "    <tr>\n",
       "      <td>0</td>\n",
       "      <td>0015023cc06b5362d332b3baf348d11567ca2fbb</td>\n",
       "      <td>The RNA pseudoknots in foot-and-mouth disease ...</td>\n",
       "      <td>word count: 194 22 Text word count: 5168 23 2...</td>\n",
       "      <td>VP3, and VP0 (which is further processed to V...</td>\n",
       "      <td>biorxiv_medrxiv</td>\n",
       "      <td>en</td>\n",
       "      <td>[process, viru, assembl, region, encod, protei...</td>\n",
       "    </tr>\n",
       "    <tr>\n",
       "      <td>1</td>\n",
       "      <td>00340eea543336d54adda18236424de6a5e91c9d</td>\n",
       "      <td>Analysis Title: Regaining perspective on SARS-...</td>\n",
       "      <td>During the past three months, a new coronavir...</td>\n",
       "      <td>In December 2019, a novel coronavirus, SARS-C...</td>\n",
       "      <td>biorxiv_medrxiv</td>\n",
       "      <td>en</td>\n",
       "      <td>[decemb, novel, coronaviru, identifi, wuhan, c...</td>\n",
       "    </tr>\n",
       "    <tr>\n",
       "      <td>2</td>\n",
       "      <td>004f0f8bb66cf446678dc13cf2701feec4f36d76</td>\n",
       "      <td>Healthcare-resource-adjusted vulnerabilities t...</td>\n",
       "      <td>NaN</td>\n",
       "      <td>The 2019-nCoV epidemic has spread across Chin...</td>\n",
       "      <td>biorxiv_medrxiv</td>\n",
       "      <td>en</td>\n",
       "      <td>[epidem, spread, across, china, countri, febru...</td>\n",
       "    </tr>\n",
       "    <tr>\n",
       "      <td>3</td>\n",
       "      <td>00d16927588fb04d4be0e6b269fc02f0d3c2aa7b</td>\n",
       "      <td>Real-time, MinION-based, amplicon sequencing f...</td>\n",
       "      <td>Infectious bronchitis (IB) causes significant...</td>\n",
       "      <td>Infectious bronchitis (IB), which is caused b...</td>\n",
       "      <td>biorxiv_medrxiv</td>\n",
       "      <td>en</td>\n",
       "      <td>[infecti, bronchiti, ib, caus, infecti, bronch...</td>\n",
       "    </tr>\n",
       "    <tr>\n",
       "      <td>4</td>\n",
       "      <td>0139ea4ca580af99b602c6435368e7fdbefacb03</td>\n",
       "      <td>A Combined Evidence Approach to Prioritize Nip...</td>\n",
       "      <td>Nipah Virus (NiV) came into limelight recentl...</td>\n",
       "      <td>Nipah is an infectious negative-sense single-...</td>\n",
       "      <td>biorxiv_medrxiv</td>\n",
       "      <td>en</td>\n",
       "      <td>[nipah, infecti, rna, viru, belong, genu, heni...</td>\n",
       "    </tr>\n",
       "  </tbody>\n",
       "</table>\n",
       "</div>"
      ],
      "text/plain": [
       "                                         ID  \\\n",
       "0  0015023cc06b5362d332b3baf348d11567ca2fbb   \n",
       "1  00340eea543336d54adda18236424de6a5e91c9d   \n",
       "2  004f0f8bb66cf446678dc13cf2701feec4f36d76   \n",
       "3  00d16927588fb04d4be0e6b269fc02f0d3c2aa7b   \n",
       "4  0139ea4ca580af99b602c6435368e7fdbefacb03   \n",
       "\n",
       "                                               Title  \\\n",
       "0  The RNA pseudoknots in foot-and-mouth disease ...   \n",
       "1  Analysis Title: Regaining perspective on SARS-...   \n",
       "2  Healthcare-resource-adjusted vulnerabilities t...   \n",
       "3  Real-time, MinION-based, amplicon sequencing f...   \n",
       "4  A Combined Evidence Approach to Prioritize Nip...   \n",
       "\n",
       "                                            Abstract  \\\n",
       "0   word count: 194 22 Text word count: 5168 23 2...   \n",
       "1   During the past three months, a new coronavir...   \n",
       "2                                                NaN   \n",
       "3   Infectious bronchitis (IB) causes significant...   \n",
       "4   Nipah Virus (NiV) came into limelight recentl...   \n",
       "\n",
       "                                            Document         Filepath  \\\n",
       "0   VP3, and VP0 (which is further processed to V...  biorxiv_medrxiv   \n",
       "1   In December 2019, a novel coronavirus, SARS-C...  biorxiv_medrxiv   \n",
       "2   The 2019-nCoV epidemic has spread across Chin...  biorxiv_medrxiv   \n",
       "3   Infectious bronchitis (IB), which is caused b...  biorxiv_medrxiv   \n",
       "4   Nipah is an infectious negative-sense single-...  biorxiv_medrxiv   \n",
       "\n",
       "  Detected Language                                          Tokenized  \n",
       "0                en  [process, viru, assembl, region, encod, protei...  \n",
       "1                en  [decemb, novel, coronaviru, identifi, wuhan, c...  \n",
       "2                en  [epidem, spread, across, china, countri, febru...  \n",
       "3                en  [infecti, bronchiti, ib, caus, infecti, bronch...  \n",
       "4                en  [nipah, infecti, rna, viru, belong, genu, heni...  "
      ]
     },
     "execution_count": 103,
     "metadata": {},
     "output_type": "execute_result"
    }
   ],
   "source": [
    "kdfeng.head()"
   ]
  },
  {
   "cell_type": "markdown",
   "metadata": {},
   "source": [
    "## Fit TFIDF Vectorizer  to text within documents "
   ]
  },
  {
   "cell_type": "code",
   "execution_count": 107,
   "metadata": {},
   "outputs": [],
   "source": [
    "#Create stopword list\n",
    "\n",
    "stop_words = stopwords.words('english')\n",
    "# Additions to the stop word list\n",
    "stop_words.extend([\"copyright\", 'preprint', 'biorxiv', 'et', 'medrxiv', 'doi', 'holder', 'license', 'al', 'fig', 'also', 'may' ])"
   ]
  },
  {
   "cell_type": "code",
   "execution_count": 108,
   "metadata": {},
   "outputs": [],
   "source": [
    "#Create tfidf vectorizer, removing the stopwords above and changed token patterns to ignore numbers\n",
    "vectorizer=TfidfVectorizer(stop_words=stop_words, token_pattern=u'(?ui)\\\\b\\\\w*[a-z]+\\\\w*\\\\b')"
   ]
  },
  {
   "cell_type": "code",
   "execution_count": 109,
   "metadata": {},
   "outputs": [
    {
     "name": "stdout",
     "output_type": "stream",
     "text": [
      "Run time:  0:04:55.925960\n"
     ]
    }
   ],
   "source": [
    "#Converts the text for each document into TF-IDF scores \n",
    "\n",
    "start=datetime.now()\n",
    "\n",
    "tfidf=vectorizer.fit_transform(kdfeng['Document'])\n",
    "\n",
    "end=datetime.now()\n",
    "\n",
    "print(\"Run time: \", end-start)"
   ]
  },
  {
   "cell_type": "code",
   "execution_count": 110,
   "metadata": {},
   "outputs": [
    {
     "data": {
      "text/plain": [
       "(32632, 708127)"
      ]
     },
     "execution_count": 110,
     "metadata": {},
     "output_type": "execute_result"
    }
   ],
   "source": [
    "#Shape is (# of documents, # of words in vocabulary)\n",
    "\n",
    "tfidf.shape"
   ]
  },
  {
   "cell_type": "code",
   "execution_count": 111,
   "metadata": {},
   "outputs": [],
   "source": [
    "#List of features for the graph below\n",
    "feats=vectorizer.get_feature_names()"
   ]
  },
  {
   "cell_type": "code",
   "execution_count": 112,
   "metadata": {},
   "outputs": [
    {
     "data": {
      "image/png": "[encoded data removed]",
      "text/plain": [
       "<Figure size 432x288 with 1 Axes>"
      ]
     },
     "metadata": {
      "needs_background": "light"
     },
     "output_type": "display_data"
    },
    {
     "data": {
      "text/plain": [
       "<matplotlib.axes._subplots.AxesSubplot at 0x22f47569088>"
      ]
     },
     "execution_count": 112,
     "metadata": {},
     "output_type": "execute_result"
    }
   ],
   "source": [
    "#Sum of the TFIDF scores for each word, top 20 most relevant words\n",
    "#Axis is misleading, not a frequency distribution\n",
    "\n",
    "from yellowbrick.text import FreqDistVisualizer\n",
    "%matplotlib inline\n",
    "import matplotlib.pyplot as plt\n",
    "\n",
    "visualizer = FreqDistVisualizer(features=feats, orient='v', color='purple', n=20)\n",
    "visualizer.fit(tfidf)\n",
    "visualizer.show()"
   ]
  },
  {
   "cell_type": "markdown",
   "metadata": {},
   "source": [
    "## Create a Query, Fit TFIDF Vectorizer\n",
    "\n",
    "## Get Cosine Similarities for Query and Documents\n",
    "\n",
    "## For Top 15 Cosine Similarities, Print Document Titles"
   ]
  },
  {
   "cell_type": "code",
   "execution_count": 121,
   "metadata": {},
   "outputs": [],
   "source": [
    "#Create a query\n",
    "query= \"mers and sars\"\n",
    "\n",
    "#Create a TF-IDF vector representation of the query\n",
    "query_vec=vectorizer.transform([query])"
   ]
  },
  {
   "cell_type": "code",
   "execution_count": 122,
   "metadata": {},
   "outputs": [],
   "source": [
    "#Get cosine similarities for the query and the documents \n",
    "\n",
    "results = cosine_similarity(tfidf,query_vec).reshape((-1,))"
   ]
  },
  {
   "cell_type": "code",
   "execution_count": 123,
   "metadata": {},
   "outputs": [
    {
     "name": "stdout",
     "output_type": "stream",
     "text": [
      "nan\n",
      "-----------\n",
      "Middle East Respiratory Syndrome Coronavirus ''MERS-CoV'': Current Knowledge Gaps\n",
      "-----------\n",
      "Seminar Middle East respiratory syndrome\n",
      "-----------\n",
      "nan\n",
      "-----------\n",
      "The Middle East Respiratory Syndrome (MERS)\n",
      "-----------\n",
      "MERS-coronavirus: From discovery to intervention-NC-ND license (http://creativecommons.org/licenses/by-nc-nd/4.0/)\n",
      "-----------\n",
      "MERS-coronavirus: From discovery to intervention-NC-ND license (http://creativecommons.org/licenses/by-nc-nd/4.0/)\n",
      "-----------\n",
      "Surveillance of the Middle East respiratory syndrome (MERS) coronavirus (CoV) infection in healthcare workers after contact with confirmed MERS patients: incidence and risk factors of MERS-CoV seropositivity\n",
      "-----------\n",
      "From SARS to MERS: evidence and speculation\n",
      "-----------\n",
      "Vaccines for the prevention against the threat of MERS-CoV\n",
      "-----------\n",
      "Travel implications of emerging coronaviruses: SARS and MERS-CoV\n",
      "-----------\n",
      "nan\n",
      "-----------\n",
      "Middle East respiratory syndrome coronavirus infection: virus-host cell interactions and implications on pathogenesis\n",
      "-----------\n",
      "An Opportunistic Pathogen Afforded Ample Opportunities: Middle East Respiratory Syndrome Coronavirus\n",
      "-----------\n",
      "Towards a solution to MERS: protective human monoclonal antibodies targeting different domains and functions of the MERS-coronavirus spike glycoprotein\n",
      "-----------\n"
     ]
    }
   ],
   "source": [
    "#Get the top 15 cosign similarities and print the names of the documents\n",
    "#3349 documents don't have names (if nan shows up)\n",
    "\n",
    "#Argsort to produce the indices that would order the row by cosign similarity value,\n",
    "#reverse them (into descending order), and select the first 15\n",
    "\n",
    "\n",
    "for i in results.argsort()[::-1][:15]:\n",
    "    print(kdfeng.iloc[i,1])\n",
    "    print(\"-----------\")"
   ]
  },
  {
   "cell_type": "code",
   "execution_count": 124,
   "metadata": {},
   "outputs": [
    {
     "data": {
      "text/plain": [
       "ID                      0\n",
       "Title                3349\n",
       "Abstract             8177\n",
       "Document                0\n",
       "Filepath                0\n",
       "Detected Language       0\n",
       "Tokenized               0\n",
       "dtype: int64"
      ]
     },
     "execution_count": 124,
     "metadata": {},
     "output_type": "execute_result"
    }
   ],
   "source": [
    "#Count of missing values per column\n",
    "kdfeng.isna().sum()\n",
    "\n",
    "#3349 documents don't have titles"
   ]
  },
  {
   "cell_type": "code",
   "execution_count": null,
   "metadata": {},
   "outputs": [],
   "source": []
  }
 ],
 "metadata": {
  "kernelspec": {
   "display_name": "Python 3",
   "language": "python",
   "name": "python3"
  },
  "language_info": {
   "codemirror_mode": {
    "name": "ipython",
    "version": 3
   },
   "file_extension": ".py",
   "mimetype": "text/x-python",
   "name": "python",
   "nbconvert_exporter": "python",
   "pygments_lexer": "ipython3",
   "version": "3.7.4"
  }
 },
 "nbformat": 4,
 "nbformat_minor": 2
}
