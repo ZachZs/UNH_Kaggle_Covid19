{
  "nbformat": 4,
  "nbformat_minor": 0,
  "metadata": {
    "colab": {
      "name": "word_sen_doc_2_vec.ipynb",
      "provenance": [],
      "toc_visible": true,
      "machine_shape": "hm"
    },
    "kernelspec": {
      "name": "python3",
      "display_name": "Python 3"
    }
  },
  "cells": [
    {
      "cell_type": "markdown",
      "metadata": {
        "id": "WrnCWzL4vMfu",
        "colab_type": "text"
      },
      "source": [
        "# Word to Vector:"
      ]
    },
    {
      "cell_type": "code",
      "metadata": {
        "id": "GMafsQUMmKa7",
        "colab_type": "code",
        "colab": {}
      },
      "source": [
        "import gensim\n",
        "from nltk import sent_tokenize\n",
        "from nltk import word_tokenize\n",
        "from nltk.corpus import stopwords\n",
        "import string\n",
        "import re\n",
        "import pandas as pd\n",
        "import nltk\n",
        "import numpy as np\n",
        "import pickle as pkl"
      ],
      "execution_count": 0,
      "outputs": []
    },
    {
      "cell_type": "code",
      "metadata": {
        "id": "boSOFnTOx9zR",
        "colab_type": "code",
        "colab": {
          "base_uri": "https://localhost:8080/",
          "height": 87
        },
        "outputId": "0eee3422-e2ec-4715-80b4-a241ba342daf"
      },
      "source": [
        "### reading in master df\n",
        "nltk.download('punkt')\n",
        "nltk.download('stopwords')\n",
        "master_text = pd.read_csv('/content/drive/My Drive/covid 19 exploration/df/master_text.csv')"
      ],
      "execution_count": 6,
      "outputs": [
        {
          "output_type": "stream",
          "text": [
            "[nltk_data] Downloading package punkt to /root/nltk_data...\n",
            "[nltk_data]   Package punkt is already up-to-date!\n",
            "[nltk_data] Downloading package stopwords to /root/nltk_data...\n",
            "[nltk_data]   Package stopwords is already up-to-date!\n"
          ],
          "name": "stdout"
        }
      ]
    },
    {
      "cell_type": "markdown",
      "metadata": {
        "id": "wajIszCCIdxv",
        "colab_type": "text"
      },
      "source": [
        "## Training Word2Vec Model:"
      ]
    },
    {
      "cell_type": "code",
      "metadata": {
        "id": "-PRL-PdE9c1_",
        "colab_type": "code",
        "colab": {}
      },
      "source": [
        "def clean(sentence):\n",
        "    tokens = word_tokenize(sentence)\n",
        "    # convert to lower case\n",
        "    tokens = [w.lower() for w in tokens]\n",
        "\n",
        "    # prepare regex for char filtering\n",
        "    re_punc = re.compile('[%s]' % re.escape(string.punctuation))\n",
        "\n",
        "    # remove punctuation from each word\n",
        "    # sub function susbstitutes punctuation with nothing\n",
        "    stripped = [re_punc.sub('', w) for w in tokens]\n",
        "\n",
        "    # remove remaining tokens that are not alphabetic\n",
        "    words = [word for word in stripped if word.isalpha()]\n",
        "\n",
        "    # filter out stop words\n",
        "    stop_words = set(stopwords.words('english'))\n",
        "    words = [w for w in words if not w in stop_words]\n",
        "    return words"
      ],
      "execution_count": 0,
      "outputs": []
    },
    {
      "cell_type": "code",
      "metadata": {
        "id": "aBaPHErz9gMy",
        "colab_type": "code",
        "colab": {}
      },
      "source": [
        "# Applying the aboe function on the corpus of documents\n",
        "# Creating a list of list of tokens for the set of first 100 reviews (calling it corpus)\n",
        "reviews_list=master_text.main_text.to_list()\n",
        "corpus = []\n",
        "for doc in reviews_list:\n",
        "    corpus.append(clean(doc))\n",
        "%cd \"/content/drive/My Drive/covid 19 exploration/word_2_vec\"\n",
        "pkl.dump(corpus, open('corpus.pkl', 'wb'))"
      ],
      "execution_count": 0,
      "outputs": []
    },
    {
      "cell_type": "code",
      "metadata": {
        "id": "fghWdzjOFPYt",
        "colab_type": "code",
        "colab": {
          "base_uri": "https://localhost:8080/",
          "height": 34
        },
        "outputId": "d72edcce-db2d-46cf-9f39-433ff7778712"
      },
      "source": [
        "from gensim.models import Word2Vec\n",
        "\n",
        "%cd \"/content/drive/My Drive/covid 19 exploration/word_2_vec\"\n",
        "model = Word2Vec(corpus, min_count=2, workers = 3)\n",
        "model.save('word2vec.model')"
      ],
      "execution_count": 113,
      "outputs": [
        {
          "output_type": "stream",
          "text": [
            "/content/drive/My Drive/covid 19 exploration/word_2_vec\n"
          ],
          "name": "stdout"
        }
      ]
    },
    {
      "cell_type": "markdown",
      "metadata": {
        "id": "AmVOtYjfInSY",
        "colab_type": "text"
      },
      "source": [
        "## Creating a Word2Vec Search Engine:"
      ]
    },
    {
      "cell_type": "code",
      "metadata": {
        "id": "FTqUULA5md16",
        "colab_type": "code",
        "colab": {
          "base_uri": "https://localhost:8080/",
          "height": 34
        },
        "outputId": "7aecb745-1d2a-4e45-d13a-1668903397ad"
      },
      "source": [
        "%cd \"/content/drive/My Drive/covid 19 exploration/word_2_vec\"\n",
        "pkl.dump(corpus, open('corpus.pkl', 'wb'))"
      ],
      "execution_count": 23,
      "outputs": [
        {
          "output_type": "stream",
          "text": [
            "/content/drive/My Drive/covid 19 exploration/word_2_vec\n"
          ],
          "name": "stdout"
        }
      ]
    },
    {
      "cell_type": "code",
      "metadata": {
        "id": "Txp7YysFmdz3",
        "colab_type": "code",
        "colab": {
          "base_uri": "https://localhost:8080/",
          "height": 90
        },
        "outputId": "221f8c4d-3042-4b9b-8dfd-06f1781a373a"
      },
      "source": [
        "from gensim.models import Word2Vec\n",
        "import pickle as pkl\n",
        "%cd \"/content/drive/My Drive/covid 19 exploration/word_2_vec\"\n",
        "model_2 = Word2Vec.load(\"word2vec.model\")\n",
        "corpus=pkl.load(open('corpus.pkl', 'rb'))\n",
        "vocab = set(model_2.wv.vocab.keys())"
      ],
      "execution_count": 88,
      "outputs": [
        {
          "output_type": "stream",
          "text": [
            "/content/drive/My Drive/covid 19 exploration/word_2_vec\n"
          ],
          "name": "stdout"
        },
        {
          "output_type": "stream",
          "text": [
            "/usr/local/lib/python3.6/dist-packages/smart_open/smart_open_lib.py:410: UserWarning: This function is deprecated, use smart_open.open instead. See the migration notes for details: https://github.com/RaRe-Technologies/smart_open/blob/master/README.rst#migrating-to-the-new-open-function\n",
            "  'See the migration notes for details: %s' % _MIGRATION_NOTES_URL\n"
          ],
          "name": "stderr"
        }
      ]
    },
    {
      "cell_type": "code",
      "metadata": {
        "id": "TApWCRbGDXwu",
        "colab_type": "code",
        "colab": {
          "base_uri": "https://localhost:8080/",
          "height": 633
        },
        "outputId": "703aed00-a518-4767-b5f5-a358b3afa1a8"
      },
      "source": [
        "import sys\n",
        "search = input('Please Enter your search criteria: ')\n",
        "\n",
        "token_search=clean(search)\n",
        "token_search = set(word for word in token_search if word in vocab)\n",
        "\n",
        "smilarity=[]\n",
        "\n",
        "df = master_text\n",
        "print('Cleaned input Sentence')\n",
        "\n",
        "counter = 0\n",
        "length = len(corpus)\n",
        "skiped = 0\n",
        "for i, tokens in enumerate(corpus):\n",
        "  # tokens = set(tokens)\n",
        "  percent = 100*(i+1)/length\n",
        "  tokens = [word for word in tokens if word in vocab]\n",
        "  try: \n",
        "    smilarity.append(model_2.n_similarity(token_search, tokens))\n",
        "  except:\n",
        "    smilarity.append(np.nan)\n",
        "    skiped += 1\n",
        "  if (i+1) % 100 == 0:\n",
        "    sys.stdout.write(f'\\riteration={i:2d} status={percent:0.2f}% skiped={skiped}')\n",
        "\n",
        "\n",
        "\n",
        "df['Similarity'] = smilarity\n",
        "\n",
        "df.sort_values('Similarity', ascending = False)"
      ],
      "execution_count": 92,
      "outputs": [
        {
          "output_type": "stream",
          "text": [
            "Please Enter your search criteria: doctor\n",
            "Cleaned input Sentence\n"
          ],
          "name": "stdout"
        },
        {
          "output_type": "stream",
          "text": [
            "/usr/local/lib/python3.6/dist-packages/ipykernel_launcher.py:20: DeprecationWarning: Call to deprecated `n_similarity` (Method will be removed in 4.0.0, use self.wv.n_similarity() instead).\n",
            "/usr/local/lib/python3.6/dist-packages/gensim/matutils.py:737: FutureWarning: Conversion of the second argument of issubdtype from `int` to `np.signedinteger` is deprecated. In future, it will be treated as `np.int64 == np.dtype(int).type`.\n",
            "  if np.issubdtype(vec.dtype, np.int):\n"
          ],
          "name": "stderr"
        },
        {
          "output_type": "stream",
          "text": [
            "iteration=29299 status=99.95% skiped=17"
          ],
          "name": "stdout"
        },
        {
          "output_type": "execute_result",
          "data": {
            "text/html": [
              "<div>\n",
              "<style scoped>\n",
              "    .dataframe tbody tr th:only-of-type {\n",
              "        vertical-align: middle;\n",
              "    }\n",
              "\n",
              "    .dataframe tbody tr th {\n",
              "        vertical-align: top;\n",
              "    }\n",
              "\n",
              "    .dataframe thead th {\n",
              "        text-align: right;\n",
              "    }\n",
              "</style>\n",
              "<table border=\"1\" class=\"dataframe\">\n",
              "  <thead>\n",
              "    <tr style=\"text-align: right;\">\n",
              "      <th></th>\n",
              "      <th>Unnamed: 0</th>\n",
              "      <th>paper_id</th>\n",
              "      <th>papepr_title</th>\n",
              "      <th>abstract</th>\n",
              "      <th>main_text</th>\n",
              "      <th>file_path</th>\n",
              "      <th>Similarity</th>\n",
              "    </tr>\n",
              "  </thead>\n",
              "  <tbody>\n",
              "    <tr>\n",
              "      <th>21423</th>\n",
              "      <td>21423</td>\n",
              "      <td>ac20ef2db6e48e153c04845d8cb18f179e91e90a</td>\n",
              "      <td>SARS e My personal battle</td>\n",
              "      <td>NaN</td>\n",
              "      <td>Summary It isn't every day that a doctor beco...</td>\n",
              "      <td>custom_licens</td>\n",
              "      <td>0.712052</td>\n",
              "    </tr>\n",
              "    <tr>\n",
              "      <th>11315</th>\n",
              "      <td>11315</td>\n",
              "      <td>13ef940f453b41f002b5525a2a575a05da87b1d6</td>\n",
              "      <td>NaN</td>\n",
              "      <td>NaN</td>\n",
              "      <td>A Call to Respond, Not to React Kathy Robinso...</td>\n",
              "      <td>custom_licens</td>\n",
              "      <td>0.680221</td>\n",
              "    </tr>\n",
              "    <tr>\n",
              "      <th>22656</th>\n",
              "      <td>22656</td>\n",
              "      <td>bea6c6081961230c8d79e836f9daf2dcb54f6e7c</td>\n",
              "      <td>NaN</td>\n",
              "      <td>NaN</td>\n",
              "      <td>Tanabe P, Steinmann R, Kippenhan M, Stehman C...</td>\n",
              "      <td>custom_licens</td>\n",
              "      <td>0.677022</td>\n",
              "    </tr>\n",
              "    <tr>\n",
              "      <th>24110</th>\n",
              "      <td>24110</td>\n",
              "      <td>d5449e74dec7d21e090e159e85e70d3c510d66af</td>\n",
              "      <td>Journal Pre-proof What are we doing in the der...</td>\n",
              "      <td>NaN</td>\n",
              "      <td>In late December 2019, several cases with une...</td>\n",
              "      <td>custom_licens</td>\n",
              "      <td>0.673645</td>\n",
              "    </tr>\n",
              "    <tr>\n",
              "      <th>20685</th>\n",
              "      <td>20685</td>\n",
              "      <td>a0af5eb87954bafb165b50feb456353b1f0cb345</td>\n",
              "      <td>Office of Steering Committee</td>\n",
              "      <td>Introduction: A large general hospital was su...</td>\n",
              "      <td>Severe acute respiratory distress syndrome (S...</td>\n",
              "      <td>custom_licens</td>\n",
              "      <td>0.667047</td>\n",
              "    </tr>\n",
              "    <tr>\n",
              "      <th>...</th>\n",
              "      <td>...</td>\n",
              "      <td>...</td>\n",
              "      <td>...</td>\n",
              "      <td>...</td>\n",
              "      <td>...</td>\n",
              "      <td>...</td>\n",
              "      <td>...</td>\n",
              "    </tr>\n",
              "    <tr>\n",
              "      <th>24077</th>\n",
              "      <td>24077</td>\n",
              "      <td>d4cabddf62ffb457d267c77bf7aa0b27e69027dd</td>\n",
              "      <td>NaN</td>\n",
              "      <td>NaN</td>\n",
              "      <td>49, 84, 99, 205, 223, 244, 259, 281, 321, 32...</td>\n",
              "      <td>custom_licens</td>\n",
              "      <td>NaN</td>\n",
              "    </tr>\n",
              "    <tr>\n",
              "      <th>25907</th>\n",
              "      <td>25907</td>\n",
              "      <td>f09c5c37a3dd5e55910f33acd45db29ebfdd2171</td>\n",
              "      <td>NaN</td>\n",
              "      <td>NaN</td>\n",
              "      <td>[271] [272] [273] 26, [457] [458] [566] [567...</td>\n",
              "      <td>custom_licens</td>\n",
              "      <td>NaN</td>\n",
              "    </tr>\n",
              "    <tr>\n",
              "      <th>26213</th>\n",
              "      <td>26213</td>\n",
              "      <td>f508e125b0592b51a7ca2edf3ebcde80941640d4</td>\n",
              "      <td>NaN</td>\n",
              "      <td>A Alkalinization Opt im izing management of t...</td>\n",
              "      <td>(2)</td>\n",
              "      <td>custom_licens</td>\n",
              "      <td>NaN</td>\n",
              "    </tr>\n",
              "    <tr>\n",
              "      <th>27861</th>\n",
              "      <td>27861</td>\n",
              "      <td>617197cc751a9208cb0af1b4e31baeddc8d2e985</td>\n",
              "      <td>\"The Duty to Prevent\" during an epidemic situa...</td>\n",
              "      <td>NaN</td>\n",
              "      <td>역학은 질병예방과 건강증진을 목적으로 관련한 요인들을 규명하고, 이들 근거들을 지...</td>\n",
              "      <td>noncomm_use_subse</td>\n",
              "      <td>NaN</td>\n",
              "    </tr>\n",
              "    <tr>\n",
              "      <th>29206</th>\n",
              "      <td>29206</td>\n",
              "      <td>f477cb32c61ef1a690f4b9afe74d38f8e147f39f</td>\n",
              "      <td>Federal Interagency Interactions During Outbre...</td>\n",
              "      <td>!3 ()132786%8) A7 -223:%8-:) %4463%', -2 *%'-...</td>\n",
              "      <td>,%68)6)( &amp;= 8,) ?140)1)28-2+ )'311)2(%8-327 3...</td>\n",
              "      <td>noncomm_use_subse</td>\n",
              "      <td>NaN</td>\n",
              "    </tr>\n",
              "  </tbody>\n",
              "</table>\n",
              "<p>29315 rows × 7 columns</p>\n",
              "</div>"
            ],
            "text/plain": [
              "       Unnamed: 0  ... Similarity\n",
              "21423       21423  ...   0.712052\n",
              "11315       11315  ...   0.680221\n",
              "22656       22656  ...   0.677022\n",
              "24110       24110  ...   0.673645\n",
              "20685       20685  ...   0.667047\n",
              "...           ...  ...        ...\n",
              "24077       24077  ...        NaN\n",
              "25907       25907  ...        NaN\n",
              "26213       26213  ...        NaN\n",
              "27861       27861  ...        NaN\n",
              "29206       29206  ...        NaN\n",
              "\n",
              "[29315 rows x 7 columns]"
            ]
          },
          "metadata": {
            "tags": []
          },
          "execution_count": 92
        }
      ]
    }
  ]
}