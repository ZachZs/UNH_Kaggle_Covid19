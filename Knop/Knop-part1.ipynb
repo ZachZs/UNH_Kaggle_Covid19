{
 "cells": [
  {
   "cell_type": "code",
   "execution_count": 11,
   "metadata": {},
   "outputs": [],
   "source": [
    "import pandas as pd\n",
    "import numpy as np\n",
    "import os\n",
    "import json\n",
    "import re"
   ]
  },
  {
   "cell_type": "code",
   "execution_count": 4,
   "metadata": {},
   "outputs": [
    {
     "data": {
      "text/plain": [
       "33375"
      ]
     },
     "execution_count": 4,
     "metadata": {},
     "output_type": "execute_result"
    }
   ],
   "source": [
    "folders = [\"biorxiv_medrxiv/biorxiv_medrxiv\", \"comm_use_subset/comm_use_subset\", \"custom_license/custom_license\", \"noncomm_use_subset/noncomm_use_subset\"]\n",
    "num_files = 0\n",
    "for folder in folders:\n",
    "    num_files = num_files + len(os.listdir(folder))\n",
    "num_files"
   ]
  },
  {
   "cell_type": "code",
   "execution_count": 14,
   "metadata": {},
   "outputs": [
    {
     "data": {
      "text/plain": [
       "0"
      ]
     },
     "execution_count": 14,
     "metadata": {},
     "output_type": "execute_result"
    }
   ],
   "source": [
    "master_text = []\n",
    "skipped = 0\n",
    "for folder in folders:\n",
    "    for  file in os.listdir(folder):\n",
    "        try:\n",
    "            data = json.load(open(folder + \"/\" +file, \"r\"))\n",
    "            paper_id = data['paper_id']\n",
    "            title = data['metadata']['title']\n",
    "            abstract = \"\"\n",
    "            for txt in data['abstract']:\n",
    "                abstract = abstract + ' '+ txt['text']\n",
    "            body_text = \"\"\n",
    "            for txt in data['body_text']:\n",
    "                body_text = body_text + ' '+ txt['text']\n",
    "            master_text.append({'paper_id': paper_id,'title': title, 'abstract': abstract, 'body_text': body_text, \"folder\": re.findall(r\".+/\", folder)[0][:-2]})\n",
    "        except:\n",
    "            skipped+=1\n",
    "skipped"
   ]
  },
  {
   "cell_type": "code",
   "execution_count": 15,
   "metadata": {},
   "outputs": [
    {
     "data": {
      "text/html": [
       "<div>\n",
       "<style scoped>\n",
       "    .dataframe tbody tr th:only-of-type {\n",
       "        vertical-align: middle;\n",
       "    }\n",
       "\n",
       "    .dataframe tbody tr th {\n",
       "        vertical-align: top;\n",
       "    }\n",
       "\n",
       "    .dataframe thead th {\n",
       "        text-align: right;\n",
       "    }\n",
       "</style>\n",
       "<table border=\"1\" class=\"dataframe\">\n",
       "  <thead>\n",
       "    <tr style=\"text-align: right;\">\n",
       "      <th></th>\n",
       "      <th>paper_id</th>\n",
       "      <th>title</th>\n",
       "      <th>abstract</th>\n",
       "      <th>body_text</th>\n",
       "      <th>folder</th>\n",
       "    </tr>\n",
       "  </thead>\n",
       "  <tbody>\n",
       "    <tr>\n",
       "      <th>0</th>\n",
       "      <td>0015023cc06b5362d332b3baf348d11567ca2fbb</td>\n",
       "      <td>The RNA pseudoknots in foot-and-mouth disease ...</td>\n",
       "      <td>word count: 194 22 Text word count: 5168 23 2...</td>\n",
       "      <td>VP3, and VP0 (which is further processed to V...</td>\n",
       "      <td>biorxiv_medrxi</td>\n",
       "    </tr>\n",
       "    <tr>\n",
       "      <th>1</th>\n",
       "      <td>00340eea543336d54adda18236424de6a5e91c9d</td>\n",
       "      <td>Analysis Title: Regaining perspective on SARS-...</td>\n",
       "      <td>During the past three months, a new coronavir...</td>\n",
       "      <td>In December 2019, a novel coronavirus, SARS-C...</td>\n",
       "      <td>biorxiv_medrxi</td>\n",
       "    </tr>\n",
       "    <tr>\n",
       "      <th>2</th>\n",
       "      <td>004f0f8bb66cf446678dc13cf2701feec4f36d76</td>\n",
       "      <td>Healthcare-resource-adjusted vulnerabilities t...</td>\n",
       "      <td></td>\n",
       "      <td>The 2019-nCoV epidemic has spread across Chin...</td>\n",
       "      <td>biorxiv_medrxi</td>\n",
       "    </tr>\n",
       "    <tr>\n",
       "      <th>3</th>\n",
       "      <td>00d16927588fb04d4be0e6b269fc02f0d3c2aa7b</td>\n",
       "      <td>Real-time, MinION-based, amplicon sequencing f...</td>\n",
       "      <td>Infectious bronchitis (IB) causes significant...</td>\n",
       "      <td>Infectious bronchitis (IB), which is caused b...</td>\n",
       "      <td>biorxiv_medrxi</td>\n",
       "    </tr>\n",
       "    <tr>\n",
       "      <th>4</th>\n",
       "      <td>0139ea4ca580af99b602c6435368e7fdbefacb03</td>\n",
       "      <td>A Combined Evidence Approach to Prioritize Nip...</td>\n",
       "      <td>Nipah Virus (NiV) came into limelight recentl...</td>\n",
       "      <td>Nipah is an infectious negative-sense single-...</td>\n",
       "      <td>biorxiv_medrxi</td>\n",
       "    </tr>\n",
       "  </tbody>\n",
       "</table>\n",
       "</div>"
      ],
      "text/plain": [
       "                                   paper_id  \\\n",
       "0  0015023cc06b5362d332b3baf348d11567ca2fbb   \n",
       "1  00340eea543336d54adda18236424de6a5e91c9d   \n",
       "2  004f0f8bb66cf446678dc13cf2701feec4f36d76   \n",
       "3  00d16927588fb04d4be0e6b269fc02f0d3c2aa7b   \n",
       "4  0139ea4ca580af99b602c6435368e7fdbefacb03   \n",
       "\n",
       "                                               title  \\\n",
       "0  The RNA pseudoknots in foot-and-mouth disease ...   \n",
       "1  Analysis Title: Regaining perspective on SARS-...   \n",
       "2  Healthcare-resource-adjusted vulnerabilities t...   \n",
       "3  Real-time, MinION-based, amplicon sequencing f...   \n",
       "4  A Combined Evidence Approach to Prioritize Nip...   \n",
       "\n",
       "                                            abstract  \\\n",
       "0   word count: 194 22 Text word count: 5168 23 2...   \n",
       "1   During the past three months, a new coronavir...   \n",
       "2                                                      \n",
       "3   Infectious bronchitis (IB) causes significant...   \n",
       "4   Nipah Virus (NiV) came into limelight recentl...   \n",
       "\n",
       "                                           body_text          folder  \n",
       "0   VP3, and VP0 (which is further processed to V...  biorxiv_medrxi  \n",
       "1   In December 2019, a novel coronavirus, SARS-C...  biorxiv_medrxi  \n",
       "2   The 2019-nCoV epidemic has spread across Chin...  biorxiv_medrxi  \n",
       "3   Infectious bronchitis (IB), which is caused b...  biorxiv_medrxi  \n",
       "4   Nipah is an infectious negative-sense single-...  biorxiv_medrxi  "
      ]
     },
     "execution_count": 15,
     "metadata": {},
     "output_type": "execute_result"
    }
   ],
   "source": [
    "master_df = pd.DataFrame(master_text)\n",
    "master_df.head()"
   ]
  },
  {
   "cell_type": "code",
   "execution_count": 17,
   "metadata": {},
   "outputs": [],
   "source": [
    "csv_file = pd.read_csv('metadata.csv')"
   ]
  },
  {
   "cell_type": "code",
   "execution_count": 22,
   "metadata": {},
   "outputs": [
    {
     "data": {
      "text/plain": [
       "3178"
      ]
     },
     "execution_count": 22,
     "metadata": {},
     "output_type": "execute_result"
    }
   ],
   "source": [
    "no_json = []\n",
    "for paper_id in master_df.paper_id:\n",
    "    if paper_id not in list(csv_file.sha):\n",
    "        no_json.append(paper_id)\n",
    "len(no_json)\n",
    "    "
   ]
  },
  {
   "cell_type": "code",
   "execution_count": null,
   "metadata": {},
   "outputs": [],
   "source": []
  }
 ],
 "metadata": {
  "kernelspec": {
   "display_name": "Python 3",
   "language": "python",
   "name": "python3"
  },
  "language_info": {
   "codemirror_mode": {
    "name": "ipython",
    "version": 3
   },
   "file_extension": ".py",
   "mimetype": "text/x-python",
   "name": "python",
   "nbconvert_exporter": "python",
   "pygments_lexer": "ipython3",
   "version": "3.7.3"
  }
 },
 "nbformat": 4,
 "nbformat_minor": 4
}
