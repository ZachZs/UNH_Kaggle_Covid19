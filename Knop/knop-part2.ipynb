{
 "cells": [
  {
   "cell_type": "code",
   "execution_count": 69,
   "metadata": {},
   "outputs": [],
   "source": [
    "import pandas as pd\n",
    "import numpy as np\n",
    "import os\n",
    "import json\n",
    "import re\n",
    "from nltk.tokenize import word_tokenize\n",
    "from nltk import sent_tokenize\n",
    "from nltk.corpus import stopwords\n",
    "from keras.preprocessing.text import Tokenizer\n",
    "from keras.preprocessing.text import text_to_word_sequence\n",
    "from sklearn.cluster import KMeans\n",
    "from sklearn.decomposition import PCA\n",
    "from gensim.models import Word2Vec\n",
    "import string\n",
    "from sklearn.preprocessing import StandardScaler\n",
    "from scipy import stats\n",
    "from gensim.models.doc2vec import Doc2Vec\n",
    "from gensim.models.doc2vec import TaggedDocument\n",
    "import multiprocessing\n",
    "from matplotlib import pyplot"
   ]
  },
  {
   "cell_type": "code",
   "execution_count": 3,
   "metadata": {},
   "outputs": [
    {
     "data": {
      "text/html": [
       "<div>\n",
       "<style scoped>\n",
       "    .dataframe tbody tr th:only-of-type {\n",
       "        vertical-align: middle;\n",
       "    }\n",
       "\n",
       "    .dataframe tbody tr th {\n",
       "        vertical-align: top;\n",
       "    }\n",
       "\n",
       "    .dataframe thead th {\n",
       "        text-align: right;\n",
       "    }\n",
       "</style>\n",
       "<table border=\"1\" class=\"dataframe\">\n",
       "  <thead>\n",
       "    <tr style=\"text-align: right;\">\n",
       "      <th></th>\n",
       "      <th>cord_uid</th>\n",
       "      <th>sha</th>\n",
       "      <th>source_x</th>\n",
       "      <th>title</th>\n",
       "      <th>doi</th>\n",
       "      <th>pmcid</th>\n",
       "      <th>pubmed_id</th>\n",
       "      <th>license</th>\n",
       "      <th>abstract</th>\n",
       "      <th>publish_time</th>\n",
       "      <th>authors</th>\n",
       "      <th>journal</th>\n",
       "      <th>Microsoft Academic Paper ID</th>\n",
       "      <th>WHO #Covidence</th>\n",
       "      <th>has_full_text</th>\n",
       "      <th>full_text_file</th>\n",
       "      <th>url</th>\n",
       "    </tr>\n",
       "  </thead>\n",
       "  <tbody>\n",
       "    <tr>\n",
       "      <th>0</th>\n",
       "      <td>vho70jcx</td>\n",
       "      <td>f056da9c64fbf00a4645ae326e8a4339d015d155</td>\n",
       "      <td>biorxiv</td>\n",
       "      <td>SIANN: Strain Identification by Alignment to N...</td>\n",
       "      <td>10.1101/001727</td>\n",
       "      <td>NaN</td>\n",
       "      <td>NaN</td>\n",
       "      <td>biorxiv</td>\n",
       "      <td>Next-generation sequencing is increasingly bei...</td>\n",
       "      <td>2014-01-10</td>\n",
       "      <td>Samuel Minot; Stephen D Turner; Krista L Ternu...</td>\n",
       "      <td>NaN</td>\n",
       "      <td>NaN</td>\n",
       "      <td>NaN</td>\n",
       "      <td>True</td>\n",
       "      <td>biorxiv_medrxiv</td>\n",
       "      <td>https://doi.org/10.1101/001727</td>\n",
       "    </tr>\n",
       "    <tr>\n",
       "      <th>1</th>\n",
       "      <td>i9tbix2v</td>\n",
       "      <td>daf32e013d325a6feb80e83d15aabc64a48fae33</td>\n",
       "      <td>biorxiv</td>\n",
       "      <td>Spatial epidemiology of networked metapopulati...</td>\n",
       "      <td>10.1101/003889</td>\n",
       "      <td>NaN</td>\n",
       "      <td>NaN</td>\n",
       "      <td>biorxiv</td>\n",
       "      <td>An emerging disease is one infectious epidemic...</td>\n",
       "      <td>2014-06-04</td>\n",
       "      <td>Lin WANG; Xiang Li</td>\n",
       "      <td>NaN</td>\n",
       "      <td>NaN</td>\n",
       "      <td>NaN</td>\n",
       "      <td>True</td>\n",
       "      <td>biorxiv_medrxiv</td>\n",
       "      <td>https://doi.org/10.1101/003889</td>\n",
       "    </tr>\n",
       "    <tr>\n",
       "      <th>2</th>\n",
       "      <td>62gfisc6</td>\n",
       "      <td>f33c6d94b0efaa198f8f3f20e644625fa3fe10d2</td>\n",
       "      <td>biorxiv</td>\n",
       "      <td>Sequencing of the human IG light chain loci fr...</td>\n",
       "      <td>10.1101/006866</td>\n",
       "      <td>NaN</td>\n",
       "      <td>NaN</td>\n",
       "      <td>biorxiv</td>\n",
       "      <td>Germline variation at immunoglobulin gene (IG)...</td>\n",
       "      <td>2014-07-03</td>\n",
       "      <td>Corey T Watson; Karyn Meltz Steinberg; Tina A ...</td>\n",
       "      <td>NaN</td>\n",
       "      <td>NaN</td>\n",
       "      <td>NaN</td>\n",
       "      <td>True</td>\n",
       "      <td>biorxiv_medrxiv</td>\n",
       "      <td>https://doi.org/10.1101/006866</td>\n",
       "    </tr>\n",
       "    <tr>\n",
       "      <th>3</th>\n",
       "      <td>058r9486</td>\n",
       "      <td>4da8a87e614373d56070ed272487451266dce919</td>\n",
       "      <td>biorxiv</td>\n",
       "      <td>Bayesian mixture analysis for metagenomic comm...</td>\n",
       "      <td>10.1101/007476</td>\n",
       "      <td>NaN</td>\n",
       "      <td>NaN</td>\n",
       "      <td>biorxiv</td>\n",
       "      <td>Deep sequencing of clinical samples is now an ...</td>\n",
       "      <td>2014-07-25</td>\n",
       "      <td>Sofia Morfopoulou; Vincent Plagnol</td>\n",
       "      <td>NaN</td>\n",
       "      <td>NaN</td>\n",
       "      <td>NaN</td>\n",
       "      <td>True</td>\n",
       "      <td>biorxiv_medrxiv</td>\n",
       "      <td>https://doi.org/10.1101/007476</td>\n",
       "    </tr>\n",
       "    <tr>\n",
       "      <th>4</th>\n",
       "      <td>wich35l7</td>\n",
       "      <td>eccef80cfbe078235df22398f195d5db462d8000</td>\n",
       "      <td>biorxiv</td>\n",
       "      <td>Mapping a viral phylogeny onto outbreak trees ...</td>\n",
       "      <td>10.1101/010389</td>\n",
       "      <td>NaN</td>\n",
       "      <td>NaN</td>\n",
       "      <td>biorxiv</td>\n",
       "      <td>Developing methods to reconstruct transmission...</td>\n",
       "      <td>2014-11-11</td>\n",
       "      <td>Stephen P Velsko; Jonathan E Allen</td>\n",
       "      <td>NaN</td>\n",
       "      <td>NaN</td>\n",
       "      <td>NaN</td>\n",
       "      <td>True</td>\n",
       "      <td>biorxiv_medrxiv</td>\n",
       "      <td>https://doi.org/10.1101/010389</td>\n",
       "    </tr>\n",
       "  </tbody>\n",
       "</table>\n",
       "</div>"
      ],
      "text/plain": [
       "   cord_uid                                       sha source_x  \\\n",
       "0  vho70jcx  f056da9c64fbf00a4645ae326e8a4339d015d155  biorxiv   \n",
       "1  i9tbix2v  daf32e013d325a6feb80e83d15aabc64a48fae33  biorxiv   \n",
       "2  62gfisc6  f33c6d94b0efaa198f8f3f20e644625fa3fe10d2  biorxiv   \n",
       "3  058r9486  4da8a87e614373d56070ed272487451266dce919  biorxiv   \n",
       "4  wich35l7  eccef80cfbe078235df22398f195d5db462d8000  biorxiv   \n",
       "\n",
       "                                               title             doi pmcid  \\\n",
       "0  SIANN: Strain Identification by Alignment to N...  10.1101/001727   NaN   \n",
       "1  Spatial epidemiology of networked metapopulati...  10.1101/003889   NaN   \n",
       "2  Sequencing of the human IG light chain loci fr...  10.1101/006866   NaN   \n",
       "3  Bayesian mixture analysis for metagenomic comm...  10.1101/007476   NaN   \n",
       "4  Mapping a viral phylogeny onto outbreak trees ...  10.1101/010389   NaN   \n",
       "\n",
       "   pubmed_id  license                                           abstract  \\\n",
       "0        NaN  biorxiv  Next-generation sequencing is increasingly bei...   \n",
       "1        NaN  biorxiv  An emerging disease is one infectious epidemic...   \n",
       "2        NaN  biorxiv  Germline variation at immunoglobulin gene (IG)...   \n",
       "3        NaN  biorxiv  Deep sequencing of clinical samples is now an ...   \n",
       "4        NaN  biorxiv  Developing methods to reconstruct transmission...   \n",
       "\n",
       "  publish_time                                            authors journal  \\\n",
       "0   2014-01-10  Samuel Minot; Stephen D Turner; Krista L Ternu...     NaN   \n",
       "1   2014-06-04                                 Lin WANG; Xiang Li     NaN   \n",
       "2   2014-07-03  Corey T Watson; Karyn Meltz Steinberg; Tina A ...     NaN   \n",
       "3   2014-07-25                 Sofia Morfopoulou; Vincent Plagnol     NaN   \n",
       "4   2014-11-11                 Stephen P Velsko; Jonathan E Allen     NaN   \n",
       "\n",
       "   Microsoft Academic Paper ID WHO #Covidence  has_full_text   full_text_file  \\\n",
       "0                          NaN            NaN           True  biorxiv_medrxiv   \n",
       "1                          NaN            NaN           True  biorxiv_medrxiv   \n",
       "2                          NaN            NaN           True  biorxiv_medrxiv   \n",
       "3                          NaN            NaN           True  biorxiv_medrxiv   \n",
       "4                          NaN            NaN           True  biorxiv_medrxiv   \n",
       "\n",
       "                              url  \n",
       "0  https://doi.org/10.1101/001727  \n",
       "1  https://doi.org/10.1101/003889  \n",
       "2  https://doi.org/10.1101/006866  \n",
       "3  https://doi.org/10.1101/007476  \n",
       "4  https://doi.org/10.1101/010389  "
      ]
     },
     "execution_count": 3,
     "metadata": {},
     "output_type": "execute_result"
    }
   ],
   "source": [
    "data = pd.read_csv('metadata.csv')\n",
    "data.head()"
   ]
  },
  {
   "cell_type": "code",
   "execution_count": 4,
   "metadata": {},
   "outputs": [
    {
     "data": {
      "text/plain": [
       "7861"
      ]
     },
     "execution_count": 4,
     "metadata": {},
     "output_type": "execute_result"
    }
   ],
   "source": [
    "delete_rows = []\n",
    "for row,abstract in enumerate(data.abstract):\n",
    "    try:\n",
    "        NLTKtokens = word_tokenize(abstract)\n",
    "    except:\n",
    "        delete_rows.append(row)\n",
    "len(delete_rows)\n",
    "        \n",
    "    #NLTKtokens = [word.lower() for word in abstract]\n",
    "    #NLTKwords = [word for word in NLTKtokens if word.isalpha()]\n",
    "\n",
    "#NLTKtokens = sent_tokenize(data.abstract[0])\n",
    "#NLTKwords = [word for word in NLTKtokens if word.isalpha()]\n",
    "#NLTKlower = [word.lower() for word in NLTKwords]\n",
    "#stop_words = set(stopwords.words('english'))\n",
    "#NLTK_rm_stop_words = [words for words in NLTKlower if not words in stop_words]\n",
    "#NLTK_rm_stop_words\n",
    "#NLTKtokens"
   ]
  },
  {
   "cell_type": "code",
   "execution_count": 5,
   "metadata": {},
   "outputs": [],
   "source": [
    "for i in delete_rows:\n",
    "    data.drop([i], axis = 0, inplace = True)"
   ]
  },
  {
   "cell_type": "code",
   "execution_count": 15,
   "metadata": {},
   "outputs": [],
   "source": [
    "# master_docs = []\n",
    "# for doc in data.abstract:\n",
    "#     master_docs.append(clean(doc))"
   ]
  },
  {
   "cell_type": "code",
   "execution_count": null,
   "metadata": {},
   "outputs": [],
   "source": [
    "# model = Word2Vec(master_docs, min_count=1)\n",
    "# print(model)\n",
    "# words = list(model.wv.vocab)\n",
    "# print(len(words))"
   ]
  },
  {
   "cell_type": "code",
   "execution_count": 19,
   "metadata": {},
   "outputs": [
    {
     "name": "stdout",
     "output_type": "stream",
     "text": [
      "(37913, 1000)\n",
      "[[0.         2.0736906  2.32377288 ... 0.         0.         0.        ]\n",
      " [0.         2.45310203 2.07280839 ... 0.         0.         0.        ]\n",
      " [0.         2.45310203 2.07280839 ... 0.         0.         0.        ]\n",
      " ...\n",
      " [0.         2.45310203 2.60906721 ... 0.         0.         0.        ]\n",
      " [0.         0.         0.         ... 0.         0.         0.        ]\n",
      " [0.         2.25059632 2.32377288 ... 0.         0.         0.        ]]\n"
     ]
    }
   ],
   "source": [
    "keras_tokens = Tokenizer(1000)\n",
    "keras_tokens.fit_on_texts(data.abstract)\n",
    "encoded_docs_TFTDF = keras_tokens.texts_to_matrix(data.abstract, mode='tfidf')\n",
    "print(encoded_docs_TFTDF.shape)\n",
    "print(encoded_docs_TFTDF)"
   ]
  },
  {
   "cell_type": "code",
   "execution_count": 28,
   "metadata": {},
   "outputs": [
    {
     "name": "stderr",
     "output_type": "stream",
     "text": [
      "C:\\Users\\eric_\\Anaconda3\\lib\\site-packages\\ipykernel_launcher.py:6: DeprecationWarning: `itemfreq` is deprecated!\n",
      "`itemfreq` is deprecated and will be removed in a future version. Use instead `np.unique(..., return_counts=True)`\n",
      "  \n"
     ]
    },
    {
     "data": {
      "text/plain": [
       "array([[   0,    1],\n",
       "       [   1,  713],\n",
       "       [   2,  746],\n",
       "       [   3,  558],\n",
       "       [   4, 1875],\n",
       "       [   5, 1416],\n",
       "       [   6, 1099],\n",
       "       [   7, 1110],\n",
       "       [   8,  637],\n",
       "       [   9,    1],\n",
       "       [  10,  545],\n",
       "       [  11, 1133],\n",
       "       [  12,  551],\n",
       "       [  13,    2],\n",
       "       [  14, 1038],\n",
       "       [  15, 1048],\n",
       "       [  16, 2981],\n",
       "       [  17,  415],\n",
       "       [  18, 3333],\n",
       "       [  19,  324],\n",
       "       [  20,    1],\n",
       "       [  21, 1192],\n",
       "       [  22,  533],\n",
       "       [  23,  365],\n",
       "       [  24, 1092],\n",
       "       [  25,  940],\n",
       "       [  26,  263],\n",
       "       [  27, 1001],\n",
       "       [  28,  866],\n",
       "       [  29,  185],\n",
       "       [  30,  169],\n",
       "       [  31,  800],\n",
       "       [  32,  729],\n",
       "       [  33,  442],\n",
       "       [  34, 1207],\n",
       "       [  35,   24],\n",
       "       [  36,    2],\n",
       "       [  37, 1276],\n",
       "       [  38,  811],\n",
       "       [  39,    1],\n",
       "       [  40,  638],\n",
       "       [  41,    1],\n",
       "       [  42,  462],\n",
       "       [  43,    8],\n",
       "       [  44,    1],\n",
       "       [  45, 1423],\n",
       "       [  46,  251],\n",
       "       [  47,  285],\n",
       "       [  48, 2952],\n",
       "       [  49,  467]], dtype=int64)"
      ]
     },
     "execution_count": 28,
     "metadata": {},
     "output_type": "execute_result"
    }
   ],
   "source": [
    "scaler = StandardScaler()\n",
    "df_std = scaler.fit_transform(encoded_docs_TFTDF) \n",
    "kmeans = KMeans(n_clusters=50)\n",
    "kmeans = kmeans.fit(df_std)\n",
    "labeldf = kmeans.labels_\n",
    "stats.itemfreq(labeldf)"
   ]
  },
  {
   "cell_type": "code",
   "execution_count": 32,
   "metadata": {},
   "outputs": [
    {
     "data": {
      "text/html": [
       "<div>\n",
       "<style scoped>\n",
       "    .dataframe tbody tr th:only-of-type {\n",
       "        vertical-align: middle;\n",
       "    }\n",
       "\n",
       "    .dataframe tbody tr th {\n",
       "        vertical-align: top;\n",
       "    }\n",
       "\n",
       "    .dataframe thead th {\n",
       "        text-align: right;\n",
       "    }\n",
       "</style>\n",
       "<table border=\"1\" class=\"dataframe\">\n",
       "  <thead>\n",
       "    <tr style=\"text-align: right;\">\n",
       "      <th></th>\n",
       "      <th>cord_uid</th>\n",
       "      <th>sha</th>\n",
       "      <th>source_x</th>\n",
       "      <th>title</th>\n",
       "      <th>doi</th>\n",
       "      <th>pmcid</th>\n",
       "      <th>pubmed_id</th>\n",
       "      <th>license</th>\n",
       "      <th>abstract</th>\n",
       "      <th>publish_time</th>\n",
       "      <th>authors</th>\n",
       "      <th>journal</th>\n",
       "      <th>Microsoft Academic Paper ID</th>\n",
       "      <th>WHO #Covidence</th>\n",
       "      <th>has_full_text</th>\n",
       "      <th>full_text_file</th>\n",
       "      <th>url</th>\n",
       "      <th>clusters</th>\n",
       "    </tr>\n",
       "  </thead>\n",
       "  <tbody>\n",
       "    <tr>\n",
       "      <th>8770</th>\n",
       "      <td>tph5n7ak</td>\n",
       "      <td>c10d2b72f8d450209946e805ba18154c9a6c5f7f</td>\n",
       "      <td>PMC</td>\n",
       "      <td>Reversal of the Progression of Fatal Coronavir...</td>\n",
       "      <td>10.1371/journal.ppat.1005531</td>\n",
       "      <td>PMC4814111</td>\n",
       "      <td>27027316.0</td>\n",
       "      <td>cc-by</td>\n",
       "      <td>Coronaviruses infect animals and humans causin...</td>\n",
       "      <td>2016-03-30</td>\n",
       "      <td>Kim, Yunjeong; Liu, Hongwei; Galasiti Kankanam...</td>\n",
       "      <td>PLoS Pathog</td>\n",
       "      <td>NaN</td>\n",
       "      <td>NaN</td>\n",
       "      <td>True</td>\n",
       "      <td>comm_use_subset</td>\n",
       "      <td>https://www.ncbi.nlm.nih.gov/pmc/articles/PMC4...</td>\n",
       "      <td>43</td>\n",
       "    </tr>\n",
       "    <tr>\n",
       "      <th>17559</th>\n",
       "      <td>d8inkno4</td>\n",
       "      <td>NaN</td>\n",
       "      <td>PMC</td>\n",
       "      <td>GII.4 Norovirus Protease Shows pH-Sensitive Pr...</td>\n",
       "      <td>10.1128/jvi.01479-18</td>\n",
       "      <td>PMC6401421</td>\n",
       "      <td>30626675.0</td>\n",
       "      <td>unk</td>\n",
       "      <td>Human noroviruses (NoVs) are the main cause of...</td>\n",
       "      <td>2019-01-09</td>\n",
       "      <td>Viskovska, Mariya A.; Zhao, Boyang; Shanker, S...</td>\n",
       "      <td>Journal of Virology</td>\n",
       "      <td>NaN</td>\n",
       "      <td>NaN</td>\n",
       "      <td>False</td>\n",
       "      <td>NaN</td>\n",
       "      <td>https://jvi.asm.org/content/jvi/93/6/e01479-18...</td>\n",
       "      <td>43</td>\n",
       "    </tr>\n",
       "    <tr>\n",
       "      <th>23648</th>\n",
       "      <td>jiaa6bz1</td>\n",
       "      <td>NaN</td>\n",
       "      <td>PMC</td>\n",
       "      <td>Crystal Structure of Feline Infectious Periton...</td>\n",
       "      <td>10.1128/jvi.02685-15</td>\n",
       "      <td>PMC4734010</td>\n",
       "      <td>26656689.0</td>\n",
       "      <td>unk</td>\n",
       "      <td>Coronaviruses (CoVs) can cause highly prevalen...</td>\n",
       "      <td>2015-12-09</td>\n",
       "      <td>Wang, Fenghua; Chen, Cheng; Liu, Xuemeng; Yang...</td>\n",
       "      <td>Journal of Virology</td>\n",
       "      <td>NaN</td>\n",
       "      <td>NaN</td>\n",
       "      <td>False</td>\n",
       "      <td>NaN</td>\n",
       "      <td>https://jvi.asm.org/content/jvi/90/4/1910.full...</td>\n",
       "      <td>43</td>\n",
       "    </tr>\n",
       "    <tr>\n",
       "      <th>24307</th>\n",
       "      <td>fcrusu9m</td>\n",
       "      <td>NaN</td>\n",
       "      <td>PMC</td>\n",
       "      <td>A Chimeric Virus-Mouse Model System for Evalua...</td>\n",
       "      <td>10.1128/jvi.01749-14</td>\n",
       "      <td>PMC4178736</td>\n",
       "      <td>25100850.0</td>\n",
       "      <td>unk</td>\n",
       "      <td>To combat emerging coronaviruses, developing s...</td>\n",
       "      <td>2014-08-06</td>\n",
       "      <td>Deng, Xufang; Agnihothram, Sudhakar; Mielech, ...</td>\n",
       "      <td>Journal of Virology</td>\n",
       "      <td>NaN</td>\n",
       "      <td>NaN</td>\n",
       "      <td>False</td>\n",
       "      <td>NaN</td>\n",
       "      <td>https://jvi.asm.org/content/jvi/88/20/11825.fu...</td>\n",
       "      <td>43</td>\n",
       "    </tr>\n",
       "    <tr>\n",
       "      <th>26205</th>\n",
       "      <td>0kgkj906</td>\n",
       "      <td>NaN</td>\n",
       "      <td>PMC</td>\n",
       "      <td>Coronaviruses Resistant to a 3C-Like Protease ...</td>\n",
       "      <td>10.1128/jvi.01528-14</td>\n",
       "      <td>PMC4178758</td>\n",
       "      <td>25100843.0</td>\n",
       "      <td>unk</td>\n",
       "      <td>Viral protease inhibitors are remarkably effec...</td>\n",
       "      <td>2014-08-06</td>\n",
       "      <td>Deng, Xufang; StJohn, Sarah E.; Osswald, Heath...</td>\n",
       "      <td>Journal of Virology</td>\n",
       "      <td>NaN</td>\n",
       "      <td>NaN</td>\n",
       "      <td>False</td>\n",
       "      <td>NaN</td>\n",
       "      <td>https://jvi.asm.org/content/jvi/88/20/11886.fu...</td>\n",
       "      <td>43</td>\n",
       "    </tr>\n",
       "    <tr>\n",
       "      <th>26462</th>\n",
       "      <td>ak7xdckg</td>\n",
       "      <td>NaN</td>\n",
       "      <td>PMC</td>\n",
       "      <td>Broad-Spectrum Inhibitors against 3C-Like Prot...</td>\n",
       "      <td>10.1128/jvi.03688-14</td>\n",
       "      <td>PMC4403489</td>\n",
       "      <td>25694593.0</td>\n",
       "      <td>unk</td>\n",
       "      <td>Feline infectious peritonitis and virulent, sy...</td>\n",
       "      <td>2015-02-18</td>\n",
       "      <td>Kim, Yunjeong; Shivanna, Vinay; Narayanan, San...</td>\n",
       "      <td>Journal of Virology</td>\n",
       "      <td>NaN</td>\n",
       "      <td>NaN</td>\n",
       "      <td>False</td>\n",
       "      <td>NaN</td>\n",
       "      <td>https://jvi.asm.org/content/jvi/89/9/4942.full...</td>\n",
       "      <td>43</td>\n",
       "    </tr>\n",
       "    <tr>\n",
       "      <th>43433</th>\n",
       "      <td>5gt5r2uu</td>\n",
       "      <td>df579575e205bcb94b108aaafb35adbdbb0ad36b; 889d...</td>\n",
       "      <td>Elsevier</td>\n",
       "      <td>Potent inhibition of feline coronaviruses with...</td>\n",
       "      <td>10.1016/j.antiviral.2012.11.005</td>\n",
       "      <td>PMC3563934</td>\n",
       "      <td>23219425.0</td>\n",
       "      <td>els-covid</td>\n",
       "      <td>Abstract Feline coronavirus infection is commo...</td>\n",
       "      <td>2013-02-28</td>\n",
       "      <td>Kim, Yunjeong; Mandadapu, Sivakoteswara Rao; G...</td>\n",
       "      <td>Antiviral Research</td>\n",
       "      <td>NaN</td>\n",
       "      <td>NaN</td>\n",
       "      <td>True</td>\n",
       "      <td>custom_license</td>\n",
       "      <td>https://doi.org/10.1016/j.antiviral.2012.11.005</td>\n",
       "      <td>43</td>\n",
       "    </tr>\n",
       "    <tr>\n",
       "      <th>44526</th>\n",
       "      <td>nc05llre</td>\n",
       "      <td>731850c43ecbc6aa4528d66761c8d9c8aa05f3d0</td>\n",
       "      <td>Elsevier</td>\n",
       "      <td>Protease inhibitors broadly effective against ...</td>\n",
       "      <td>10.1016/j.antiviral.2018.10.015</td>\n",
       "      <td>PMC6240502</td>\n",
       "      <td>30342822.0</td>\n",
       "      <td>els-covid</td>\n",
       "      <td>Abstract Ferret and mink coronaviruses typical...</td>\n",
       "      <td>2018-12-31</td>\n",
       "      <td>Perera, Krishani Dinali; Galasiti Kankanamalag...</td>\n",
       "      <td>Antiviral Research</td>\n",
       "      <td>NaN</td>\n",
       "      <td>NaN</td>\n",
       "      <td>True</td>\n",
       "      <td>custom_license</td>\n",
       "      <td>https://doi.org/10.1016/j.antiviral.2018.10.015</td>\n",
       "      <td>43</td>\n",
       "    </tr>\n",
       "  </tbody>\n",
       "</table>\n",
       "</div>"
      ],
      "text/plain": [
       "       cord_uid                                                sha  source_x  \\\n",
       "8770   tph5n7ak           c10d2b72f8d450209946e805ba18154c9a6c5f7f       PMC   \n",
       "17559  d8inkno4                                                NaN       PMC   \n",
       "23648  jiaa6bz1                                                NaN       PMC   \n",
       "24307  fcrusu9m                                                NaN       PMC   \n",
       "26205  0kgkj906                                                NaN       PMC   \n",
       "26462  ak7xdckg                                                NaN       PMC   \n",
       "43433  5gt5r2uu  df579575e205bcb94b108aaafb35adbdbb0ad36b; 889d...  Elsevier   \n",
       "44526  nc05llre           731850c43ecbc6aa4528d66761c8d9c8aa05f3d0  Elsevier   \n",
       "\n",
       "                                                   title  \\\n",
       "8770   Reversal of the Progression of Fatal Coronavir...   \n",
       "17559  GII.4 Norovirus Protease Shows pH-Sensitive Pr...   \n",
       "23648  Crystal Structure of Feline Infectious Periton...   \n",
       "24307  A Chimeric Virus-Mouse Model System for Evalua...   \n",
       "26205  Coronaviruses Resistant to a 3C-Like Protease ...   \n",
       "26462  Broad-Spectrum Inhibitors against 3C-Like Prot...   \n",
       "43433  Potent inhibition of feline coronaviruses with...   \n",
       "44526  Protease inhibitors broadly effective against ...   \n",
       "\n",
       "                                   doi       pmcid   pubmed_id    license  \\\n",
       "8770      10.1371/journal.ppat.1005531  PMC4814111  27027316.0      cc-by   \n",
       "17559             10.1128/jvi.01479-18  PMC6401421  30626675.0        unk   \n",
       "23648             10.1128/jvi.02685-15  PMC4734010  26656689.0        unk   \n",
       "24307             10.1128/jvi.01749-14  PMC4178736  25100850.0        unk   \n",
       "26205             10.1128/jvi.01528-14  PMC4178758  25100843.0        unk   \n",
       "26462             10.1128/jvi.03688-14  PMC4403489  25694593.0        unk   \n",
       "43433  10.1016/j.antiviral.2012.11.005  PMC3563934  23219425.0  els-covid   \n",
       "44526  10.1016/j.antiviral.2018.10.015  PMC6240502  30342822.0  els-covid   \n",
       "\n",
       "                                                abstract publish_time  \\\n",
       "8770   Coronaviruses infect animals and humans causin...   2016-03-30   \n",
       "17559  Human noroviruses (NoVs) are the main cause of...   2019-01-09   \n",
       "23648  Coronaviruses (CoVs) can cause highly prevalen...   2015-12-09   \n",
       "24307  To combat emerging coronaviruses, developing s...   2014-08-06   \n",
       "26205  Viral protease inhibitors are remarkably effec...   2014-08-06   \n",
       "26462  Feline infectious peritonitis and virulent, sy...   2015-02-18   \n",
       "43433  Abstract Feline coronavirus infection is commo...   2013-02-28   \n",
       "44526  Abstract Ferret and mink coronaviruses typical...   2018-12-31   \n",
       "\n",
       "                                                 authors              journal  \\\n",
       "8770   Kim, Yunjeong; Liu, Hongwei; Galasiti Kankanam...          PLoS Pathog   \n",
       "17559  Viskovska, Mariya A.; Zhao, Boyang; Shanker, S...  Journal of Virology   \n",
       "23648  Wang, Fenghua; Chen, Cheng; Liu, Xuemeng; Yang...  Journal of Virology   \n",
       "24307  Deng, Xufang; Agnihothram, Sudhakar; Mielech, ...  Journal of Virology   \n",
       "26205  Deng, Xufang; StJohn, Sarah E.; Osswald, Heath...  Journal of Virology   \n",
       "26462  Kim, Yunjeong; Shivanna, Vinay; Narayanan, San...  Journal of Virology   \n",
       "43433  Kim, Yunjeong; Mandadapu, Sivakoteswara Rao; G...   Antiviral Research   \n",
       "44526  Perera, Krishani Dinali; Galasiti Kankanamalag...   Antiviral Research   \n",
       "\n",
       "       Microsoft Academic Paper ID WHO #Covidence  has_full_text  \\\n",
       "8770                           NaN            NaN           True   \n",
       "17559                          NaN            NaN          False   \n",
       "23648                          NaN            NaN          False   \n",
       "24307                          NaN            NaN          False   \n",
       "26205                          NaN            NaN          False   \n",
       "26462                          NaN            NaN          False   \n",
       "43433                          NaN            NaN           True   \n",
       "44526                          NaN            NaN           True   \n",
       "\n",
       "        full_text_file                                                url  \\\n",
       "8770   comm_use_subset  https://www.ncbi.nlm.nih.gov/pmc/articles/PMC4...   \n",
       "17559              NaN  https://jvi.asm.org/content/jvi/93/6/e01479-18...   \n",
       "23648              NaN  https://jvi.asm.org/content/jvi/90/4/1910.full...   \n",
       "24307              NaN  https://jvi.asm.org/content/jvi/88/20/11825.fu...   \n",
       "26205              NaN  https://jvi.asm.org/content/jvi/88/20/11886.fu...   \n",
       "26462              NaN  https://jvi.asm.org/content/jvi/89/9/4942.full...   \n",
       "43433   custom_license    https://doi.org/10.1016/j.antiviral.2012.11.005   \n",
       "44526   custom_license    https://doi.org/10.1016/j.antiviral.2018.10.015   \n",
       "\n",
       "       clusters  \n",
       "8770         43  \n",
       "17559        43  \n",
       "23648        43  \n",
       "24307        43  \n",
       "26205        43  \n",
       "26462        43  \n",
       "43433        43  \n",
       "44526        43  "
      ]
     },
     "execution_count": 32,
     "metadata": {},
     "output_type": "execute_result"
    }
   ],
   "source": [
    "data['clusters'] = labeldf\n",
    "data[data.clusters == 43]"
   ]
  },
  {
   "cell_type": "code",
   "execution_count": 7,
   "metadata": {},
   "outputs": [],
   "source": [
    "def clean(article):\n",
    "    tokens = word_tokenize(article)\n",
    "    # convert to lower case\n",
    "    tokens = [w.lower() for w in tokens]\n",
    "\n",
    "    # prepare regex for char filtering\n",
    "    re_punc = re.compile('[%s]' % re.escape(string.punctuation))\n",
    "\n",
    "    # remove punctuation from each word\n",
    "    # sub function susbstitutes punctuation with nothing\n",
    "    stripped = [re_punc.sub('', w) for w in tokens]\n",
    "\n",
    "    # remove remaining tokens that are not alphabetic\n",
    "    words = [word for word in stripped if word.isalpha()]\n",
    "\n",
    "    # filter out stop words\n",
    "    stop_words = set(stopwords.words('english'))\n",
    "    words = [w for w in words if not w in stop_words]\n",
    "    return words"
   ]
  },
  {
   "cell_type": "code",
   "execution_count": 89,
   "metadata": {},
   "outputs": [],
   "source": [
    "docs = []\n",
    "for doc in data.abstract:\n",
    "    new_string = \" \"\n",
    "    docs.append(new_string.join(clean(doc)))"
   ]
  },
  {
   "cell_type": "code",
   "execution_count": 47,
   "metadata": {},
   "outputs": [],
   "source": [
    "master_docs = []\n",
    "for i,doc in enumerate(data.abstract):\n",
    "    #master_docs.append(clean(doc))\n",
    "    master_docs.append(TaggedDocument(words=clean(doc), tags=[str(data.index[i])]))\n",
    "#TaggedDocument(words=clean(data.abstract[0]), tags = data.sha[0])"
   ]
  },
  {
   "cell_type": "code",
   "execution_count": 30,
   "metadata": {},
   "outputs": [
    {
     "data": {
      "text/plain": [
       "'Coronaviruses infect animals and humans causing a wide range of diseases. The diversity of coronaviruses in many mammalian species is contributed by relatively high mutation and recombination rates during replication. This dynamic nature of coronaviruses may facilitate cross-species transmission and shifts in tissue or cell tropism in a host, resulting in substantial change in virulence. Feline enteric coronavirus (FECV) causes inapparent or mild enteritis in cats, but a highly fatal disease, called feline infectious peritonitis (FIP), can arise through mutation of FECV to FIP virus (FIPV). The pathogenesis of FIP is intimately associated with immune responses and involves depletion of T cells, features shared by some other coronaviruses like Severe Acute Respiratory Syndrome Coronavirus. The increasing risks of highly virulent coronavirus infections in humans or animals call for effective antiviral drugs, but no such measures are yet available. Previously, we have reported the inhibitors that target 3C-like protease (3CLpro) with broad-spectrum activity against important human and animal coronaviruses. Here, we evaluated the therapeutic efficacy of our 3CLpro inhibitor in laboratory cats with FIP. Experimental FIP is 100% fatal once certain clinical and laboratory signs become apparent. We found that antiviral treatment led to full recovery of cats when treatment was started at a stage of disease that would be otherwise fatal if left untreated. Antiviral treatment was associated with a rapid improvement in fever, ascites, lymphopenia and gross signs of illness and cats returned to normal health within 20 days or less of treatment. Significant reduction in viral titers was also observed in cats. These results indicate that continuous virus replication is required for progression of immune-mediated inflammatory disease of FIP. These findings may provide important insights into devising therapeutic strategies and selection of antiviral compounds for further development for important coronaviruses in animals and humans.'"
      ]
     },
     "execution_count": 30,
     "metadata": {},
     "output_type": "execute_result"
    }
   ],
   "source": [
    "data.abstract[8770]"
   ]
  },
  {
   "cell_type": "code",
   "execution_count": 61,
   "metadata": {},
   "outputs": [
    {
     "data": {
      "text/plain": [
       "'Feline coronaviruses (FCoVs) are found throughout the world. Infection with FCoV can result in a diverse range of signs from clinically inapparent infections to a highly fatal disease called feline infectious peritonitis (FIP). FIP is one of the most serious viral diseases of cats. While there is neither an effective vaccine, nor a curative treatment for FIP, a diagnostic protocol for FCoV would greatly assist in the management and control of the virus. Clinical findings in FIP are non-specific and not helpful in making a differential diagnosis. Haematological and biochemical abnormalities in FIP cases are also non-specific. The currently available serological tests have low specificity and sensitivity for detection of active infection and cross-react with FCoV strains of low pathogenicity, the feline enteric coronaviruses (FECV). Reverse transcriptase polymerase chain reaction (RT-PCR) has been used to detect FCoV and is rapid and sensitive, but results must be interpreted in the context of clinical findings. At present, a definitive diagnosis of FIP can be established only by histopathological examination of biopsies. This paper describes and compares diagnostic methods for FCoVs and includes a brief account of the virus biology, epidemiology, and pathogenesis.'"
      ]
     },
     "execution_count": 61,
     "metadata": {},
     "output_type": "execute_result"
    }
   ],
   "source": [
    "data.abstract[3782]"
   ]
  },
  {
   "cell_type": "code",
   "execution_count": 59,
   "metadata": {},
   "outputs": [
    {
     "name": "stdout",
     "output_type": "stream",
     "text": [
      "Doc2Vec(dm/m,d100,n5,w5,mc3,s0.001,t3)\n"
     ]
    }
   ],
   "source": [
    "model = Doc2Vec(min_count = 3, window = 5)\n",
    "model.build_vocab(master_docs)\n",
    "model.train(master_docs, total_examples=model.corpus_count, epochs=100)\n",
    "print(model)"
   ]
  },
  {
   "cell_type": "code",
   "execution_count": 49,
   "metadata": {},
   "outputs": [
    {
     "data": {
      "text/plain": [
       "37913"
      ]
     },
     "execution_count": 49,
     "metadata": {},
     "output_type": "execute_result"
    }
   ],
   "source": [
    "model.docvecs.count"
   ]
  },
  {
   "cell_type": "code",
   "execution_count": 34,
   "metadata": {},
   "outputs": [
    {
     "data": {
      "text/plain": [
       "37913"
      ]
     },
     "execution_count": 34,
     "metadata": {},
     "output_type": "execute_result"
    }
   ],
   "source": [
    "model.corpus_count"
   ]
  },
  {
   "cell_type": "code",
   "execution_count": 60,
   "metadata": {},
   "outputs": [
    {
     "data": {
      "text/plain": [
       "[('8770', 0.9852409362792969),\n",
       " ('3782', 0.4600374400615692),\n",
       " ('21482', 0.44840601086616516),\n",
       " ('33982', 0.4481196403503418),\n",
       " ('1220', 0.43271398544311523),\n",
       " ('1568', 0.4323829114437103),\n",
       " ('44430', 0.42544665932655334),\n",
       " ('20407', 0.42329058051109314),\n",
       " ('4736', 0.42135369777679443),\n",
       " ('7433', 0.4194107949733734)]"
      ]
     },
     "execution_count": 60,
     "metadata": {},
     "output_type": "execute_result"
    }
   ],
   "source": [
    "new_vector = model.infer_vector(clean(data.abstract[8770]))\n",
    "model.docvecs.most_similar([new_vector])"
   ]
  },
  {
   "cell_type": "code",
   "execution_count": 70,
   "metadata": {},
   "outputs": [
    {
     "name": "stderr",
     "output_type": "stream",
     "text": [
      "C:\\Users\\eric_\\Anaconda3\\lib\\site-packages\\ipykernel_launcher.py:1: DeprecationWarning: Call to deprecated `doctag_syn0` (Attribute will be removed in 4.0.0, use docvecs.vectors_docs instead).\n",
      "  \"\"\"Entry point for launching an IPython kernel.\n"
     ]
    },
    {
     "data": {
      "text/plain": [
       "<matplotlib.collections.PathCollection at 0x1abb4b7b7f0>"
      ]
     },
     "execution_count": 70,
     "metadata": {},
     "output_type": "execute_result"
    },
    {
     "data": {
      "image/png": "[encoded data removed]",
      "text/plain": [
       "<Figure size 432x288 with 1 Axes>"
      ]
     },
     "metadata": {
      "needs_background": "light"
     },
     "output_type": "display_data"
    }
   ],
   "source": [
    "X = model.docvecs.doctag_syn0\n",
    "pca = PCA(n_components=2)\n",
    "\n",
    "result = pca.fit_transform(X)\n",
    "pyplot.scatter(result[:, 0], result[:, 1])"
   ]
  },
  {
   "cell_type": "code",
   "execution_count": null,
   "metadata": {},
   "outputs": [],
   "source": []
  },
  {
   "cell_type": "code",
   "execution_count": null,
   "metadata": {},
   "outputs": [],
   "source": []
  }
 ],
 "metadata": {
  "kernelspec": {
   "display_name": "Python 3",
   "language": "python",
   "name": "python3"
  },
  "language_info": {
   "codemirror_mode": {
    "name": "ipython",
    "version": 3
   },
   "file_extension": ".py",
   "mimetype": "text/x-python",
   "name": "python",
   "nbconvert_exporter": "python",
   "pygments_lexer": "ipython3",
   "version": "3.7.3"
  }
 },
 "nbformat": 4,
 "nbformat_minor": 4
}
