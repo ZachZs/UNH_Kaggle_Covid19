{
 "cells": [
  {
   "cell_type": "markdown",
   "metadata": {},
   "source": [
    "### Google's Page Rank be applied to the covid_19 papers?"
   ]
  },
  {
   "cell_type": "code",
   "execution_count": 1,
   "metadata": {},
   "outputs": [],
   "source": [
    "import pandas as pd\n",
    "import numpy as np\n",
    "import pickle\n",
    "import time"
   ]
  },
  {
   "cell_type": "code",
   "execution_count": 2,
   "metadata": {},
   "outputs": [],
   "source": [
    "papers = pd.read_csv(\"covid19_papers_compiled.csv\")"
   ]
  },
  {
   "cell_type": "code",
   "execution_count": 3,
   "metadata": {},
   "outputs": [],
   "source": [
    "#load in authors and citations as list\n",
    "with open(\"covid_authors_list.txt\", \"rb\") as fp:\n",
    "    b = pickle.load(fp)\n",
    "papers['Authors'] = b\n",
    "with open(\"covid_citations_list.txt\", \"rb\") as fp:\n",
    "    b = pickle.load(fp)\n",
    "papers['Citations'] = b"
   ]
  },
  {
   "cell_type": "code",
   "execution_count": 4,
   "metadata": {},
   "outputs": [],
   "source": [
    "#filter out only english ones\n",
    "papers = papers[papers['Language'] == 'en']"
   ]
  },
  {
   "cell_type": "code",
   "execution_count": 5,
   "metadata": {},
   "outputs": [],
   "source": [
    "#drop papers without any titles\n",
    "papers = papers[papers['Titles'].notnull()]"
   ]
  },
  {
   "cell_type": "code",
   "execution_count": 6,
   "metadata": {},
   "outputs": [
    {
     "data": {
      "text/plain": [
       "'Exhaled Air Dispersion During Oxygen Delivery Via a Simple Oxygen Mask*'"
      ]
     },
     "execution_count": 6,
     "metadata": {},
     "output_type": "execute_result"
    }
   ],
   "source": [
    "papers.iloc[635]['Titles']"
   ]
  },
  {
   "cell_type": "markdown",
   "metadata": {},
   "source": [
    "Create string matcher"
   ]
  },
  {
   "cell_type": "code",
   "execution_count": 7,
   "metadata": {},
   "outputs": [],
   "source": [
    "#pull all possible citations\n",
    "all_citations = []\n",
    "for i in range(0,len(papers)):\n",
    "    citations = papers['Citations'].iloc[i]\n",
    "    for foo in citations:\n",
    "        paper = foo[0]\n",
    "        year = foo[1]\n",
    "        paper_year = paper + \" \" + str(year)\n",
    "        all_citations.append(paper_year)\n",
    "        "
   ]
  },
  {
   "cell_type": "code",
   "execution_count": 8,
   "metadata": {},
   "outputs": [
    {
     "data": {
      "text/plain": [
       "1398382"
      ]
     },
     "execution_count": 8,
     "metadata": {},
     "output_type": "execute_result"
    }
   ],
   "source": [
    "len(all_citations)"
   ]
  },
  {
   "cell_type": "code",
   "execution_count": 9,
   "metadata": {},
   "outputs": [
    {
     "data": {
      "text/plain": [
       "917982"
      ]
     },
     "execution_count": 9,
     "metadata": {},
     "output_type": "execute_result"
    }
   ],
   "source": [
    "len(set(all_citations))"
   ]
  },
  {
   "cell_type": "code",
   "execution_count": 10,
   "metadata": {},
   "outputs": [
    {
     "data": {
      "text/plain": [
       "480400"
      ]
     },
     "execution_count": 10,
     "metadata": {},
     "output_type": "execute_result"
    }
   ],
   "source": [
    "1398382 - 917982"
   ]
  },
  {
   "cell_type": "markdown",
   "metadata": {},
   "source": [
    "For a total of 23515 papers, they share a unique set of 917982 papers. Does that make sense?"
   ]
  },
  {
   "cell_type": "code",
   "execution_count": 11,
   "metadata": {},
   "outputs": [
    {
     "data": {
      "text/plain": [
       "36"
      ]
     },
     "execution_count": 11,
     "metadata": {},
     "output_type": "execute_result"
    }
   ],
   "source": [
    "917982 // 25315"
   ]
  },
  {
   "cell_type": "markdown",
   "metadata": {},
   "source": [
    "This implies that each paper has an average of 36 citations to it?\n",
    "Asked Sarah, this somes about right.\n",
    "\n",
    "However, we only want to make the transition matrix with papers that are common to the list of all papers all possible citations. We need to make this square"
   ]
  },
  {
   "cell_type": "code",
   "execution_count": 12,
   "metadata": {},
   "outputs": [],
   "source": [
    "#pull all possible citations\n",
    "all_titles = []\n",
    "for i in range(0,len(papers)):\n",
    "    citations = papers['Citations'].iloc[i]\n",
    "    for foo in citations:\n",
    "        paper = foo[0]\n",
    "        all_titles.append(paper)"
   ]
  },
  {
   "cell_type": "code",
   "execution_count": 13,
   "metadata": {},
   "outputs": [
    {
     "data": {
      "text/plain": [
       "1398382"
      ]
     },
     "execution_count": 13,
     "metadata": {},
     "output_type": "execute_result"
    }
   ],
   "source": [
    "len(all_titles)"
   ]
  },
  {
   "cell_type": "code",
   "execution_count": 14,
   "metadata": {},
   "outputs": [
    {
     "data": {
      "text/plain": [
       "6495"
      ]
     },
     "execution_count": 14,
     "metadata": {},
     "output_type": "execute_result"
    }
   ],
   "source": [
    "len(set(list(papers['Titles'])).intersection(set(all_titles)))"
   ]
  },
  {
   "cell_type": "markdown",
   "metadata": {},
   "source": [
    "* Our Matrix will only be $6495 \\times 6495$.\n",
    "* Lets subset so that we only. have those papers!"
   ]
  },
  {
   "cell_type": "code",
   "execution_count": 15,
   "metadata": {},
   "outputs": [],
   "source": [
    "common_papers = set(list(papers['Titles'])).intersection(set(all_titles))"
   ]
  },
  {
   "cell_type": "code",
   "execution_count": 18,
   "metadata": {},
   "outputs": [
    {
     "data": {
      "text/plain": [
       "6597"
      ]
     },
     "execution_count": 18,
     "metadata": {},
     "output_type": "execute_result"
    }
   ],
   "source": [
    "sum(papers['Titles'].isin(common_papers))"
   ]
  },
  {
   "cell_type": "code",
   "execution_count": 19,
   "metadata": {},
   "outputs": [],
   "source": [
    "papers = papers[papers['Titles'].isin(common_papers)]"
   ]
  },
  {
   "cell_type": "code",
   "execution_count": 20,
   "metadata": {},
   "outputs": [
    {
     "data": {
      "text/plain": [
       "(6597, 10)"
      ]
     },
     "execution_count": 20,
     "metadata": {},
     "output_type": "execute_result"
    }
   ],
   "source": [
    "papers.shape"
   ]
  },
  {
   "cell_type": "markdown",
   "metadata": {},
   "source": [
    "### Generate Transition Matrix\n",
    "* where a row is a paper\n",
    "* columns are citations\n",
    "* i,j entry is where citation of a paper is in a paper\n",
    "* i could use sklearn countvectorizer, but i want to avoid using a dependency on this project\n",
    "* derive from first principles"
   ]
  },
  {
   "cell_type": "code",
   "execution_count": 27,
   "metadata": {},
   "outputs": [],
   "source": [
    "def create_title(x):\n",
    "    all_citations = []\n",
    "    for foo in x:\n",
    "        paper = foo[0]\n",
    "        all_citations.append(paper)\n",
    "    return(all_citations)\n",
    "    \n",
    "    "
   ]
  },
  {
   "cell_type": "code",
   "execution_count": 28,
   "metadata": {},
   "outputs": [
    {
     "name": "stderr",
     "output_type": "stream",
     "text": [
      "/anaconda3/lib/python3.7/site-packages/ipykernel_launcher.py:1: SettingWithCopyWarning: \n",
      "A value is trying to be set on a copy of a slice from a DataFrame.\n",
      "Try using .loc[row_indexer,col_indexer] = value instead\n",
      "\n",
      "See the caveats in the documentation: https://pandas.pydata.org/pandas-docs/stable/user_guide/indexing.html#returning-a-view-versus-a-copy\n",
      "  \"\"\"Entry point for launching an IPython kernel.\n"
     ]
    }
   ],
   "source": [
    "papers['Title_Year'] = papers['Citations'].apply(create_title)"
   ]
  },
  {
   "cell_type": "code",
   "execution_count": 32,
   "metadata": {},
   "outputs": [
    {
     "data": {
      "text/plain": [
       "'Epidemiological determinants of spread of causal agent of severe acute respiratory syndrome in Hong Kong'"
      ]
     },
     "execution_count": 32,
     "metadata": {},
     "output_type": "execute_result"
    }
   ],
   "source": [
    "papers['Title_Year'].iloc[9][0]"
   ]
  },
  {
   "cell_type": "code",
   "execution_count": 33,
   "metadata": {},
   "outputs": [],
   "source": [
    "citations_per_paper = list(papers['Title_Year'])"
   ]
  },
  {
   "cell_type": "code",
   "execution_count": 37,
   "metadata": {},
   "outputs": [
    {
     "data": {
      "text/plain": [
       "(6597, 6597)"
      ]
     },
     "execution_count": 37,
     "metadata": {},
     "output_type": "execute_result"
    }
   ],
   "source": [
    "len(citations_per_paper),len(papers['Titles'])"
   ]
  },
  {
   "cell_type": "code",
   "execution_count": 49,
   "metadata": {},
   "outputs": [],
   "source": [
    "from scipy import sparse\n",
    "#test to create sparse matrix\n",
    "transition_matrix = np.zeros((len(citations_per_paper),len(papers)))"
   ]
  },
  {
   "cell_type": "code",
   "execution_count": 50,
   "metadata": {},
   "outputs": [
    {
     "data": {
      "text/plain": [
       "array([[0., 0., 0., ..., 0., 0., 0.],\n",
       "       [0., 0., 0., ..., 0., 0., 0.],\n",
       "       [0., 0., 0., ..., 0., 0., 0.],\n",
       "       ...,\n",
       "       [0., 0., 0., ..., 0., 0., 0.],\n",
       "       [0., 0., 0., ..., 0., 0., 0.],\n",
       "       [0., 0., 0., ..., 0., 0., 0.]])"
      ]
     },
     "execution_count": 50,
     "metadata": {},
     "output_type": "execute_result"
    }
   ],
   "source": [
    "transition_matrix"
   ]
  },
  {
   "cell_type": "code",
   "execution_count": 51,
   "metadata": {},
   "outputs": [],
   "source": [
    "set_all_citations = list(papers['Titles'])"
   ]
  },
  {
   "cell_type": "code",
   "execution_count": 52,
   "metadata": {},
   "outputs": [],
   "source": [
    "#only need to go across rows\n",
    "for i in range(0,len(citations_per_paper)-1):\n",
    "    #pull citations for i'th paper\n",
    "    ith_citations = citations_per_paper[i]\n",
    "    #search across ith_citations, to get indices\n",
    "    indices = []\n",
    "    for j in range(0, len(ith_citations)-1):\n",
    "        if ith_citations[j] in list(common_papers):\n",
    "            index = set_all_citations.index(ith_citations[j])\n",
    "            indices.append(index)\n",
    "        else:\n",
    "            pass\n",
    "    #update entries in transition matrix\n",
    "    for idx in indices:\n",
    "        transition_matrix[i,idx] = 1 "
   ]
  },
  {
   "cell_type": "markdown",
   "metadata": {},
   "source": [
    "### Notes and Transition Matrix and Citation Rank\n",
    "* Citation Rank is very similiar to how google uses its page rank\n",
    "* We begin with the tranistion matrix, $M$, which is $M\\times N$\n",
    "* An element $M_{ij}$ in this matrix is flagged with a 1\n",
    "* This indicates that there is a connection between the $i'th$ paper in the corpus and the $j'th$ paper in the citations\n",
    "* We can normalize this matrix across all citations in the row:\n",
    "    * $M_{ij} = \\frac{M_{ij}}{\\sum_{j}^{N} \\delta(M_{ij},1) = 1} $ \n",
    "    * $\\delta$ is the indicator function where $M_{ij} =1$, or just row sum noramlized to get proabilites, which are all uniform\n",
    "* We can call this normalized matrix $M$ as $M^*$\n",
    "* There is a nifty little derivation that says if you multiple $M^*$ $n$ times as $n \\to \\infty$, we would reach a steady state, where the probabilites would not differ much\n",
    "* We can factorize $M*$ into matrices D,M, and P:\n",
    "    * $D = P M^* P^{-1}$ \n",
    "    * this just means $M^*$ can be diagonlized\n",
    "    * for any number $n$ we can write:\n",
    "    * $P D^n P^{-1} = M^n$\n",
    "* Since D is diagonal, matrix mulplyting it n times is the same as exponentiating each term in the diagonal n times\n",
    "* The whole point was to multiply $M^*$ n times, this can be easiliy done my first diagnolizaing M, which is can be done by solving the eigen value problem for $M*$\n",
    "    * which is $M^{*T} v = \\lambda v$\n",
    "* M has a really nice property since its stochastic, where the leading eigenvalue has an upper bound of 1, we can take the eigenvector with the leading eigenvalue of 1\n",
    "* This would give us the relative ranking for all papers, just sort that eigenvector"
   ]
  },
  {
   "cell_type": "code",
   "execution_count": 44,
   "metadata": {},
   "outputs": [
    {
     "data": {
      "text/plain": [
       "<6597x6597 sparse matrix of type '<class 'numpy.float64'>'\n",
       "\twith 12197 stored elements in LInked List format>"
      ]
     },
     "execution_count": 44,
     "metadata": {},
     "output_type": "execute_result"
    }
   ],
   "source": [
    "transition_matrix"
   ]
  },
  {
   "cell_type": "code",
   "execution_count": 54,
   "metadata": {},
   "outputs": [
    {
     "name": "stdout",
     "output_type": "stream",
     "text": [
      "Percent Sparsity is  0.97\n"
     ]
    }
   ],
   "source": [
    "print('Percent Sparsity is ',1-np.round((12197 / 6597**2)*100,2))"
   ]
  },
  {
   "cell_type": "code",
   "execution_count": 48,
   "metadata": {},
   "outputs": [
    {
     "data": {
      "text/plain": [
       "0.348163272"
      ]
     },
     "execution_count": 48,
     "metadata": {},
     "output_type": "execute_result"
    }
   ],
   "source": [
    "np.zeros((len(citations_per_paper),len(citations_per_paper))).nbytes*1e-9"
   ]
  },
  {
   "cell_type": "markdown",
   "metadata": {},
   "source": [
    "### Stochastic Matrices\n",
    "* normalize so that the column sum is equal to 1"
   ]
  },
  {
   "cell_type": "code",
   "execution_count": 63,
   "metadata": {},
   "outputs": [],
   "source": [
    "#go across columns\n",
    "for i in range(0,transition_matrix.shape[0]-1):\n",
    "    #get column sum\n",
    "    col_sum = np.sum(transition_matrix[:,i])\n",
    "    if col_sum > 0.0:\n",
    "        #normalize elements\n",
    "        for j in range(0,len(transition_matrix[:,i])-1):\n",
    "            transition_matrix[j,i] = transition_matrix[j,i] / col_sum\n",
    "    else:\n",
    "        pass\n",
    "        "
   ]
  },
  {
   "cell_type": "markdown",
   "metadata": {},
   "source": [
    "about 8 hours"
   ]
  },
  {
   "cell_type": "markdown",
   "metadata": {},
   "source": [
    "### Check that colum sums to 1"
   ]
  },
  {
   "cell_type": "code",
   "execution_count": 75,
   "metadata": {},
   "outputs": [
    {
     "data": {
      "image/png": "[encoded data removed]",
      "text/plain": [
       "<Figure size 432x288 with 1 Axes>"
      ]
     },
     "metadata": {
      "needs_background": "light"
     },
     "output_type": "display_data"
    }
   ],
   "source": [
    "import matplotlib.pyplot as plt\n",
    "plt.hist(transition_matrix.sum(axis=0))\n",
    "plt.show()"
   ]
  },
  {
   "cell_type": "code",
   "execution_count": 76,
   "metadata": {},
   "outputs": [
    {
     "data": {
      "text/plain": [
       "1.000000000000002"
      ]
     },
     "execution_count": 76,
     "metadata": {},
     "output_type": "execute_result"
    }
   ],
   "source": [
    "np.max(transition_matrix.sum(axis=0))"
   ]
  },
  {
   "cell_type": "markdown",
   "metadata": {},
   "source": [
    "### Solve the eigen value problem"
   ]
  },
  {
   "cell_type": "code",
   "execution_count": 172,
   "metadata": {},
   "outputs": [],
   "source": [
    "w,v = np.linalg.eig(transition_matrix)"
   ]
  },
  {
   "cell_type": "markdown",
   "metadata": {},
   "source": [
    "### Find eigenvalues greater than 0"
   ]
  },
  {
   "cell_type": "code",
   "execution_count": 173,
   "metadata": {},
   "outputs": [
    {
     "data": {
      "text/plain": [
       "array([0.70710678, 0.28867513, 1.        , 0.35355339, 0.70710678,\n",
       "       0.28867513, 1.        , 1.        , 1.        , 1.        ,\n",
       "       1.        , 1.        , 1.        , 1.        , 0.5       ,\n",
       "       1.        , 1.        , 1.        , 0.33333333, 1.        ,\n",
       "       1.        , 1.        , 1.        , 0.5       , 1.        ,\n",
       "       1.        , 1.        , 1.        , 1.        , 1.        ,\n",
       "       1.        , 0.2       , 1.        , 1.        , 1.        ,\n",
       "       1.        , 1.        , 1.        , 1.        , 1.        ,\n",
       "       0.25      , 1.        , 1.        , 1.        , 1.        ])"
      ]
     },
     "execution_count": 173,
     "metadata": {},
     "output_type": "execute_result"
    }
   ],
   "source": [
    "w[w>0] "
   ]
  },
  {
   "cell_type": "markdown",
   "metadata": {},
   "source": [
    "The eigenvalues have are exactly correspond to papers that did not have any citations to any another papers in the transition matrix. Grab the eigen values that are greater than zero but less than one!"
   ]
  },
  {
   "cell_type": "code",
   "execution_count": 174,
   "metadata": {},
   "outputs": [
    {
     "data": {
      "text/plain": [
       "array([0.70710678, 0.28867513, 0.35355339, 0.70710678, 0.28867513,\n",
       "       0.5       , 0.33333333, 0.5       , 0.2       , 0.25      ])"
      ]
     },
     "execution_count": 174,
     "metadata": {},
     "output_type": "execute_result"
    }
   ],
   "source": [
    "w[(w>0) & (w <1)]"
   ]
  },
  {
   "cell_type": "code",
   "execution_count": 175,
   "metadata": {},
   "outputs": [
    {
     "data": {
      "text/plain": [
       "(array([ 291,  293,  297,  299,  301, 1819, 2457, 3787, 4714, 5508]),)"
      ]
     },
     "execution_count": 175,
     "metadata": {},
     "output_type": "execute_result"
    }
   ],
   "source": [
    "np.where((w>0) & (w <1))"
   ]
  },
  {
   "cell_type": "code",
   "execution_count": 176,
   "metadata": {},
   "outputs": [
    {
     "data": {
      "text/html": [
       "<div>\n",
       "<style scoped>\n",
       "    .dataframe tbody tr th:only-of-type {\n",
       "        vertical-align: middle;\n",
       "    }\n",
       "\n",
       "    .dataframe tbody tr th {\n",
       "        vertical-align: top;\n",
       "    }\n",
       "\n",
       "    .dataframe thead th {\n",
       "        text-align: right;\n",
       "    }\n",
       "</style>\n",
       "<table border=\"1\" class=\"dataframe\">\n",
       "  <thead>\n",
       "    <tr style=\"text-align: right;\">\n",
       "      <th></th>\n",
       "      <th>score</th>\n",
       "      <th>paper</th>\n",
       "    </tr>\n",
       "  </thead>\n",
       "  <tbody>\n",
       "    <tr>\n",
       "      <th>6195</th>\n",
       "      <td>0.707107</td>\n",
       "      <td>Specific mutations in H5N1 mainly impact the m...</td>\n",
       "    </tr>\n",
       "    <tr>\n",
       "      <th>6531</th>\n",
       "      <td>0.500000</td>\n",
       "      <td>New Metrics for Evaluating Viral Respiratory P...</td>\n",
       "    </tr>\n",
       "    <tr>\n",
       "      <th>3847</th>\n",
       "      <td>0.500000</td>\n",
       "      <td>Moving H5N1 studies into the era of systems bi...</td>\n",
       "    </tr>\n",
       "    <tr>\n",
       "      <th>0</th>\n",
       "      <td>0.000000</td>\n",
       "      <td>Airborne bioaerosols and their impact on human...</td>\n",
       "    </tr>\n",
       "    <tr>\n",
       "      <th>4404</th>\n",
       "      <td>0.000000</td>\n",
       "      <td>Influence of age and body condition on astrovi...</td>\n",
       "    </tr>\n",
       "    <tr>\n",
       "      <th>4403</th>\n",
       "      <td>0.000000</td>\n",
       "      <td>Development of a novel detection system for mi...</td>\n",
       "    </tr>\n",
       "    <tr>\n",
       "      <th>4402</th>\n",
       "      <td>0.000000</td>\n",
       "      <td>Endogenous ribosomal frameshift signals operat...</td>\n",
       "    </tr>\n",
       "    <tr>\n",
       "      <th>4401</th>\n",
       "      <td>0.000000</td>\n",
       "      <td>ALV-J strain SCAU-HN06 induces innate immune r...</td>\n",
       "    </tr>\n",
       "    <tr>\n",
       "      <th>4400</th>\n",
       "      <td>0.000000</td>\n",
       "      <td>The reproductive number of COVID-19 is higher ...</td>\n",
       "    </tr>\n",
       "    <tr>\n",
       "      <th>4399</th>\n",
       "      <td>0.000000</td>\n",
       "      <td>Community Case Clusters of Middle East Respira...</td>\n",
       "    </tr>\n",
       "  </tbody>\n",
       "</table>\n",
       "</div>"
      ],
      "text/plain": [
       "         score                                              paper\n",
       "6195  0.707107  Specific mutations in H5N1 mainly impact the m...\n",
       "6531  0.500000  New Metrics for Evaluating Viral Respiratory P...\n",
       "3847  0.500000  Moving H5N1 studies into the era of systems bi...\n",
       "0     0.000000  Airborne bioaerosols and their impact on human...\n",
       "4404  0.000000  Influence of age and body condition on astrovi...\n",
       "4403  0.000000  Development of a novel detection system for mi...\n",
       "4402  0.000000  Endogenous ribosomal frameshift signals operat...\n",
       "4401  0.000000  ALV-J strain SCAU-HN06 induces innate immune r...\n",
       "4400  0.000000  The reproductive number of COVID-19 is higher ...\n",
       "4399  0.000000  Community Case Clusters of Middle East Respira..."
      ]
     },
     "execution_count": 176,
     "metadata": {},
     "output_type": "execute_result"
    }
   ],
   "source": [
    "article_rankings = pd.DataFrame({'score':v[:,291],'paper': set_all_citations})\n",
    "article_rankings.sort_values('score',ascending=False).head(10)"
   ]
  },
  {
   "cell_type": "markdown",
   "metadata": {},
   "source": [
    "From an initial observation it would like as if papers in the same eigenvector of a certain eigen value are similiar (they most likely cited each other I believe).  Lets write a script that goes through of the the selected eigen values, and pull the papers that correspond to the cited eigenvector and examin them!"
   ]
  },
  {
   "cell_type": "code",
   "execution_count": 208,
   "metadata": {
    "scrolled": false
   },
   "outputs": [
    {
     "name": "stdout",
     "output_type": "stream",
     "text": [
      "For the eigenvalue of 0.7071067811865476\n",
      "==================\n",
      "The scores and papers are: \n",
      "0.7071067811865475 Specific mutations in H5N1 mainly impact the magnitude and velocity of the host response in mice\n",
      "0.5 New Metrics for Evaluating Viral Respiratory Pathogenesis\n",
      "0.5 Moving H5N1 studies into the era of systems biology\n",
      "0.0 Airborne bioaerosols and their impact on human health\n",
      "0.0 Influence of age and body condition on astrovirus infection of bats in Singapore: An evolutionary and epidemiological analysis\n",
      "0.0 Development of a novel detection system for microbes from bovine diarrhea by real-time PCR\n",
      "0.0 Endogenous ribosomal frameshift signals operate as mRNA destabilizing elements through at least two molecular pathways in yeast\n",
      "0.0 ALV-J strain SCAU-HN06 induces innate immune responses in chicken primary monocyte-derived macrophages\n",
      "0.0 The reproductive number of COVID-19 is higher compared to SARS coronavirus\n",
      "0.0 Community Case Clusters of Middle East Respiratory Syndrome Coronavirus in Hafr Al-Batin, Kingdom of Saudi Arabia: A Descriptive Genomic study\n",
      "\n",
      "\n",
      "For the eigenvalue of 0.28867513459481287\n",
      "==================\n",
      "The scores and papers are: \n",
      "0.4543506764424155 Estimates of global research productivity in using nicotine replacement therapy for tobacco cessation: a bibliometric study\n",
      "0.2973589179514111 Clinical features of patients infected with 2019 novel coronavirus in Wuhan, China\n",
      "0.28052997695772625 Clinical characteristics and intrauterine vertical transmission potential of COVID-19 infection in nine pregnant women: a retrospective review of medical records\n",
      "0.26785598399064386 Clinical course and risk factors for mortality of adult inpatients with COVID-19 in Wuhan, China: a retrospective cohort study\n",
      "0.22330322651599863 Potential inhibitors for 2019-nCoV coronavirus M protease from clinically approved medicines\n",
      "0.17495810329469336 Middle East Respiratory Syndrome Coronavirus and the One Health concept\n",
      "0.17470362990101188 Are children less susceptible to COVID-19?\n",
      "0.17470362990101188 Are children less susceptible to COVID-19?\n",
      "0.1399664826357547 Middle East respiratory syndrome coronavirus: transmission and phylogenetic evolution\n",
      "0.1399664826357547 Middle East respiratory syndrome coronavirus in the last two years: Health care workers still at risk\n",
      "\n",
      "\n",
      "For the eigenvalue of 0.3535533905932738\n",
      "==================\n",
      "The scores and papers are: \n",
      "0.0 Airborne bioaerosols and their impact on human health\n",
      "0.0 Comparison of three multiplex PCR assays for detection of respiratory viruses: Anyplex II RV16, AdvanSure RV, and Real-Q RV\n",
      "0.0 The reproductive number of COVID-19 is higher compared to SARS coronavirus\n",
      "0.0 Community Case Clusters of Middle East Respiratory Syndrome Coronavirus in Hafr Al-Batin, Kingdom of Saudi Arabia: A Descriptive Genomic study\n",
      "0.0 Shiga toxin-producing Escherichia coli (STEC) isolated from fecal samples of African dromedary camels\n",
      "0.0 CoVDB: a comprehensive database for comparative analysis of coronavirus genes and genomes\n",
      "0.0 Positive-sense RNA viruses reveal the complexity and dynamics of the cellular and viral epitranscriptomes during infection\n",
      "0.0 Clinical Progression and Cytokine Profiles of Middle East Respiratory Syndrome Coronavirus Infection\n",
      "0.0 Supporting Information\n",
      "0.0 Re-emergent Human Adenovirus Genome Type 7d Caused an Acute Respiratory Disease Outbreak in Southern China After a Twenty-one Year Absence\n",
      "\n",
      "\n",
      "For the eigenvalue of 0.7071067811865476\n",
      "==================\n",
      "The scores and papers are: \n",
      "0.7071067811865475 Experimental reproduction of winter dysentery in lactating cows using BCV Ð comparison with BCV infection in milk-fed calves\n",
      "0.5 A new comprehensive method for detection of livestock-related pathogenic viruses using a target enrichment system\n",
      "0.5 Capture ELISA systems for the detection of bovine coronavirus-speci®c IgA and IgM antibodies in milk and serum\n",
      "0.0 Airborne bioaerosols and their impact on human health\n",
      "0.0 Clinical Progression and Cytokine Profiles of Middle East Respiratory Syndrome Coronavirus Infection\n",
      "0.0 Influence of age and body condition on astrovirus infection of bats in Singapore: An evolutionary and epidemiological analysis\n",
      "0.0 Development of a novel detection system for microbes from bovine diarrhea by real-time PCR\n",
      "0.0 Endogenous ribosomal frameshift signals operate as mRNA destabilizing elements through at least two molecular pathways in yeast\n",
      "0.0 ALV-J strain SCAU-HN06 induces innate immune responses in chicken primary monocyte-derived macrophages\n",
      "0.0 The reproductive number of COVID-19 is higher compared to SARS coronavirus\n",
      "\n",
      "\n",
      "For the eigenvalue of 0.28867513459481287\n",
      "==================\n",
      "The scores and papers are: \n",
      "0.8295859279342762 Origins and Evolution of the Global RNA Virome\n",
      "0.29791820759197263 Homologous genetic recombination in the yellow head complex of nidoviruses infecting Penaeus monodon shrimp\n",
      "0.23948082940438994 A decade of RNA virus metagenomics is (not) enough\n",
      "0.23948082940438994 Identification of a novel nidovirus as a potential cause of large scale mortalities in the endangered Bellinger River snapping turtle (Myuchelys georgesi)\n",
      "0.1596538862695933 RNA transcription analysis and completion of the genome sequence of yellow head nidovirus\n",
      "0.1596538862695933 Real-time reverse transcription loop-mediated isothermal amplification for rapid detection of yellow head virus in shrimp\n",
      "0.13826432132237937 Identification of a novel nidovirus in an outbreak of fatal respiratory disease in ball pythons (Python regius)\n",
      "0.13826432132237937 Genetic diversity in the yellow head nidovirus complex\n",
      "0.13826432132237937 An Insect Nidovirus Emerging from a Primary Tropical Rainforest\n",
      "0.0 Positive-sense RNA viruses reveal the complexity and dynamics of the cellular and viral epitranscriptomes during infection\n",
      "\n",
      "\n",
      "For the eigenvalue of 0.5\n",
      "==================\n",
      "The scores and papers are: \n",
      "0.6172133998483676 A metaanalysis of bat phylogenetics and positive selection based on genomes and transcriptomes from 18 species\n",
      "0.41147559989891175 Longitudinal survey of two serotine bat (Eptesicus serotinus) maternity colonies exposed to EBLV-1 (European Bat Lyssavirus type 1): Assessment of survival and serological status variations using capture-recapture models\n",
      "0.3086066999241838 Going to Bat(s) for Studies of Disease Tolerance\n",
      "0.3086066999241838 Lack of inflammatory gene expression in bats: a unique role for a transcription repressor\n",
      "0.3086066999241838 Tools to study pathogen-host interactions in bats\n",
      "0.1543033499620919 Ecological Factors Associated with European Bat Lyssavirus Seroprevalence in Spanish Bats\n",
      "0.1543033499620919 Immunology of Bats and Their Viruses: Challenges and Opportunities\n",
      "0.1543033499620919 Adaptive modeling of viral diseases in bats with a focus on rabies\n",
      "0.1543033499620919 Bats, emerging infectious diseases, and the rabies paradigm revisited\n",
      "0.1543033499620919 Ecology of Zoonotic Infectious Diseases in Bats: Current Knowledge and Future Directions\n",
      "\n",
      "\n",
      "For the eigenvalue of 0.3333333333333333\n",
      "==================\n",
      "The scores and papers are: \n",
      "0.5773502691896258 Acute disseminated encephalomyelitis\n",
      "0.5773502691896258 Acute disseminated encephalomyelitis\n",
      "0.5773502691896258 Disseminated encephalomyelitis in children\n",
      "0.0 Caspase cleavage of viral proteins, another way for viruses to make the best of apoptosis\n",
      "0.0 EuPathDB: the eukaryotic pathogen genomics database resource\n",
      "0.0 Interleukin-18 expression and the response to treatment in patients with psoriasis\n",
      "0.0 Influence of age and body condition on astrovirus infection of bats in Singapore: An evolutionary and epidemiological analysis\n",
      "0.0 Development of a novel detection system for microbes from bovine diarrhea by real-time PCR\n",
      "0.0 Endogenous ribosomal frameshift signals operate as mRNA destabilizing elements through at least two molecular pathways in yeast\n",
      "0.0 ALV-J strain SCAU-HN06 induces innate immune responses in chicken primary monocyte-derived macrophages\n",
      "\n",
      "\n",
      "For the eigenvalue of 0.5\n",
      "==================\n",
      "The scores and papers are: \n",
      "0.8528028654224417 The human coronavirus HCoV-229E S-protein structure and receptor binding\n",
      "0.42640143271122083 Human Coronaviruses: A Review of Virus-Host Interactions\n",
      "0.21320071635561041 Enterovirus infections of the central nervous system\n",
      "0.21320071635561041 Human coronaviruses: Viral and cellular factors involved in neuroinvasiveness and neuropathogenesis\n",
      "0.0 Interleukin-18 expression and the response to treatment in patients with psoriasis\n",
      "0.0 Influence of age and body condition on astrovirus infection of bats in Singapore: An evolutionary and epidemiological analysis\n",
      "0.0 Development of a novel detection system for microbes from bovine diarrhea by real-time PCR\n",
      "0.0 Endogenous ribosomal frameshift signals operate as mRNA destabilizing elements through at least two molecular pathways in yeast\n",
      "0.0 ALV-J strain SCAU-HN06 induces innate immune responses in chicken primary monocyte-derived macrophages\n",
      "0.0 The reproductive number of COVID-19 is higher compared to SARS coronavirus\n",
      "\n",
      "\n",
      "For the eigenvalue of 0.2\n",
      "==================\n",
      "The scores and papers are: \n",
      "0.9657950439579434 Entrapment of H1N1 Influenza Virus Derived Conserved Peptides in PLGA Nanoparticles Enhances T Cell Response and Vaccine Efficacy in Pigs\n",
      "0.10721211038432217 The viral innate immune antagonism and an alternative vaccine design for PRRS virus\n",
      "0.10721211038432217 Biodegradable Nanoparticle-Entrapped Vaccine Induces Cross-Protective Immune Response against a Virulent Heterologous Respiratory Viral Infection in Pigs\n",
      "0.08063059541300262 PLGA nanoparticle entrapped killed porcine reproductive and respiratory syndrome virus vaccine helps in viral clearance in pigs\n",
      "0.07977182024516763 Viral Metagenomics Revealed Sendai Virus and Coronavirus Infection of Malayan Pangolins (Manis javanica)\n",
      "0.07531429241873872 Elevated dietary zinc oxide levels do not have a substantial effect on porcine reproductive and respiratory syndrome virus (PPRSV) vaccination and infection\n",
      "0.058479332936903 Evaluation of immune responses to porcine reproductive and respiratory syndrome virus in pigs during early stage of infection under farm conditions\n",
      "0.05101128046800234 Characterization and Pathogenicity of the Porcine Deltacoronavirus Isolated in Southwest China\n",
      "0.04873277744741916 Impact of genotype 1 and 2 of porcine reproductive and respiratory syndrome viruses on interferon-α responses by plasmacytoid dendritic cells\n",
      "0.04873277744741916 The porcine innate immune system: An update\n",
      "\n",
      "\n"
     ]
    }
   ],
   "source": [
    "eig_vals_needed = np.where((w>0) & (w <1))\n",
    "for i in range(0,len(eig_vals_needed[0])-1):\n",
    "    print('For the eigenvalue of', w[eig_vals_needed[0][i]])\n",
    "    print('==================')\n",
    "    article_rankings = pd.DataFrame({'score':v[:,eig_vals_needed[0][i]],'paper': set_all_citations})\n",
    "    #grab only the first ten\n",
    "    article_rankings = article_rankings.sort_values('score',ascending=False).head(10)\n",
    "    print('The scores and papers are: ')\n",
    "    for j in range(0,len(article_rankings)):\n",
    "        score = article_rankings['score'].iloc[j]\n",
    "        paper = article_rankings['paper'].iloc[j]\n",
    "        print(score,paper)\n",
    "    print('\\n')\n",
    "        \n",
    "    "
   ]
  },
  {
   "cell_type": "markdown",
   "metadata": {},
   "source": [
    "### Notes\n",
    "* For some of the groupings of papers, you would expect them to share citations among one another\n",
    "* I had to drop a lot of papers because I didn't do string matching for all paper titles among citations\n",
    "* I'm only matching papers in the corpus to citations that are papers in the corpus\n",
    "* I could have had the full 29000~ by 29000~ matrix\n",
    "* But reduced to 6700 by 6700 ish"
   ]
  },
  {
   "cell_type": "code",
   "execution_count": 182,
   "metadata": {},
   "outputs": [
    {
     "name": "stdout",
     "output_type": "stream",
     "text": [
      "[ 291  293  297  299  301 1819 2457 3787 4714 5508]\n"
     ]
    }
   ],
   "source": [
    "for foo in eig_vals_needed:\n",
    "    print(foo)"
   ]
  },
  {
   "cell_type": "code",
   "execution_count": 185,
   "metadata": {},
   "outputs": [
    {
     "data": {
      "text/plain": [
       "291"
      ]
     },
     "execution_count": 185,
     "metadata": {},
     "output_type": "execute_result"
    }
   ],
   "source": [
    "eig_vals_needed[0][0]"
   ]
  },
  {
   "cell_type": "code",
   "execution_count": 201,
   "metadata": {},
   "outputs": [
    {
     "data": {
      "text/plain": [
       "10"
      ]
     },
     "execution_count": 201,
     "metadata": {},
     "output_type": "execute_result"
    }
   ],
   "source": [
    "len(article_rankings)"
   ]
  },
  {
   "cell_type": "code",
   "execution_count": null,
   "metadata": {},
   "outputs": [],
   "source": []
  }
 ],
 "metadata": {
  "kernelspec": {
   "display_name": "Python 3",
   "language": "python",
   "name": "python3"
  },
  "language_info": {
   "codemirror_mode": {
    "name": "ipython",
    "version": 3
   },
   "file_extension": ".py",
   "mimetype": "text/x-python",
   "name": "python",
   "nbconvert_exporter": "python",
   "pygments_lexer": "ipython3",
   "version": "3.7.3"
  }
 },
 "nbformat": 4,
 "nbformat_minor": 4
}
