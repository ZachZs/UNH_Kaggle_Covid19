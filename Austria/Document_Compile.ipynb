{
 "cells": [
  {
   "cell_type": "code",
   "execution_count": 1,
   "metadata": {},
   "outputs": [],
   "source": [
    "import os\n",
    "import json\n",
    "import numpy as np\n",
    "import pandas as pd"
   ]
  },
  {
   "cell_type": "code",
   "execution_count": 2,
   "metadata": {},
   "outputs": [],
   "source": [
    "folders = ['custom_license','noncomm_use_subset','biorxiv_medrxiv','comm_use_subset']"
   ]
  },
  {
   "cell_type": "code",
   "execution_count": 3,
   "metadata": {},
   "outputs": [],
   "source": [
    "path_papers = []\n",
    "for root, dirs, files in os.walk(\".\", topdown=False):\n",
    "   for name in files:\n",
    "      path_papers.append(os.path.join(root, name))\n",
    "#update to include only files in folders\n",
    "path_papers = [path for path in path_papers if any(x in path.split('/') for x in folders)]\n",
    "#update to remove \".\"\n",
    "path_papers = [paper[1:] for paper in path_papers]"
   ]
  },
  {
   "cell_type": "code",
   "execution_count": 4,
   "metadata": {},
   "outputs": [],
   "source": [
    "#create dictionary for paths of papers by folder\n",
    "dict_paper_paths ={}\n",
    "for paper in path_papers:\n",
    "    split_path = paper.split(\"/\")\n",
    "    #create key\n",
    "    key = split_path[1]\n",
    "    if key not in dict_paper_paths.keys():\n",
    "        dict_paper_paths[key] = [paper]\n",
    "    else:\n",
    "        value = dict_paper_paths[key]\n",
    "        value.append(paper)\n"
   ]
  },
  {
   "cell_type": "code",
   "execution_count": 5,
   "metadata": {},
   "outputs": [
    {
     "name": "stdout",
     "output_type": "stream",
     "text": [
      "Papers for  custom_license is  16959\n",
      "Papers for  noncomm_use_subset is  2353\n",
      "Papers for  biorxiv_medrxiv is  885\n",
      "Papers for  comm_use_subset is  9118\n"
     ]
    }
   ],
   "source": [
    "for i in dict_paper_paths.keys():\n",
    "    print('Papers for ',i, 'is ',len(dict_paper_paths[i]))"
   ]
  },
  {
   "cell_type": "code",
   "execution_count": 6,
   "metadata": {},
   "outputs": [
    {
     "data": {
      "text/plain": [
       "'/Users/janmichaelaustria/Google Drive/UNH Spring/ML_Part2/Covid_19/comm_use_subset/5e0c586f047ff909c8ed3fe171c8975a90608d08.json'"
      ]
     },
     "execution_count": 6,
     "metadata": {},
     "output_type": "execute_result"
    }
   ],
   "source": [
    "fname = os.getcwd() + dict_paper_paths['comm_use_subset'][0]\n",
    "fname"
   ]
  },
  {
   "cell_type": "code",
   "execution_count": 7,
   "metadata": {},
   "outputs": [
    {
     "data": {
      "text/plain": [
       "dict_keys(['paper_id', 'metadata', 'abstract', 'body_text', 'bib_entries', 'ref_entries', 'back_matter'])"
      ]
     },
     "execution_count": 7,
     "metadata": {},
     "output_type": "execute_result"
    }
   ],
   "source": [
    "with open(fname) as f:\n",
    "  data = json.load(f)\n",
    "\n",
    "data.keys()"
   ]
  },
  {
   "cell_type": "code",
   "execution_count": 8,
   "metadata": {},
   "outputs": [],
   "source": [
    "def pull_paper_id(file):\n",
    "    #get the paper id from json file\n",
    "    return(file['paper_id'])\n",
    "\n",
    "def pull_title(file):\n",
    "    #get title from \n",
    "    return(file['metadata']['title'])\n",
    "\n",
    "def pull_authors(file):\n",
    "    #returns string of authors seperated by ;\n",
    "    #access list of author dictionaries\n",
    "    list_author_dicts = file['metadata']['authors']\n",
    "    #traverse list\n",
    "    authors = []\n",
    "    for i in range(0,len(list_author_dicts)):\n",
    "        first_name,last_name = list_author_dicts[i]['first'], list_author_dicts[i]['last']\n",
    "        #concat fist and last\n",
    "        author_name = first_name + \" \" + last_name\n",
    "        authors.append(author_name)\n",
    "    return(authors)\n",
    "\n",
    "def pull_abstracts(file):\n",
    "    #pull abstracts\n",
    "    abstract_texts = []\n",
    "    if len(file['abstract']) == 0:\n",
    "        return(np.nan)\n",
    "    else:\n",
    "        abstracts = file['abstract']\n",
    "        for i in range(0,len(abstracts)):\n",
    "            if 'text' in abstracts[i].keys():\n",
    "                text_element = abstracts[i]['text']\n",
    "                abstract_texts.append(text_element)\n",
    "        return(abstract_texts)\n",
    "\n",
    "def pull_texts(file):\n",
    "    #pull all text files from body\n",
    "    body_text = file['body_text']\n",
    "    #travese list\n",
    "    #store texts\n",
    "    texts = []\n",
    "    for i in range(0,len(body_text)):\n",
    "        if 'text' in body_text[i].keys():\n",
    "            #pull text element\n",
    "            text_element = body_text[i]['text']\n",
    "            texts.append(text_element)\n",
    "        else:\n",
    "            pass\n",
    "    #add in text from back_matter\n",
    "    back_matter =  file['back_matter']\n",
    "    for i in range(0,len(back_matter)):\n",
    "        if 'text' in back_matter[i].keys():\n",
    "            text_element = back_matter[i]['text']\n",
    "            texts.append(text_element)\n",
    "        else:\n",
    "            pass\n",
    "                \n",
    "    return(texts)\n",
    "\n",
    "def pull_citations(file):\n",
    "    #in case i want acess to this\n",
    "    #citation will be indicated by title and year, that should be enough for a lookup\n",
    "    citations = []\n",
    "    bib_entries = file['bib_entries']\n",
    "    for i in bib_entries.keys():\n",
    "        ith_bib_entry = bib_entries[i]\n",
    "        title, year = ith_bib_entry['title'], ith_bib_entry['year']\n",
    "        citations.append((title,year))\n",
    "    return(citations) "
   ]
  },
  {
   "cell_type": "markdown",
   "metadata": {},
   "source": [
    "All functions work!"
   ]
  },
  {
   "cell_type": "markdown",
   "metadata": {},
   "source": [
    "## Apply functions to all json files"
   ]
  },
  {
   "cell_type": "code",
   "execution_count": 9,
   "metadata": {},
   "outputs": [],
   "source": [
    "paper_types = []\n",
    "paper_ids = []\n",
    "paper_titles = []\n",
    "paper_authors = []\n",
    "paper_abstracts = []\n",
    "paper_texts = []\n",
    "paper_citations = []\n",
    "\n",
    "for paper_type in dict_paper_paths.keys():\n",
    "    #access list file paths\n",
    "    list_paths = dict_paper_paths[paper_type]\n",
    "    #move along list paths\n",
    "    for i in range(0,len(list_paths)):\n",
    "        #create filename to read\n",
    "        fname = os.getcwd() + list_paths[i]\n",
    "        #oad into json\n",
    "        with open(fname) as f:\n",
    "            data = json.load(f)\n",
    "        #go into json, grabbing what i need\n",
    "        ID, title,authors, abstract,text,citations = pull_paper_id(data), pull_title(data),pull_authors(data),pull_abstracts(data),pull_texts(data),pull_citations(data)   \n",
    "        #append accordingly\n",
    "        paper_types.append(paper_type)\n",
    "        paper_ids.append(ID)\n",
    "        paper_titles.append(title)\n",
    "        paper_authors.append(authors)\n",
    "        paper_abstracts.append(abstract)\n",
    "        paper_texts.append(text)\n",
    "        paper_citations.append(citations)\n",
    "        "
   ]
  },
  {
   "cell_type": "code",
   "execution_count": 10,
   "metadata": {},
   "outputs": [
    {
     "data": {
      "text/plain": [
       "29315"
      ]
     },
     "execution_count": 10,
     "metadata": {},
     "output_type": "execute_result"
    }
   ],
   "source": [
    "len(paper_texts)"
   ]
  },
  {
   "cell_type": "markdown",
   "metadata": {},
   "source": [
    "## Put all into DataFrame"
   ]
  },
  {
   "cell_type": "code",
   "execution_count": 11,
   "metadata": {},
   "outputs": [],
   "source": [
    "papers = pd.DataFrame()\n",
    "papers['Library']  = paper_types\n",
    "papers['ID'] = paper_ids\n",
    "papers['Titles'] = paper_titles\n",
    "papers['Authors'] = paper_authors\n",
    "papers['Abstract'] = paper_abstracts\n",
    "papers['Text'] = paper_texts\n",
    "papers['Citations'] = paper_citations"
   ]
  },
  {
   "cell_type": "code",
   "execution_count": 12,
   "metadata": {},
   "outputs": [
    {
     "data": {
      "text/plain": [
       "(29315, 7)"
      ]
     },
     "execution_count": 12,
     "metadata": {},
     "output_type": "execute_result"
    }
   ],
   "source": [
    "papers.shape"
   ]
  },
  {
   "cell_type": "code",
   "execution_count": 13,
   "metadata": {},
   "outputs": [
    {
     "name": "stdout",
     "output_type": "stream",
     "text": [
      "<class 'pandas.core.frame.DataFrame'>\n",
      "RangeIndex: 29315 entries, 0 to 29314\n",
      "Data columns (total 7 columns):\n",
      " #   Column     Non-Null Count  Dtype \n",
      "---  ------     --------------  ----- \n",
      " 0   Library    29315 non-null  object\n",
      " 1   ID         29315 non-null  object\n",
      " 2   Titles     29315 non-null  object\n",
      " 3   Authors    29315 non-null  object\n",
      " 4   Abstract   21264 non-null  object\n",
      " 5   Text       29315 non-null  object\n",
      " 6   Citations  29315 non-null  object\n",
      "dtypes: object(7)\n",
      "memory usage: 1.6+ MB\n"
     ]
    }
   ],
   "source": [
    "papers.info()"
   ]
  },
  {
   "cell_type": "code",
   "execution_count": 14,
   "metadata": {
    "scrolled": false
   },
   "outputs": [
    {
     "data": {
      "text/html": [
       "<div>\n",
       "<style scoped>\n",
       "    .dataframe tbody tr th:only-of-type {\n",
       "        vertical-align: middle;\n",
       "    }\n",
       "\n",
       "    .dataframe tbody tr th {\n",
       "        vertical-align: top;\n",
       "    }\n",
       "\n",
       "    .dataframe thead th {\n",
       "        text-align: right;\n",
       "    }\n",
       "</style>\n",
       "<table border=\"1\" class=\"dataframe\">\n",
       "  <thead>\n",
       "    <tr style=\"text-align: right;\">\n",
       "      <th></th>\n",
       "      <th>Library</th>\n",
       "      <th>ID</th>\n",
       "      <th>Titles</th>\n",
       "      <th>Authors</th>\n",
       "      <th>Abstract</th>\n",
       "      <th>Text</th>\n",
       "      <th>Citations</th>\n",
       "    </tr>\n",
       "  </thead>\n",
       "  <tbody>\n",
       "    <tr>\n",
       "      <th>0</th>\n",
       "      <td>custom_license</td>\n",
       "      <td>ab680d5dbc4f51252da3473109a7885dd6b5eb6f</td>\n",
       "      <td>Evolutionary Medicine IV. Evolution and Emerge...</td>\n",
       "      <td>[S Scarpino]</td>\n",
       "      <td>NaN</td>\n",
       "      <td>[The evolutionary history of humans is charact...</td>\n",
       "      <td>[(Rapid evolutionary dynamics and disease thre...</td>\n",
       "    </tr>\n",
       "    <tr>\n",
       "      <th>1</th>\n",
       "      <td>custom_license</td>\n",
       "      <td>6599ebbef3d868afac9daa4f80fa075675cf03bc</td>\n",
       "      <td>International aviation emissions to 2025: Can ...</td>\n",
       "      <td>[Andrew Macintosh, Lailey Wallace]</td>\n",
       "      <td>[International aviation is growing rapidly, re...</td>\n",
       "      <td>[Sixty years ago, civil aviation was an infant...</td>\n",
       "      <td>[(CONSAVE 2050-constrained scenarios on aviati...</td>\n",
       "    </tr>\n",
       "    <tr>\n",
       "      <th>2</th>\n",
       "      <td>custom_license</td>\n",
       "      <td>eb5c7f3ff921ad6469b79cc8a3c122648204ece4</td>\n",
       "      <td>2 Mechanisms of diarrhoea</td>\n",
       "      <td>[I Booth, A Mcneish Baillikre&amp;apos;]</td>\n",
       "      <td>NaN</td>\n",
       "      <td>[Acute infections of the gastrointestinal trac...</td>\n",
       "      <td>[(A typing scheme for Aeromonas hydrophila bas...</td>\n",
       "    </tr>\n",
       "    <tr>\n",
       "      <th>3</th>\n",
       "      <td>custom_license</td>\n",
       "      <td>b87b790c96c75faa22a085cb560f7b3d8e018b24</td>\n",
       "      <td>Features of Host Cells: Cellular and Molecular...</td>\n",
       "      <td>[]</td>\n",
       "      <td>NaN</td>\n",
       "      <td>[There are three domains of life-Bacteria, Arc...</td>\n",
       "      <td>[(Epidemics to eradication: the modern history...</td>\n",
       "    </tr>\n",
       "    <tr>\n",
       "      <th>4</th>\n",
       "      <td>custom_license</td>\n",
       "      <td>68c0bb1989b6ca2b38da32a0d992027db39f80bc</td>\n",
       "      <td>Spring 2020 | 1 Beijing's Hard and Soft Repres...</td>\n",
       "      <td>[Victoria Tin-Bor Hui]</td>\n",
       "      <td>[Hong Kong's new Police Commissioner Chris Tan...</td>\n",
       "      <td>[It is also noteworthy that Tang, who was once...</td>\n",
       "      <td>[(Listed companies appoint mainlanders to boar...</td>\n",
       "    </tr>\n",
       "  </tbody>\n",
       "</table>\n",
       "</div>"
      ],
      "text/plain": [
       "          Library                                        ID  \\\n",
       "0  custom_license  ab680d5dbc4f51252da3473109a7885dd6b5eb6f   \n",
       "1  custom_license  6599ebbef3d868afac9daa4f80fa075675cf03bc   \n",
       "2  custom_license  eb5c7f3ff921ad6469b79cc8a3c122648204ece4   \n",
       "3  custom_license  b87b790c96c75faa22a085cb560f7b3d8e018b24   \n",
       "4  custom_license  68c0bb1989b6ca2b38da32a0d992027db39f80bc   \n",
       "\n",
       "                                              Titles  \\\n",
       "0  Evolutionary Medicine IV. Evolution and Emerge...   \n",
       "1  International aviation emissions to 2025: Can ...   \n",
       "2                          2 Mechanisms of diarrhoea   \n",
       "3  Features of Host Cells: Cellular and Molecular...   \n",
       "4  Spring 2020 | 1 Beijing's Hard and Soft Repres...   \n",
       "\n",
       "                                Authors  \\\n",
       "0                          [S Scarpino]   \n",
       "1    [Andrew Macintosh, Lailey Wallace]   \n",
       "2  [I Booth, A Mcneish Baillikre&apos;]   \n",
       "3                                    []   \n",
       "4                [Victoria Tin-Bor Hui]   \n",
       "\n",
       "                                            Abstract  \\\n",
       "0                                                NaN   \n",
       "1  [International aviation is growing rapidly, re...   \n",
       "2                                                NaN   \n",
       "3                                                NaN   \n",
       "4  [Hong Kong's new Police Commissioner Chris Tan...   \n",
       "\n",
       "                                                Text  \\\n",
       "0  [The evolutionary history of humans is charact...   \n",
       "1  [Sixty years ago, civil aviation was an infant...   \n",
       "2  [Acute infections of the gastrointestinal trac...   \n",
       "3  [There are three domains of life-Bacteria, Arc...   \n",
       "4  [It is also noteworthy that Tang, who was once...   \n",
       "\n",
       "                                           Citations  \n",
       "0  [(Rapid evolutionary dynamics and disease thre...  \n",
       "1  [(CONSAVE 2050-constrained scenarios on aviati...  \n",
       "2  [(A typing scheme for Aeromonas hydrophila bas...  \n",
       "3  [(Epidemics to eradication: the modern history...  \n",
       "4  [(Listed companies appoint mainlanders to boar...  "
      ]
     },
     "execution_count": 14,
     "metadata": {},
     "output_type": "execute_result"
    }
   ],
   "source": [
    "papers.head()"
   ]
  },
  {
   "cell_type": "code",
   "execution_count": 17,
   "metadata": {},
   "outputs": [],
   "source": [
    "papers.to_csv('covid19_papers_compiled.csv')"
   ]
  },
  {
   "cell_type": "code",
   "execution_count": 18,
   "metadata": {},
   "outputs": [
    {
     "data": {
      "text/plain": [
       "Library                                         custom_license\n",
       "ID                    3db98d76b1a91a3940955132dc9fccc95d1600c5\n",
       "Titles         Bali Bombings: A Whole of Government Response 1\n",
       "Authors                               [Jeff Roach, Ian Kemish]\n",
       "Abstract                                                   NaN\n",
       "Text         [which provide services to the community. Loca...\n",
       "Citations    [(Restoring tourism destinations in crisis: A ...\n",
       "Name: 10, dtype: object"
      ]
     },
     "execution_count": 18,
     "metadata": {},
     "output_type": "execute_result"
    }
   ],
   "source": [
    "papers.iloc[10]"
   ]
  },
  {
   "cell_type": "markdown",
   "metadata": {},
   "source": [
    "## Compare against meta data"
   ]
  },
  {
   "cell_type": "code",
   "execution_count": 71,
   "metadata": {},
   "outputs": [],
   "source": [
    "meta = pd.read_csv('metadata.csv')"
   ]
  },
  {
   "cell_type": "code",
   "execution_count": 72,
   "metadata": {},
   "outputs": [
    {
     "data": {
      "text/plain": [
       "(44220, 15)"
      ]
     },
     "execution_count": 72,
     "metadata": {},
     "output_type": "execute_result"
    }
   ],
   "source": [
    "meta.shape"
   ]
  },
  {
   "cell_type": "markdown",
   "metadata": {},
   "source": [
    "## Common papers between meta and all papers"
   ]
  },
  {
   "cell_type": "code",
   "execution_count": 31,
   "metadata": {},
   "outputs": [
    {
     "data": {
      "text/plain": [
       "27678"
      ]
     },
     "execution_count": 31,
     "metadata": {},
     "output_type": "execute_result"
    }
   ],
   "source": [
    "len(set(meta['sha'][meta['sha'].notnull()]).intersection(set(papers['ID'])))"
   ]
  },
  {
   "cell_type": "markdown",
   "metadata": {},
   "source": [
    "## Papers in meta not in papers"
   ]
  },
  {
   "cell_type": "code",
   "execution_count": 34,
   "metadata": {},
   "outputs": [
    {
     "data": {
      "text/plain": [
       "772"
      ]
     },
     "execution_count": 34,
     "metadata": {},
     "output_type": "execute_result"
    }
   ],
   "source": [
    "len(set(meta['sha'][meta['sha'].notnull()]).difference(set(papers['ID'])))"
   ]
  },
  {
   "cell_type": "markdown",
   "metadata": {},
   "source": [
    "## Papers in papers not in meta"
   ]
  },
  {
   "cell_type": "code",
   "execution_count": 36,
   "metadata": {},
   "outputs": [
    {
     "data": {
      "text/plain": [
       "1637"
      ]
     },
     "execution_count": 36,
     "metadata": {},
     "output_type": "execute_result"
    }
   ],
   "source": [
    "len(set(papers['ID']).difference(set(meta['sha'][meta['sha'].notnull()])))"
   ]
  },
  {
   "cell_type": "markdown",
   "metadata": {},
   "source": [
    "# Begin Analysis of Text"
   ]
  },
  {
   "cell_type": "code",
   "execution_count": 19,
   "metadata": {},
   "outputs": [],
   "source": [
    "papers['Text'] = papers['Text'].apply(lambda x: \" \".join(x))"
   ]
  },
  {
   "cell_type": "markdown",
   "metadata": {},
   "source": [
    "### What are the most cited papers?"
   ]
  },
  {
   "cell_type": "code",
   "execution_count": 22,
   "metadata": {},
   "outputs": [],
   "source": [
    "papers['Number_Citations'] = papers['Citations'].apply(lambda x: len(x))"
   ]
  },
  {
   "cell_type": "code",
   "execution_count": 28,
   "metadata": {},
   "outputs": [
    {
     "data": {
      "text/html": [
       "<div>\n",
       "<style scoped>\n",
       "    .dataframe tbody tr th:only-of-type {\n",
       "        vertical-align: middle;\n",
       "    }\n",
       "\n",
       "    .dataframe tbody tr th {\n",
       "        vertical-align: top;\n",
       "    }\n",
       "\n",
       "    .dataframe thead th {\n",
       "        text-align: right;\n",
       "    }\n",
       "</style>\n",
       "<table border=\"1\" class=\"dataframe\">\n",
       "  <thead>\n",
       "    <tr style=\"text-align: right;\">\n",
       "      <th></th>\n",
       "      <th>Titles</th>\n",
       "      <th>Number_Citations</th>\n",
       "    </tr>\n",
       "  </thead>\n",
       "  <tbody>\n",
       "    <tr>\n",
       "      <th>6746</th>\n",
       "      <td>Bibliography of the current world literature</td>\n",
       "      <td>2835</td>\n",
       "    </tr>\n",
       "    <tr>\n",
       "      <th>10599</th>\n",
       "      <td>Bibliography of the current world literature</td>\n",
       "      <td>2553</td>\n",
       "    </tr>\n",
       "    <tr>\n",
       "      <th>6867</th>\n",
       "      <td>Bibliography of the current world literature P...</td>\n",
       "      <td>2501</td>\n",
       "    </tr>\n",
       "    <tr>\n",
       "      <th>13375</th>\n",
       "      <td></td>\n",
       "      <td>2440</td>\n",
       "    </tr>\n",
       "    <tr>\n",
       "      <th>6323</th>\n",
       "      <td>Diseases of immunodeficiency Realetd review: P...</td>\n",
       "      <td>2405</td>\n",
       "    </tr>\n",
       "    <tr>\n",
       "      <th>7210</th>\n",
       "      <td>Developmental and Inherited Liver Disease</td>\n",
       "      <td>2362</td>\n",
       "    </tr>\n",
       "    <tr>\n",
       "      <th>11165</th>\n",
       "      <td></td>\n",
       "      <td>2326</td>\n",
       "    </tr>\n",
       "    <tr>\n",
       "      <th>4803</th>\n",
       "      <td></td>\n",
       "      <td>2269</td>\n",
       "    </tr>\n",
       "    <tr>\n",
       "      <th>11240</th>\n",
       "      <td>JO2277 Pichinde munchique virulent derivative ...</td>\n",
       "      <td>2173</td>\n",
       "    </tr>\n",
       "    <tr>\n",
       "      <th>14151</th>\n",
       "      <td>CHAP TER 1 Alimentary System</td>\n",
       "      <td>1803</td>\n",
       "    </tr>\n",
       "    <tr>\n",
       "      <th>1145</th>\n",
       "      <td>Bibliography of the current world literature</td>\n",
       "      <td>1670</td>\n",
       "    </tr>\n",
       "    <tr>\n",
       "      <th>6301</th>\n",
       "      <td>Murine sarcoma virus transformation of BALB/3T...</td>\n",
       "      <td>1601</td>\n",
       "    </tr>\n",
       "    <tr>\n",
       "      <th>2258</th>\n",
       "      <td></td>\n",
       "      <td>1575</td>\n",
       "    </tr>\n",
       "    <tr>\n",
       "      <th>1476</th>\n",
       "      <td>The Alimentary System Oral Cavity Developmenta...</td>\n",
       "      <td>1524</td>\n",
       "    </tr>\n",
       "    <tr>\n",
       "      <th>46</th>\n",
       "      <td></td>\n",
       "      <td>1485</td>\n",
       "    </tr>\n",
       "    <tr>\n",
       "      <th>4832</th>\n",
       "      <td>Disorders of the Gastrointestinal System</td>\n",
       "      <td>1450</td>\n",
       "    </tr>\n",
       "    <tr>\n",
       "      <th>517</th>\n",
       "      <td>Pharmaceutical applications Infectious agents,...</td>\n",
       "      <td>1392</td>\n",
       "    </tr>\n",
       "    <tr>\n",
       "      <th>8525</th>\n",
       "      <td></td>\n",
       "      <td>1358</td>\n",
       "    </tr>\n",
       "    <tr>\n",
       "      <th>14131</th>\n",
       "      <td>Zoonotic Viruses of Northern Eurasia</td>\n",
       "      <td>1317</td>\n",
       "    </tr>\n",
       "    <tr>\n",
       "      <th>11791</th>\n",
       "      <td></td>\n",
       "      <td>1265</td>\n",
       "    </tr>\n",
       "    <tr>\n",
       "      <th>11234</th>\n",
       "      <td>ENFERMEDADES INFECCIOSAS DE LOS PULMONES 222</td>\n",
       "      <td>1260</td>\n",
       "    </tr>\n",
       "    <tr>\n",
       "      <th>7861</th>\n",
       "      <td></td>\n",
       "      <td>1258</td>\n",
       "    </tr>\n",
       "    <tr>\n",
       "      <th>3908</th>\n",
       "      <td>Virus Index A</td>\n",
       "      <td>1239</td>\n",
       "    </tr>\n",
       "    <tr>\n",
       "      <th>10506</th>\n",
       "      <td>INDEX TO VOLUME II, 1975 CONCORDANCE To enable...</td>\n",
       "      <td>1226</td>\n",
       "    </tr>\n",
       "    <tr>\n",
       "      <th>11213</th>\n",
       "      <td>Viral genetics DNA viruses 163</td>\n",
       "      <td>1201</td>\n",
       "    </tr>\n",
       "    <tr>\n",
       "      <th>7411</th>\n",
       "      <td>Exploration of the Sialic Acid World</td>\n",
       "      <td>1155</td>\n",
       "    </tr>\n",
       "    <tr>\n",
       "      <th>1870</th>\n",
       "      <td>Knobil and Neill's Physiology of Reproduction</td>\n",
       "      <td>1142</td>\n",
       "    </tr>\n",
       "    <tr>\n",
       "      <th>2515</th>\n",
       "      <td>ACUTE MEDICAL ILLNESS BODY FLUID AND ELECTROLY...</td>\n",
       "      <td>1136</td>\n",
       "    </tr>\n",
       "    <tr>\n",
       "      <th>2768</th>\n",
       "      <td>Current Opinion in Genetics &amp; Development</td>\n",
       "      <td>1124</td>\n",
       "    </tr>\n",
       "    <tr>\n",
       "      <th>8250</th>\n",
       "      <td></td>\n",
       "      <td>1074</td>\n",
       "    </tr>\n",
       "  </tbody>\n",
       "</table>\n",
       "</div>"
      ],
      "text/plain": [
       "                                                  Titles  Number_Citations\n",
       "6746        Bibliography of the current world literature              2835\n",
       "10599       Bibliography of the current world literature              2553\n",
       "6867   Bibliography of the current world literature P...              2501\n",
       "13375                                                                 2440\n",
       "6323   Diseases of immunodeficiency Realetd review: P...              2405\n",
       "7210           Developmental and Inherited Liver Disease              2362\n",
       "11165                                                                 2326\n",
       "4803                                                                  2269\n",
       "11240  JO2277 Pichinde munchique virulent derivative ...              2173\n",
       "14151                       CHAP TER 1 Alimentary System              1803\n",
       "1145        Bibliography of the current world literature              1670\n",
       "6301   Murine sarcoma virus transformation of BALB/3T...              1601\n",
       "2258                                                                  1575\n",
       "1476   The Alimentary System Oral Cavity Developmenta...              1524\n",
       "46                                                                    1485\n",
       "4832            Disorders of the Gastrointestinal System              1450\n",
       "517    Pharmaceutical applications Infectious agents,...              1392\n",
       "8525                                                                  1358\n",
       "14131               Zoonotic Viruses of Northern Eurasia              1317\n",
       "11791                                                                 1265\n",
       "11234       ENFERMEDADES INFECCIOSAS DE LOS PULMONES 222              1260\n",
       "7861                                                                  1258\n",
       "3908                                       Virus Index A              1239\n",
       "10506  INDEX TO VOLUME II, 1975 CONCORDANCE To enable...              1226\n",
       "11213                     Viral genetics DNA viruses 163              1201\n",
       "7411                Exploration of the Sialic Acid World              1155\n",
       "1870       Knobil and Neill's Physiology of Reproduction              1142\n",
       "2515   ACUTE MEDICAL ILLNESS BODY FLUID AND ELECTROLY...              1136\n",
       "2768           Current Opinion in Genetics & Development              1124\n",
       "8250                                                                  1074"
      ]
     },
     "execution_count": 28,
     "metadata": {},
     "output_type": "execute_result"
    }
   ],
   "source": [
    "papers.sort_values('Number_Citations', ascending=False)[['Titles','Number_Citations']].head(30)"
   ]
  },
  {
   "cell_type": "markdown",
   "metadata": {},
   "source": [
    "### Let's clean it so that way we only have English language papers"
   ]
  },
  {
   "cell_type": "code",
   "execution_count": 38,
   "metadata": {},
   "outputs": [],
   "source": [
    "from langdetect import detect\n",
    "def detect_lang(x):\n",
    "    try:\n",
    "        return(detect(x))\n",
    "    except:\n",
    "        return(np.nan)\n",
    "papers['Language'] = papers['Text'].apply(detect_lang)"
   ]
  },
  {
   "cell_type": "code",
   "execution_count": 36,
   "metadata": {},
   "outputs": [
    {
     "data": {
      "text/plain": [
       "29315"
      ]
     },
     "execution_count": 36,
     "metadata": {},
     "output_type": "execute_result"
    }
   ],
   "source": [
    "sum(papers['Text'].notnull())"
   ]
  },
  {
   "cell_type": "code",
   "execution_count": 42,
   "metadata": {},
   "outputs": [
    {
     "data": {
      "text/plain": [
       "en       28592\n",
       "fr         319\n",
       "es         277\n",
       "de          60\n",
       "it          17\n",
       "pt           9\n",
       "et           3\n",
       "ca           3\n",
       "lt           2\n",
       "ru           2\n",
       "tl           2\n",
       "da           2\n",
       "nl           2\n",
       "ko           2\n",
       "so           2\n",
       "pl           2\n",
       "cy           2\n",
       "af           1\n",
       "vi           1\n",
       "no           1\n",
       "sw           1\n",
       "id           1\n",
       "zh-cn        1\n",
       "Name: Language, dtype: int64"
      ]
     },
     "execution_count": 42,
     "metadata": {},
     "output_type": "execute_result"
    }
   ],
   "source": [
    "papers['Language'].value_counts()"
   ]
  },
  {
   "cell_type": "markdown",
   "metadata": {},
   "source": [
    "It looks like most papers are written in english"
   ]
  },
  {
   "cell_type": "code",
   "execution_count": 65,
   "metadata": {},
   "outputs": [
    {
     "data": {
      "text/html": [
       "<div>\n",
       "<style scoped>\n",
       "    .dataframe tbody tr th:only-of-type {\n",
       "        vertical-align: middle;\n",
       "    }\n",
       "\n",
       "    .dataframe tbody tr th {\n",
       "        vertical-align: top;\n",
       "    }\n",
       "\n",
       "    .dataframe thead th {\n",
       "        text-align: right;\n",
       "    }\n",
       "</style>\n",
       "<table border=\"1\" class=\"dataframe\">\n",
       "  <thead>\n",
       "    <tr style=\"text-align: right;\">\n",
       "      <th></th>\n",
       "      <th>Text</th>\n",
       "      <th>Number_Citations</th>\n",
       "    </tr>\n",
       "  </thead>\n",
       "  <tbody>\n",
       "    <tr>\n",
       "      <th>6746</th>\n",
       "      <td>O~coge~lc MuUmt Gmmplexed with GDP. J Mo/ B/o/...</td>\n",
       "      <td>2835</td>\n",
       "    </tr>\n",
       "    <tr>\n",
       "      <th>10599</th>\n",
       "      <td>proc Natl Acad Sci U S A 1990 eDNA Clone Encod...</td>\n",
       "      <td>2553</td>\n",
       "    </tr>\n",
       "    <tr>\n",
       "      <th>6867</th>\n",
       "      <td>Modification of the Ioterleukin-S Receptor by ...</td>\n",
       "      <td>2501</td>\n",
       "    </tr>\n",
       "    <tr>\n",
       "      <th>13375</th>\n",
       "      <td>, 8,11,13-tetraen-7- one 29:100 activity in EB...</td>\n",
       "      <td>2440</td>\n",
       "    </tr>\n",
       "    <tr>\n",
       "      <th>6323</th>\n",
       "      <td>This bibliography is drawn from the journals l...</td>\n",
       "      <td>2405</td>\n",
       "    </tr>\n",
       "    <tr>\n",
       "      <th>7210</th>\n",
       "      <td>Developmental and inherited disorders affectin...</td>\n",
       "      <td>2362</td>\n",
       "    </tr>\n",
       "    <tr>\n",
       "      <th>4803</th>\n",
       "      <td>July-December 2013 July, August, September, Oc...</td>\n",
       "      <td>2269</td>\n",
       "    </tr>\n",
       "    <tr>\n",
       "      <th>11240</th>\n",
       "      <td>The availability of all the newest sequence da...</td>\n",
       "      <td>2173</td>\n",
       "    </tr>\n",
       "    <tr>\n",
       "      <th>14151</th>\n",
       "      <td>Examination of the oral cavity should be stand...</td>\n",
       "      <td>1803</td>\n",
       "    </tr>\n",
       "    <tr>\n",
       "      <th>1145</th>\n",
       "      <td>W, Suhadolnik RJ: HIV-1 Reverse Tran~ripta~e -...</td>\n",
       "      <td>1670</td>\n",
       "    </tr>\n",
       "    <tr>\n",
       "      <th>6301</th>\n",
       "      <td>mosquito Culex tarsalis with Plasmodium relict...</td>\n",
       "      <td>1601</td>\n",
       "    </tr>\n",
       "    <tr>\n",
       "      <th>1476</th>\n",
       "      <td>Facial clefts may involve the skin only or the...</td>\n",
       "      <td>1524</td>\n",
       "    </tr>\n",
       "    <tr>\n",
       "      <th>46</th>\n",
       "      <td>This bibliography is compiled by geneticists f...</td>\n",
       "      <td>1485</td>\n",
       "    </tr>\n",
       "    <tr>\n",
       "      <th>4832</th>\n",
       "      <td>Examination of patients with disease of the ga...</td>\n",
       "      <td>1450</td>\n",
       "    </tr>\n",
       "    <tr>\n",
       "      <th>517</th>\n",
       "      <td>Cispentacin, a New Antifungal Antibiotic. 1L I...</td>\n",
       "      <td>1392</td>\n",
       "    </tr>\n",
       "    <tr>\n",
       "      <th>14131</th>\n",
       "      <td>Single-Stranded RNA Viruses The Bunyaviridae f...</td>\n",
       "      <td>1317</td>\n",
       "    </tr>\n",
       "    <tr>\n",
       "      <th>7861</th>\n",
       "      <td>INDEX TO VOLUME I, 1975 CONCORDANCE To enable ...</td>\n",
       "      <td>1258</td>\n",
       "    </tr>\n",
       "    <tr>\n",
       "      <th>10506</th>\n",
       "      <td>Bender, A E., Dictionary of Nutrition and Food...</td>\n",
       "      <td>1226</td>\n",
       "    </tr>\n",
       "    <tr>\n",
       "      <th>11213</th>\n",
       "      <td>FIXMAN ED. IIAyWARI) GS. I-IA'I~'ARD SD: trans...</td>\n",
       "      <td>1201</td>\n",
       "    </tr>\n",
       "    <tr>\n",
       "      <th>7411</th>\n",
       "      <td>Alfred Gottschalk, discussing the state of the...</td>\n",
       "      <td>1155</td>\n",
       "    </tr>\n",
       "    <tr>\n",
       "      <th>1870</th>\n",
       "      <td>The male reproductive tract, and the male game...</td>\n",
       "      <td>1142</td>\n",
       "    </tr>\n",
       "    <tr>\n",
       "      <th>2515</th>\n",
       "      <td>Arachidonic acid (Continued) in prostaglandin ...</td>\n",
       "      <td>1136</td>\n",
       "    </tr>\n",
       "    <tr>\n",
       "      <th>2768</th>\n",
       "      <td>This bibliography is compiled by geneticists f...</td>\n",
       "      <td>1124</td>\n",
       "    </tr>\n",
       "    <tr>\n",
       "      <th>8250</th>\n",
       "      <td>This bibliography is compiled by biotechnologi...</td>\n",
       "      <td>1074</td>\n",
       "    </tr>\n",
       "    <tr>\n",
       "      <th>4696</th>\n",
       "      <td>. Clinical syndromes or conditions warranting ...</td>\n",
       "      <td>1066</td>\n",
       "    </tr>\n",
       "    <tr>\n",
       "      <th>15665</th>\n",
       "      <td>maintains hydration of the body by restricting...</td>\n",
       "      <td>1042</td>\n",
       "    </tr>\n",
       "    <tr>\n",
       "      <th>16645</th>\n",
       "      <td>Farivar AS (see Naidu et al). 2004; 127:1502-8...</td>\n",
       "      <td>973</td>\n",
       "    </tr>\n",
       "    <tr>\n",
       "      <th>810</th>\n",
       "      <td>Tremendous advances have been made in the medi...</td>\n",
       "      <td>953</td>\n",
       "    </tr>\n",
       "    <tr>\n",
       "      <th>12308</th>\n",
       "      <td>Advances in molecular cytogenetics (see Chapte...</td>\n",
       "      <td>896</td>\n",
       "    </tr>\n",
       "    <tr>\n",
       "      <th>572</th>\n",
       "      <td>Binding-Dependent Alternative Complement Pathw...</td>\n",
       "      <td>874</td>\n",
       "    </tr>\n",
       "    <tr>\n",
       "      <th>5963</th>\n",
       "      <td>Bing F E &amp; others, eds (1985) J. Hypertension,...</td>\n",
       "      <td>859</td>\n",
       "    </tr>\n",
       "    <tr>\n",
       "      <th>4683</th>\n",
       "      <td>. An international group of experts in infecti...</td>\n",
       "      <td>845</td>\n",
       "    </tr>\n",
       "    <tr>\n",
       "      <th>3056</th>\n",
       "      <td>This bibliography is compiled by immunologists...</td>\n",
       "      <td>824</td>\n",
       "    </tr>\n",
       "    <tr>\n",
       "      <th>10724</th>\n",
       "      <td>.B522 BIBLIOGRAPHY SE CTION 4175 Ru_'ten, H .M...</td>\n",
       "      <td>822</td>\n",
       "    </tr>\n",
       "    <tr>\n",
       "      <th>14684</th>\n",
       "      <td>Susan G. Wynn and Barbara J. Fougère T his cha...</td>\n",
       "      <td>821</td>\n",
       "    </tr>\n",
       "    <tr>\n",
       "      <th>13210</th>\n",
       "      <td>The basic elements of the biliary tract are th...</td>\n",
       "      <td>798</td>\n",
       "    </tr>\n",
       "    <tr>\n",
       "      <th>11424</th>\n",
       "      <td>Many viruses infect the lower respiratory trac...</td>\n",
       "      <td>797</td>\n",
       "    </tr>\n",
       "    <tr>\n",
       "      <th>21442</th>\n",
       "      <td>In a seminal review paper published nine years...</td>\n",
       "      <td>796</td>\n",
       "    </tr>\n",
       "    <tr>\n",
       "      <th>2501</th>\n",
       "      <td>in practice the term is confined to the effect...</td>\n",
       "      <td>785</td>\n",
       "    </tr>\n",
       "    <tr>\n",
       "      <th>4031</th>\n",
       "      <td>lOtS-Related Gene to Chromosome-lpl3-p21. Geno...</td>\n",
       "      <td>785</td>\n",
       "    </tr>\n",
       "  </tbody>\n",
       "</table>\n",
       "</div>"
      ],
      "text/plain": [
       "                                                    Text  Number_Citations\n",
       "6746   O~coge~lc MuUmt Gmmplexed with GDP. J Mo/ B/o/...              2835\n",
       "10599  proc Natl Acad Sci U S A 1990 eDNA Clone Encod...              2553\n",
       "6867   Modification of the Ioterleukin-S Receptor by ...              2501\n",
       "13375  , 8,11,13-tetraen-7- one 29:100 activity in EB...              2440\n",
       "6323   This bibliography is drawn from the journals l...              2405\n",
       "7210   Developmental and inherited disorders affectin...              2362\n",
       "4803   July-December 2013 July, August, September, Oc...              2269\n",
       "11240  The availability of all the newest sequence da...              2173\n",
       "14151  Examination of the oral cavity should be stand...              1803\n",
       "1145   W, Suhadolnik RJ: HIV-1 Reverse Tran~ripta~e -...              1670\n",
       "6301   mosquito Culex tarsalis with Plasmodium relict...              1601\n",
       "1476   Facial clefts may involve the skin only or the...              1524\n",
       "46     This bibliography is compiled by geneticists f...              1485\n",
       "4832   Examination of patients with disease of the ga...              1450\n",
       "517    Cispentacin, a New Antifungal Antibiotic. 1L I...              1392\n",
       "14131  Single-Stranded RNA Viruses The Bunyaviridae f...              1317\n",
       "7861   INDEX TO VOLUME I, 1975 CONCORDANCE To enable ...              1258\n",
       "10506  Bender, A E., Dictionary of Nutrition and Food...              1226\n",
       "11213  FIXMAN ED. IIAyWARI) GS. I-IA'I~'ARD SD: trans...              1201\n",
       "7411   Alfred Gottschalk, discussing the state of the...              1155\n",
       "1870   The male reproductive tract, and the male game...              1142\n",
       "2515   Arachidonic acid (Continued) in prostaglandin ...              1136\n",
       "2768   This bibliography is compiled by geneticists f...              1124\n",
       "8250   This bibliography is compiled by biotechnologi...              1074\n",
       "4696   . Clinical syndromes or conditions warranting ...              1066\n",
       "15665  maintains hydration of the body by restricting...              1042\n",
       "16645  Farivar AS (see Naidu et al). 2004; 127:1502-8...               973\n",
       "810    Tremendous advances have been made in the medi...               953\n",
       "12308  Advances in molecular cytogenetics (see Chapte...               896\n",
       "572    Binding-Dependent Alternative Complement Pathw...               874\n",
       "5963   Bing F E & others, eds (1985) J. Hypertension,...               859\n",
       "4683   . An international group of experts in infecti...               845\n",
       "3056   This bibliography is compiled by immunologists...               824\n",
       "10724  .B522 BIBLIOGRAPHY SE CTION 4175 Ru_'ten, H .M...               822\n",
       "14684  Susan G. Wynn and Barbara J. Fougère T his cha...               821\n",
       "13210  The basic elements of the biliary tract are th...               798\n",
       "11424  Many viruses infect the lower respiratory trac...               797\n",
       "21442  In a seminal review paper published nine years...               796\n",
       "2501   in practice the term is confined to the effect...               785\n",
       "4031   lOtS-Related Gene to Chromosome-lpl3-p21. Geno...               785"
      ]
     },
     "execution_count": 65,
     "metadata": {},
     "output_type": "execute_result"
    }
   ],
   "source": [
    "papers[papers['Language'] == 'en'].sort_values('Number_Citations',\n",
    "                                               ascending=False)[['Text', 'Number_Citations']].head(40)"
   ]
  },
  {
   "cell_type": "code",
   "execution_count": 69,
   "metadata": {},
   "outputs": [
    {
     "data": {
      "image/png": "[encoded data removed]",
      "text/plain": [
       "<Figure size 432x288 with 1 Axes>"
      ]
     },
     "metadata": {
      "needs_background": "light"
     },
     "output_type": "display_data"
    }
   ],
   "source": [
    "import matplotlib.pyplot as plt\n",
    "plt.hist(papers['Number_Citations'],bins=200)\n",
    "plt.show()"
   ]
  },
  {
   "cell_type": "code",
   "execution_count": 73,
   "metadata": {},
   "outputs": [
    {
     "data": {
      "text/html": [
       "<div>\n",
       "<style scoped>\n",
       "    .dataframe tbody tr th:only-of-type {\n",
       "        vertical-align: middle;\n",
       "    }\n",
       "\n",
       "    .dataframe tbody tr th {\n",
       "        vertical-align: top;\n",
       "    }\n",
       "\n",
       "    .dataframe thead th {\n",
       "        text-align: right;\n",
       "    }\n",
       "</style>\n",
       "<table border=\"1\" class=\"dataframe\">\n",
       "  <thead>\n",
       "    <tr style=\"text-align: right;\">\n",
       "      <th></th>\n",
       "      <th>sha</th>\n",
       "      <th>source_x</th>\n",
       "      <th>title</th>\n",
       "      <th>doi</th>\n",
       "      <th>pmcid</th>\n",
       "      <th>pubmed_id</th>\n",
       "      <th>license</th>\n",
       "      <th>abstract</th>\n",
       "      <th>publish_time</th>\n",
       "      <th>authors</th>\n",
       "      <th>journal</th>\n",
       "      <th>Microsoft Academic Paper ID</th>\n",
       "      <th>WHO #Covidence</th>\n",
       "      <th>has_full_text</th>\n",
       "      <th>full_text_file</th>\n",
       "    </tr>\n",
       "  </thead>\n",
       "  <tbody>\n",
       "    <tr>\n",
       "      <th>0</th>\n",
       "      <td>NaN</td>\n",
       "      <td>Elsevier</td>\n",
       "      <td>Intrauterine virus infections and congenital h...</td>\n",
       "      <td>10.1016/0002-8703(72)90077-4</td>\n",
       "      <td>NaN</td>\n",
       "      <td>4361535.0</td>\n",
       "      <td>els-covid</td>\n",
       "      <td>Abstract The etiologic basis for the vast majo...</td>\n",
       "      <td>1972-12-31</td>\n",
       "      <td>Overall, James C.</td>\n",
       "      <td>American Heart Journal</td>\n",
       "      <td>NaN</td>\n",
       "      <td>NaN</td>\n",
       "      <td>False</td>\n",
       "      <td>custom_license</td>\n",
       "    </tr>\n",
       "    <tr>\n",
       "      <th>1</th>\n",
       "      <td>NaN</td>\n",
       "      <td>Elsevier</td>\n",
       "      <td>Coronaviruses in Balkan nephritis</td>\n",
       "      <td>10.1016/0002-8703(80)90355-5</td>\n",
       "      <td>NaN</td>\n",
       "      <td>6243850.0</td>\n",
       "      <td>els-covid</td>\n",
       "      <td>NaN</td>\n",
       "      <td>1980-03-31</td>\n",
       "      <td>Georgescu, Leonida; Diosi, Peter; Buţiu, Ioan;...</td>\n",
       "      <td>American Heart Journal</td>\n",
       "      <td>NaN</td>\n",
       "      <td>NaN</td>\n",
       "      <td>False</td>\n",
       "      <td>custom_license</td>\n",
       "    </tr>\n",
       "    <tr>\n",
       "      <th>2</th>\n",
       "      <td>NaN</td>\n",
       "      <td>Elsevier</td>\n",
       "      <td>Cigarette smoking and coronary heart disease: ...</td>\n",
       "      <td>10.1016/0002-8703(80)90356-7</td>\n",
       "      <td>NaN</td>\n",
       "      <td>7355701.0</td>\n",
       "      <td>els-covid</td>\n",
       "      <td>NaN</td>\n",
       "      <td>1980-03-31</td>\n",
       "      <td>Friedman, Gary D</td>\n",
       "      <td>American Heart Journal</td>\n",
       "      <td>NaN</td>\n",
       "      <td>NaN</td>\n",
       "      <td>False</td>\n",
       "      <td>custom_license</td>\n",
       "    </tr>\n",
       "    <tr>\n",
       "      <th>3</th>\n",
       "      <td>aecbc613ebdab36753235197ffb4f35734b5ca63</td>\n",
       "      <td>Elsevier</td>\n",
       "      <td>Clinical and immunologic studies in identical ...</td>\n",
       "      <td>10.1016/0002-9343(73)90176-9</td>\n",
       "      <td>NaN</td>\n",
       "      <td>4579077.0</td>\n",
       "      <td>els-covid</td>\n",
       "      <td>Abstract Middle-aged female identical twins, o...</td>\n",
       "      <td>1973-08-31</td>\n",
       "      <td>Brunner, Carolyn M.; Horwitz, David A.; Shann,...</td>\n",
       "      <td>The American Journal of Medicine</td>\n",
       "      <td>NaN</td>\n",
       "      <td>NaN</td>\n",
       "      <td>True</td>\n",
       "      <td>custom_license</td>\n",
       "    </tr>\n",
       "    <tr>\n",
       "      <th>4</th>\n",
       "      <td>NaN</td>\n",
       "      <td>Elsevier</td>\n",
       "      <td>Epidemiology of community-acquired respiratory...</td>\n",
       "      <td>10.1016/0002-9343(85)90361-4</td>\n",
       "      <td>NaN</td>\n",
       "      <td>4014285.0</td>\n",
       "      <td>els-covid</td>\n",
       "      <td>Abstract Upper respiratory tract infections ar...</td>\n",
       "      <td>1985-06-28</td>\n",
       "      <td>Garibaldi, Richard A.</td>\n",
       "      <td>The American Journal of Medicine</td>\n",
       "      <td>NaN</td>\n",
       "      <td>NaN</td>\n",
       "      <td>False</td>\n",
       "      <td>custom_license</td>\n",
       "    </tr>\n",
       "  </tbody>\n",
       "</table>\n",
       "</div>"
      ],
      "text/plain": [
       "                                        sha  source_x  \\\n",
       "0                                       NaN  Elsevier   \n",
       "1                                       NaN  Elsevier   \n",
       "2                                       NaN  Elsevier   \n",
       "3  aecbc613ebdab36753235197ffb4f35734b5ca63  Elsevier   \n",
       "4                                       NaN  Elsevier   \n",
       "\n",
       "                                               title  \\\n",
       "0  Intrauterine virus infections and congenital h...   \n",
       "1                  Coronaviruses in Balkan nephritis   \n",
       "2  Cigarette smoking and coronary heart disease: ...   \n",
       "3  Clinical and immunologic studies in identical ...   \n",
       "4  Epidemiology of community-acquired respiratory...   \n",
       "\n",
       "                            doi pmcid  pubmed_id    license  \\\n",
       "0  10.1016/0002-8703(72)90077-4   NaN  4361535.0  els-covid   \n",
       "1  10.1016/0002-8703(80)90355-5   NaN  6243850.0  els-covid   \n",
       "2  10.1016/0002-8703(80)90356-7   NaN  7355701.0  els-covid   \n",
       "3  10.1016/0002-9343(73)90176-9   NaN  4579077.0  els-covid   \n",
       "4  10.1016/0002-9343(85)90361-4   NaN  4014285.0  els-covid   \n",
       "\n",
       "                                            abstract publish_time  \\\n",
       "0  Abstract The etiologic basis for the vast majo...   1972-12-31   \n",
       "1                                                NaN   1980-03-31   \n",
       "2                                                NaN   1980-03-31   \n",
       "3  Abstract Middle-aged female identical twins, o...   1973-08-31   \n",
       "4  Abstract Upper respiratory tract infections ar...   1985-06-28   \n",
       "\n",
       "                                             authors  \\\n",
       "0                                  Overall, James C.   \n",
       "1  Georgescu, Leonida; Diosi, Peter; Buţiu, Ioan;...   \n",
       "2                                   Friedman, Gary D   \n",
       "3  Brunner, Carolyn M.; Horwitz, David A.; Shann,...   \n",
       "4                              Garibaldi, Richard A.   \n",
       "\n",
       "                            journal  Microsoft Academic Paper ID  \\\n",
       "0            American Heart Journal                          NaN   \n",
       "1            American Heart Journal                          NaN   \n",
       "2            American Heart Journal                          NaN   \n",
       "3  The American Journal of Medicine                          NaN   \n",
       "4  The American Journal of Medicine                          NaN   \n",
       "\n",
       "  WHO #Covidence  has_full_text  full_text_file  \n",
       "0            NaN          False  custom_license  \n",
       "1            NaN          False  custom_license  \n",
       "2            NaN          False  custom_license  \n",
       "3            NaN           True  custom_license  \n",
       "4            NaN          False  custom_license  "
      ]
     },
     "execution_count": 73,
     "metadata": {},
     "output_type": "execute_result"
    }
   ],
   "source": [
    "meta.head()"
   ]
  },
  {
   "cell_type": "code",
   "execution_count": 78,
   "metadata": {},
   "outputs": [
    {
     "data": {
      "text/plain": [
       "[('Acute Respiratory Syndrome in China', 2003),\n",
       " ('Acute Respiratory Syndrome in China-Update 2', 2003),\n",
       " ('Severe Acute Respiratory Syndrome (SARS)-Multi-country Outbreak', 2003),\n",
       " ('Severe Acute Respiratory Syndrome (SARS)-Multi-country Outbreak-Update',\n",
       "  2003),\n",
       " ('Identification of severe acute respiratory syndrome in Canada', 2003),\n",
       " ('Investigation of a nosocomial outbreak of severe acute respiratory syndrome (SARS) in Toronto, Canada',\n",
       "  2003),\n",
       " ('Identification and containment of an outbreak of SARS in a community hospital',\n",
       "  2003),\n",
       " ('World Health Organization. Summary Table of SARS Cases by Country', 2002),\n",
       " ('Clinical evaluation of the emergency medical services (EMS) ambulance dispatch-based syndromic surveillance system',\n",
       "  2003)]"
      ]
     },
     "execution_count": 78,
     "metadata": {},
     "output_type": "execute_result"
    }
   ],
   "source": [
    "papers['Citations'][9]"
   ]
  },
  {
   "cell_type": "code",
   "execution_count": 79,
   "metadata": {},
   "outputs": [
    {
     "data": {
      "text/html": [
       "<div>\n",
       "<style scoped>\n",
       "    .dataframe tbody tr th:only-of-type {\n",
       "        vertical-align: middle;\n",
       "    }\n",
       "\n",
       "    .dataframe tbody tr th {\n",
       "        vertical-align: top;\n",
       "    }\n",
       "\n",
       "    .dataframe thead th {\n",
       "        text-align: right;\n",
       "    }\n",
       "</style>\n",
       "<table border=\"1\" class=\"dataframe\">\n",
       "  <thead>\n",
       "    <tr style=\"text-align: right;\">\n",
       "      <th></th>\n",
       "      <th>Library</th>\n",
       "      <th>ID</th>\n",
       "      <th>Titles</th>\n",
       "      <th>Authors</th>\n",
       "      <th>Abstract</th>\n",
       "      <th>Text</th>\n",
       "      <th>Citations</th>\n",
       "      <th>Number_Citations</th>\n",
       "      <th>Language</th>\n",
       "    </tr>\n",
       "  </thead>\n",
       "  <tbody>\n",
       "    <tr>\n",
       "      <th>0</th>\n",
       "      <td>custom_license</td>\n",
       "      <td>ab680d5dbc4f51252da3473109a7885dd6b5eb6f</td>\n",
       "      <td>Evolutionary Medicine IV. Evolution and Emerge...</td>\n",
       "      <td>[S Scarpino]</td>\n",
       "      <td>NaN</td>\n",
       "      <td>The evolutionary history of humans is characte...</td>\n",
       "      <td>[(Rapid evolutionary dynamics and disease thre...</td>\n",
       "      <td>63</td>\n",
       "      <td>en</td>\n",
       "    </tr>\n",
       "    <tr>\n",
       "      <th>1</th>\n",
       "      <td>custom_license</td>\n",
       "      <td>6599ebbef3d868afac9daa4f80fa075675cf03bc</td>\n",
       "      <td>International aviation emissions to 2025: Can ...</td>\n",
       "      <td>[Andrew Macintosh, Lailey Wallace]</td>\n",
       "      <td>[International aviation is growing rapidly, re...</td>\n",
       "      <td>Sixty years ago, civil aviation was an infant ...</td>\n",
       "      <td>[(CONSAVE 2050-constrained scenarios on aviati...</td>\n",
       "      <td>24</td>\n",
       "      <td>en</td>\n",
       "    </tr>\n",
       "    <tr>\n",
       "      <th>2</th>\n",
       "      <td>custom_license</td>\n",
       "      <td>eb5c7f3ff921ad6469b79cc8a3c122648204ece4</td>\n",
       "      <td>2 Mechanisms of diarrhoea</td>\n",
       "      <td>[I Booth, A Mcneish Baillikre&amp;apos;]</td>\n",
       "      <td>NaN</td>\n",
       "      <td>Acute infections of the gastrointestinal tract...</td>\n",
       "      <td>[(A typing scheme for Aeromonas hydrophila bas...</td>\n",
       "      <td>91</td>\n",
       "      <td>en</td>\n",
       "    </tr>\n",
       "    <tr>\n",
       "      <th>3</th>\n",
       "      <td>custom_license</td>\n",
       "      <td>b87b790c96c75faa22a085cb560f7b3d8e018b24</td>\n",
       "      <td>Features of Host Cells: Cellular and Molecular...</td>\n",
       "      <td>[]</td>\n",
       "      <td>NaN</td>\n",
       "      <td>There are three domains of life-Bacteria, Arch...</td>\n",
       "      <td>[(Epidemics to eradication: the modern history...</td>\n",
       "      <td>6</td>\n",
       "      <td>en</td>\n",
       "    </tr>\n",
       "    <tr>\n",
       "      <th>4</th>\n",
       "      <td>custom_license</td>\n",
       "      <td>68c0bb1989b6ca2b38da32a0d992027db39f80bc</td>\n",
       "      <td>Spring 2020 | 1 Beijing's Hard and Soft Repres...</td>\n",
       "      <td>[Victoria Tin-Bor Hui]</td>\n",
       "      <td>[Hong Kong's new Police Commissioner Chris Tan...</td>\n",
       "      <td>It is also noteworthy that Tang, who was once ...</td>\n",
       "      <td>[(Listed companies appoint mainlanders to boar...</td>\n",
       "      <td>63</td>\n",
       "      <td>en</td>\n",
       "    </tr>\n",
       "  </tbody>\n",
       "</table>\n",
       "</div>"
      ],
      "text/plain": [
       "          Library                                        ID  \\\n",
       "0  custom_license  ab680d5dbc4f51252da3473109a7885dd6b5eb6f   \n",
       "1  custom_license  6599ebbef3d868afac9daa4f80fa075675cf03bc   \n",
       "2  custom_license  eb5c7f3ff921ad6469b79cc8a3c122648204ece4   \n",
       "3  custom_license  b87b790c96c75faa22a085cb560f7b3d8e018b24   \n",
       "4  custom_license  68c0bb1989b6ca2b38da32a0d992027db39f80bc   \n",
       "\n",
       "                                              Titles  \\\n",
       "0  Evolutionary Medicine IV. Evolution and Emerge...   \n",
       "1  International aviation emissions to 2025: Can ...   \n",
       "2                          2 Mechanisms of diarrhoea   \n",
       "3  Features of Host Cells: Cellular and Molecular...   \n",
       "4  Spring 2020 | 1 Beijing's Hard and Soft Repres...   \n",
       "\n",
       "                                Authors  \\\n",
       "0                          [S Scarpino]   \n",
       "1    [Andrew Macintosh, Lailey Wallace]   \n",
       "2  [I Booth, A Mcneish Baillikre&apos;]   \n",
       "3                                    []   \n",
       "4                [Victoria Tin-Bor Hui]   \n",
       "\n",
       "                                            Abstract  \\\n",
       "0                                                NaN   \n",
       "1  [International aviation is growing rapidly, re...   \n",
       "2                                                NaN   \n",
       "3                                                NaN   \n",
       "4  [Hong Kong's new Police Commissioner Chris Tan...   \n",
       "\n",
       "                                                Text  \\\n",
       "0  The evolutionary history of humans is characte...   \n",
       "1  Sixty years ago, civil aviation was an infant ...   \n",
       "2  Acute infections of the gastrointestinal tract...   \n",
       "3  There are three domains of life-Bacteria, Arch...   \n",
       "4  It is also noteworthy that Tang, who was once ...   \n",
       "\n",
       "                                           Citations  Number_Citations  \\\n",
       "0  [(Rapid evolutionary dynamics and disease thre...                63   \n",
       "1  [(CONSAVE 2050-constrained scenarios on aviati...                24   \n",
       "2  [(A typing scheme for Aeromonas hydrophila bas...                91   \n",
       "3  [(Epidemics to eradication: the modern history...                 6   \n",
       "4  [(Listed companies appoint mainlanders to boar...                63   \n",
       "\n",
       "  Language  \n",
       "0       en  \n",
       "1       en  \n",
       "2       en  \n",
       "3       en  \n",
       "4       en  "
      ]
     },
     "execution_count": 79,
     "metadata": {},
     "output_type": "execute_result"
    }
   ],
   "source": [
    "papers.head()"
   ]
  },
  {
   "cell_type": "code",
   "execution_count": 80,
   "metadata": {},
   "outputs": [],
   "source": [
    "papers.to_csv(\"covid19_papers_compiled.csv\")"
   ]
  },
  {
   "cell_type": "code",
   "execution_count": 87,
   "metadata": {},
   "outputs": [],
   "source": [
    "import pickle\n",
    "with open(\"covid_authors_list.txt\", \"wb\") as fp:   #Pickling\n",
    "    pickle.dump(list(papers['Authors']), fp)\n",
    "    \n",
    "with open(\"covid_citations_list.txt\", \"wb\") as fp:   #Pickling\n",
    "    pickle.dump(list(papers['Citations']), fp)"
   ]
  },
  {
   "cell_type": "code",
   "execution_count": 84,
   "metadata": {},
   "outputs": [],
   "source": [
    "with open(\"covid_authors_list.txt\", \"rb\") as fp:   #Pickling\n",
    "    b = pickle.load(fp)"
   ]
  },
  {
   "cell_type": "code",
   "execution_count": 86,
   "metadata": {},
   "outputs": [],
   "source": [
    "del b"
   ]
  },
  {
   "cell_type": "code",
   "execution_count": null,
   "metadata": {},
   "outputs": [],
   "source": []
  }
 ],
 "metadata": {
  "kernelspec": {
   "display_name": "Python 3",
   "language": "python",
   "name": "python3"
  },
  "language_info": {
   "codemirror_mode": {
    "name": "ipython",
    "version": 3
   },
   "file_extension": ".py",
   "mimetype": "text/x-python",
   "name": "python",
   "nbconvert_exporter": "python",
   "pygments_lexer": "ipython3",
   "version": "3.7.3"
  }
 },
 "nbformat": 4,
 "nbformat_minor": 4
}
