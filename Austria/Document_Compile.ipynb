{
 "cells": [
  {
   "cell_type": "code",
   "execution_count": 1,
   "metadata": {},
   "outputs": [],
   "source": [
    "import os\n",
    "import json\n",
    "import numpy as np\n",
    "import pandas as pd"
   ]
  },
  {
   "cell_type": "code",
   "execution_count": 2,
   "metadata": {},
   "outputs": [],
   "source": [
    "folders = ['custom_license','noncomm_use_subset','biorxiv_medrxiv','comm_use_subset']"
   ]
  },
  {
   "cell_type": "code",
   "execution_count": 3,
   "metadata": {},
   "outputs": [],
   "source": [
    "path_papers = []\n",
    "for root, dirs, files in os.walk(\".\", topdown=False):\n",
    "   for name in files:\n",
    "      path_papers.append(os.path.join(root, name))\n",
    "#update to include only files in folders\n",
    "path_papers = [path for path in path_papers if any(x in path.split('/') for x in folders)]\n",
    "#update to remove \".\"\n",
    "path_papers = [paper[1:] for paper in path_papers]"
   ]
  },
  {
   "cell_type": "code",
   "execution_count": 5,
   "metadata": {},
   "outputs": [],
   "source": [
    "#create dictionary for paths of papers by folder\n",
    "dict_paper_paths ={}\n",
    "for paper in path_papers:\n",
    "    split_path = paper.split(\"/\")\n",
    "    #create key\n",
    "    key = split_path[1]\n",
    "    if key not in dict_paper_paths.keys():\n",
    "        dict_paper_paths[key] = [paper]\n",
    "    else:\n",
    "        value = dict_paper_paths[key]\n",
    "        value.append(paper)\n"
   ]
  },
  {
   "cell_type": "code",
   "execution_count": 6,
   "metadata": {},
   "outputs": [
    {
     "name": "stdout",
     "output_type": "stream",
     "text": [
      "Papers for  custom_license is  16959\n",
      "Papers for  noncomm_use_subset is  2353\n",
      "Papers for  biorxiv_medrxiv is  885\n",
      "Papers for  comm_use_subset is  9118\n"
     ]
    }
   ],
   "source": [
    "for i in dict_paper_paths.keys():\n",
    "    print('Papers for ',i, 'is ',len(dict_paper_paths[i]))"
   ]
  },
  {
   "cell_type": "code",
   "execution_count": 7,
   "metadata": {},
   "outputs": [
    {
     "data": {
      "text/plain": [
       "'/Users/janmichaelaustria/Google Drive/UNH Spring/ML_Part2/Covid_19/comm_use_subset/5e0c586f047ff909c8ed3fe171c8975a90608d08.json'"
      ]
     },
     "execution_count": 7,
     "metadata": {},
     "output_type": "execute_result"
    }
   ],
   "source": [
    "fname = os.getcwd() + dict_paper_paths['comm_use_subset'][0]\n",
    "fname"
   ]
  },
  {
   "cell_type": "code",
   "execution_count": 8,
   "metadata": {},
   "outputs": [
    {
     "data": {
      "text/plain": [
       "dict_keys(['paper_id', 'metadata', 'abstract', 'body_text', 'bib_entries', 'ref_entries', 'back_matter'])"
      ]
     },
     "execution_count": 8,
     "metadata": {},
     "output_type": "execute_result"
    }
   ],
   "source": [
    "with open(fname) as f:\n",
    "  data = json.load(f)\n",
    "\n",
    "data.keys()"
   ]
  },
  {
   "cell_type": "code",
   "execution_count": 9,
   "metadata": {},
   "outputs": [],
   "source": [
    "def pull_paper_id(file):\n",
    "    #get the paper id from json file\n",
    "    return(file['paper_id'])\n",
    "\n",
    "def pull_title(file):\n",
    "    #get title from \n",
    "    return(file['metadata']['title'])\n",
    "\n",
    "def pull_authors(file):\n",
    "    #returns string of authors seperated by ;\n",
    "    #access list of author dictionaries\n",
    "    list_author_dicts = file['metadata']['authors']\n",
    "    #traverse list\n",
    "    authors = []\n",
    "    for i in range(0,len(list_author_dicts)):\n",
    "        first_name,last_name = list_author_dicts[i]['first'], list_author_dicts[i]['last']\n",
    "        #concat fist and last\n",
    "        author_name = first_name + \" \" + last_name\n",
    "        authors.append(author_name)\n",
    "    return(authors)\n",
    "\n",
    "def pull_abstracts(file):\n",
    "    #pull abstracts\n",
    "    abstract_texts = []\n",
    "    if len(file['abstract']) == 0:\n",
    "        return(np.nan)\n",
    "    else:\n",
    "        abstracts = file['abstract']\n",
    "        for i in range(0,len(abstracts)):\n",
    "            if 'text' in abstracts[i].keys():\n",
    "                text_element = abstracts[i]['text']\n",
    "                abstract_texts.append(text_element)\n",
    "        return(abstract_texts)\n",
    "\n",
    "def pull_texts(file):\n",
    "    #pull all text files from body\n",
    "    body_text = file['body_text']\n",
    "    #travese list\n",
    "    #store texts\n",
    "    texts = []\n",
    "    for i in range(0,len(body_text)):\n",
    "        if 'text' in body_text[i].keys():\n",
    "            #pull text element\n",
    "            text_element = body_text[i]['text']\n",
    "            texts.append(text_element)\n",
    "        else:\n",
    "            pass\n",
    "    #add in text from back_matter\n",
    "    back_matter =  file['back_matter']\n",
    "    for i in range(0,len(back_matter)):\n",
    "        if 'text' in back_matter[i].keys():\n",
    "            text_element = back_matter[i]['text']\n",
    "            texts.append(text_element)\n",
    "        else:\n",
    "            pass\n",
    "                \n",
    "    return(texts)\n",
    "\n",
    "def pull_citations(file):\n",
    "    #in case i want acess to this\n",
    "    #citation will be indicated by title and year, that should be enough for a lookup\n",
    "    citations = []\n",
    "    bib_entries = file['bib_entries']\n",
    "    for i in bib_entries.keys():\n",
    "        ith_bib_entry = bib_entries[i]\n",
    "        title, year = ith_bib_entry['title'], ith_bib_entry['year']\n",
    "        citations.append((title,year))\n",
    "    return(citations)\n",
    "        \n",
    "    "
   ]
  },
  {
   "cell_type": "markdown",
   "metadata": {},
   "source": [
    "All functions work!"
   ]
  },
  {
   "cell_type": "markdown",
   "metadata": {},
   "source": [
    "## Apply functions to all json files"
   ]
  },
  {
   "cell_type": "code",
   "execution_count": 10,
   "metadata": {},
   "outputs": [],
   "source": [
    "paper_types = []\n",
    "paper_ids = []\n",
    "paper_titles = []\n",
    "paper_authors = []\n",
    "paper_abstracts = []\n",
    "paper_texts = []\n",
    "paper_citations = []\n",
    "\n",
    "for paper_type in dict_paper_paths.keys():\n",
    "    #access list file paths\n",
    "    list_paths = dict_paper_paths[paper_type]\n",
    "    #move along list paths\n",
    "    for i in range(0,len(list_paths)):\n",
    "        #create filename to read\n",
    "        fname = os.getcwd() + list_paths[i]\n",
    "        #oad into json\n",
    "        with open(fname) as f:\n",
    "            data = json.load(f)\n",
    "        #go into json, grabbing what i need\n",
    "        ID, title,authors, abstract,text,citations = pull_paper_id(data), pull_title(data),pull_authors(data),pull_abstracts(data),pull_texts(data),pull_citations(data)   \n",
    "        #append accordingly\n",
    "        paper_types.append(paper_type)\n",
    "        paper_ids.append(ID)\n",
    "        paper_titles.append(title)\n",
    "        paper_authors.append(authors)\n",
    "        paper_abstracts.append(abstract)\n",
    "        paper_texts.append(text)\n",
    "        paper_citations.append(citations)\n",
    "        "
   ]
  },
  {
   "cell_type": "code",
   "execution_count": 11,
   "metadata": {},
   "outputs": [
    {
     "data": {
      "text/plain": [
       "29315"
      ]
     },
     "execution_count": 11,
     "metadata": {},
     "output_type": "execute_result"
    }
   ],
   "source": [
    "len(paper_texts)"
   ]
  },
  {
   "cell_type": "markdown",
   "metadata": {},
   "source": [
    "## Put all into DataFrame"
   ]
  },
  {
   "cell_type": "code",
   "execution_count": 12,
   "metadata": {},
   "outputs": [],
   "source": [
    "papers = pd.DataFrame()\n",
    "papers['Library']  = paper_types\n",
    "papers['ID'] = paper_ids\n",
    "papers['Titles'] = paper_titles\n",
    "papers['Authors'] = paper_authors\n",
    "papers['Abstract'] = paper_abstracts\n",
    "papers['Text'] = paper_texts\n",
    "papers['Citations'] = paper_citations"
   ]
  },
  {
   "cell_type": "code",
   "execution_count": 13,
   "metadata": {},
   "outputs": [
    {
     "data": {
      "text/plain": [
       "(29315, 7)"
      ]
     },
     "execution_count": 13,
     "metadata": {},
     "output_type": "execute_result"
    }
   ],
   "source": [
    "papers.shape"
   ]
  },
  {
   "cell_type": "code",
   "execution_count": 14,
   "metadata": {},
   "outputs": [
    {
     "name": "stdout",
     "output_type": "stream",
     "text": [
      "<class 'pandas.core.frame.DataFrame'>\n",
      "RangeIndex: 29315 entries, 0 to 29314\n",
      "Data columns (total 7 columns):\n",
      " #   Column     Non-Null Count  Dtype \n",
      "---  ------     --------------  ----- \n",
      " 0   Library    29315 non-null  object\n",
      " 1   ID         29315 non-null  object\n",
      " 2   Titles     29315 non-null  object\n",
      " 3   Authors    29315 non-null  object\n",
      " 4   Abstract   21264 non-null  object\n",
      " 5   Text       29315 non-null  object\n",
      " 6   Citations  29315 non-null  object\n",
      "dtypes: object(7)\n",
      "memory usage: 1.6+ MB\n"
     ]
    }
   ],
   "source": [
    "papers.info()"
   ]
  },
  {
   "cell_type": "code",
   "execution_count": 16,
   "metadata": {
    "scrolled": false
   },
   "outputs": [
    {
     "data": {
      "text/html": [
       "<div>\n",
       "<style scoped>\n",
       "    .dataframe tbody tr th:only-of-type {\n",
       "        vertical-align: middle;\n",
       "    }\n",
       "\n",
       "    .dataframe tbody tr th {\n",
       "        vertical-align: top;\n",
       "    }\n",
       "\n",
       "    .dataframe thead th {\n",
       "        text-align: right;\n",
       "    }\n",
       "</style>\n",
       "<table border=\"1\" class=\"dataframe\">\n",
       "  <thead>\n",
       "    <tr style=\"text-align: right;\">\n",
       "      <th></th>\n",
       "      <th>Library</th>\n",
       "      <th>ID</th>\n",
       "      <th>Titles</th>\n",
       "      <th>Authors</th>\n",
       "      <th>Abstract</th>\n",
       "      <th>Text</th>\n",
       "      <th>Citations</th>\n",
       "    </tr>\n",
       "  </thead>\n",
       "  <tbody>\n",
       "    <tr>\n",
       "      <th>0</th>\n",
       "      <td>custom_license</td>\n",
       "      <td>ab680d5dbc4f51252da3473109a7885dd6b5eb6f</td>\n",
       "      <td>Evolutionary Medicine IV. Evolution and Emerge...</td>\n",
       "      <td>[S Scarpino]</td>\n",
       "      <td>NaN</td>\n",
       "      <td>[The evolutionary history of humans is charact...</td>\n",
       "      <td>[(Rapid evolutionary dynamics and disease thre...</td>\n",
       "    </tr>\n",
       "    <tr>\n",
       "      <th>1</th>\n",
       "      <td>custom_license</td>\n",
       "      <td>6599ebbef3d868afac9daa4f80fa075675cf03bc</td>\n",
       "      <td>International aviation emissions to 2025: Can ...</td>\n",
       "      <td>[Andrew Macintosh, Lailey Wallace]</td>\n",
       "      <td>[International aviation is growing rapidly, re...</td>\n",
       "      <td>[Sixty years ago, civil aviation was an infant...</td>\n",
       "      <td>[(CONSAVE 2050-constrained scenarios on aviati...</td>\n",
       "    </tr>\n",
       "    <tr>\n",
       "      <th>2</th>\n",
       "      <td>custom_license</td>\n",
       "      <td>eb5c7f3ff921ad6469b79cc8a3c122648204ece4</td>\n",
       "      <td>2 Mechanisms of diarrhoea</td>\n",
       "      <td>[I Booth, A Mcneish Baillikre&amp;apos;]</td>\n",
       "      <td>NaN</td>\n",
       "      <td>[Acute infections of the gastrointestinal trac...</td>\n",
       "      <td>[(A typing scheme for Aeromonas hydrophila bas...</td>\n",
       "    </tr>\n",
       "    <tr>\n",
       "      <th>3</th>\n",
       "      <td>custom_license</td>\n",
       "      <td>b87b790c96c75faa22a085cb560f7b3d8e018b24</td>\n",
       "      <td>Features of Host Cells: Cellular and Molecular...</td>\n",
       "      <td>[]</td>\n",
       "      <td>NaN</td>\n",
       "      <td>[There are three domains of life-Bacteria, Arc...</td>\n",
       "      <td>[(Epidemics to eradication: the modern history...</td>\n",
       "    </tr>\n",
       "    <tr>\n",
       "      <th>4</th>\n",
       "      <td>custom_license</td>\n",
       "      <td>68c0bb1989b6ca2b38da32a0d992027db39f80bc</td>\n",
       "      <td>Spring 2020 | 1 Beijing's Hard and Soft Repres...</td>\n",
       "      <td>[Victoria Tin-Bor Hui]</td>\n",
       "      <td>[Hong Kong's new Police Commissioner Chris Tan...</td>\n",
       "      <td>[It is also noteworthy that Tang, who was once...</td>\n",
       "      <td>[(Listed companies appoint mainlanders to boar...</td>\n",
       "    </tr>\n",
       "  </tbody>\n",
       "</table>\n",
       "</div>"
      ],
      "text/plain": [
       "          Library                                        ID  \\\n",
       "0  custom_license  ab680d5dbc4f51252da3473109a7885dd6b5eb6f   \n",
       "1  custom_license  6599ebbef3d868afac9daa4f80fa075675cf03bc   \n",
       "2  custom_license  eb5c7f3ff921ad6469b79cc8a3c122648204ece4   \n",
       "3  custom_license  b87b790c96c75faa22a085cb560f7b3d8e018b24   \n",
       "4  custom_license  68c0bb1989b6ca2b38da32a0d992027db39f80bc   \n",
       "\n",
       "                                              Titles  \\\n",
       "0  Evolutionary Medicine IV. Evolution and Emerge...   \n",
       "1  International aviation emissions to 2025: Can ...   \n",
       "2                          2 Mechanisms of diarrhoea   \n",
       "3  Features of Host Cells: Cellular and Molecular...   \n",
       "4  Spring 2020 | 1 Beijing's Hard and Soft Repres...   \n",
       "\n",
       "                                Authors  \\\n",
       "0                          [S Scarpino]   \n",
       "1    [Andrew Macintosh, Lailey Wallace]   \n",
       "2  [I Booth, A Mcneish Baillikre&apos;]   \n",
       "3                                    []   \n",
       "4                [Victoria Tin-Bor Hui]   \n",
       "\n",
       "                                            Abstract  \\\n",
       "0                                                NaN   \n",
       "1  [International aviation is growing rapidly, re...   \n",
       "2                                                NaN   \n",
       "3                                                NaN   \n",
       "4  [Hong Kong's new Police Commissioner Chris Tan...   \n",
       "\n",
       "                                                Text  \\\n",
       "0  [The evolutionary history of humans is charact...   \n",
       "1  [Sixty years ago, civil aviation was an infant...   \n",
       "2  [Acute infections of the gastrointestinal trac...   \n",
       "3  [There are three domains of life-Bacteria, Arc...   \n",
       "4  [It is also noteworthy that Tang, who was once...   \n",
       "\n",
       "                                           Citations  \n",
       "0  [(Rapid evolutionary dynamics and disease thre...  \n",
       "1  [(CONSAVE 2050-constrained scenarios on aviati...  \n",
       "2  [(A typing scheme for Aeromonas hydrophila bas...  \n",
       "3  [(Epidemics to eradication: the modern history...  \n",
       "4  [(Listed companies appoint mainlanders to boar...  "
      ]
     },
     "execution_count": 16,
     "metadata": {},
     "output_type": "execute_result"
    }
   ],
   "source": [
    "papers.head()"
   ]
  },
  {
   "cell_type": "code",
   "execution_count": 17,
   "metadata": {},
   "outputs": [],
   "source": [
    "papers.to_csv('covid19_papers_compiled.csv')"
   ]
  },
  {
   "cell_type": "code",
   "execution_count": 18,
   "metadata": {},
   "outputs": [
    {
     "data": {
      "text/plain": [
       "Library                                         custom_license\n",
       "ID                    3db98d76b1a91a3940955132dc9fccc95d1600c5\n",
       "Titles         Bali Bombings: A Whole of Government Response 1\n",
       "Authors                               [Jeff Roach, Ian Kemish]\n",
       "Abstract                                                   NaN\n",
       "Text         [which provide services to the community. Loca...\n",
       "Citations    [(Restoring tourism destinations in crisis: A ...\n",
       "Name: 10, dtype: object"
      ]
     },
     "execution_count": 18,
     "metadata": {},
     "output_type": "execute_result"
    }
   ],
   "source": [
    "papers.iloc[10]"
   ]
  },
  {
   "cell_type": "markdown",
   "metadata": {},
   "source": [
    "## Compare against meta data"
   ]
  },
  {
   "cell_type": "code",
   "execution_count": 19,
   "metadata": {},
   "outputs": [],
   "source": [
    "meta = pd.read_csv('metadata.csv')"
   ]
  },
  {
   "cell_type": "code",
   "execution_count": 21,
   "metadata": {},
   "outputs": [
    {
     "data": {
      "text/plain": [
       "(44220, 15)"
      ]
     },
     "execution_count": 21,
     "metadata": {},
     "output_type": "execute_result"
    }
   ],
   "source": [
    "meta.shape"
   ]
  },
  {
   "cell_type": "markdown",
   "metadata": {},
   "source": [
    "## Common papers between meta and all papers"
   ]
  },
  {
   "cell_type": "code",
   "execution_count": 31,
   "metadata": {},
   "outputs": [
    {
     "data": {
      "text/plain": [
       "27678"
      ]
     },
     "execution_count": 31,
     "metadata": {},
     "output_type": "execute_result"
    }
   ],
   "source": [
    "len(set(meta['sha'][meta['sha'].notnull()]).intersection(set(papers['ID'])))"
   ]
  },
  {
   "cell_type": "markdown",
   "metadata": {},
   "source": [
    "## Papers in meta not in papers"
   ]
  },
  {
   "cell_type": "code",
   "execution_count": 34,
   "metadata": {},
   "outputs": [
    {
     "data": {
      "text/plain": [
       "772"
      ]
     },
     "execution_count": 34,
     "metadata": {},
     "output_type": "execute_result"
    }
   ],
   "source": [
    "len(set(meta['sha'][meta['sha'].notnull()]).difference(set(papers['ID'])))"
   ]
  },
  {
   "cell_type": "markdown",
   "metadata": {},
   "source": [
    "## Papers in papers not in meta"
   ]
  },
  {
   "cell_type": "code",
   "execution_count": 36,
   "metadata": {},
   "outputs": [
    {
     "data": {
      "text/plain": [
       "1637"
      ]
     },
     "execution_count": 36,
     "metadata": {},
     "output_type": "execute_result"
    }
   ],
   "source": [
    "len(set(papers['ID']).difference(set(meta['sha'][meta['sha'].notnull()])))"
   ]
  },
  {
   "cell_type": "code",
   "execution_count": null,
   "metadata": {},
   "outputs": [],
   "source": []
  }
 ],
 "metadata": {
  "kernelspec": {
   "display_name": "Python 3",
   "language": "python",
   "name": "python3"
  },
  "language_info": {
   "codemirror_mode": {
    "name": "ipython",
    "version": 3
   },
   "file_extension": ".py",
   "mimetype": "text/x-python",
   "name": "python",
   "nbconvert_exporter": "python",
   "pygments_lexer": "ipython3",
   "version": "3.7.3"
  }
 },
 "nbformat": 4,
 "nbformat_minor": 4
}
