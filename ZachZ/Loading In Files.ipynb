{
 "cells": [
  {
   "cell_type": "markdown",
   "metadata": {},
   "source": [
    "Zachary Zalman\n",
    "\n",
    "30 March 2020"
   ]
  },
  {
   "cell_type": "markdown",
   "metadata": {},
   "source": [
    "# Loading In The Data"
   ]
  },
  {
   "cell_type": "code",
   "execution_count": 1,
   "metadata": {},
   "outputs": [],
   "source": [
    "# dependencies\n",
    "import pandas as pd\n",
    "\n",
    "import json\n",
    "from dictor import dictor\n",
    "\n",
    "from datetime import datetime\n",
    "import os"
   ]
  },
  {
   "cell_type": "code",
   "execution_count": 8,
   "metadata": {},
   "outputs": [],
   "source": [
    "# navigate to the folder with the files\n",
    "%cd \".\\CORD-19-research-challenge\""
   ]
  },
  {
   "cell_type": "markdown",
   "metadata": {},
   "source": [
    "load in the data and create a dataframe"
   ]
  },
  {
   "cell_type": "code",
   "execution_count": 3,
   "metadata": {},
   "outputs": [
    {
     "data": {
      "text/plain": [
       "['biorxiv_medrxiv',\n",
       " 'comm_use_subset',\n",
       " 'COVID.DATA.LIC.AGMT.pdf',\n",
       " 'custom_license',\n",
       " 'json_schema.txt',\n",
       " 'metadata.csv',\n",
       " 'metadata.readme',\n",
       " 'noncomm_use_subset']"
      ]
     },
     "execution_count": 3,
     "metadata": {},
     "output_type": "execute_result"
    }
   ],
   "source": [
    "os.listdir()"
   ]
  },
  {
   "cell_type": "code",
   "execution_count": 4,
   "metadata": {},
   "outputs": [],
   "source": [
    "folders = [\"biorxiv_medrxiv\", \n",
    "           \"comm_use_subset\", \n",
    "           \"custom_license\", \n",
    "           \"noncomm_use_subset\"]"
   ]
  },
  {
   "cell_type": "code",
   "execution_count": 5,
   "metadata": {},
   "outputs": [
    {
     "name": "stdout",
     "output_type": "stream",
     "text": [
      "Total Runtime: 0:00:29.322033\n"
     ]
    }
   ],
   "source": [
    "# create the list that will hold the files (for creating a dataframe)\n",
    "files_list=[]\n",
    "\n",
    "# get the start time\n",
    "start = datetime.now()\n",
    "\n",
    "# loop through the 4 folders\n",
    "for i in folders: \n",
    "    \n",
    "    # loop through each file\n",
    "    for j in os.listdir(i):\n",
    "        with open(i + \"\\\\\" + j, \"r\") as temp:\n",
    "            data = json.load(temp)\n",
    "        temp.close()\n",
    "        \n",
    "        ### The following code utilizes the dictor package to navigate the nested lists/dicts ###\n",
    "        \n",
    "        # get the paper id\n",
    "        paper_id = dictor(data, \"paper_id\")\n",
    "        \n",
    "        # get the paper title\n",
    "        paper_title = dictor(data, \"metadata.title\")\n",
    "        \n",
    "        # get the abstract\n",
    "        paper_abstract = dictor(data, \"abstract.0.text\")\n",
    "        \n",
    "        # get the body text\n",
    "        paper_body = dictor(data, \"body_text.0.text\")\n",
    "            \n",
    "        # Appending Main Keys to list\n",
    "        files_list.append({'paper_id': paper_id,\n",
    "                           'title': paper_title, \n",
    "                           'abstract': paper_abstract, \n",
    "                           'body': paper_body})\n",
    "        \n",
    "# get the total run time\n",
    "print(\"Total Runtime:\", datetime.now()-start)"
   ]
  },
  {
   "cell_type": "code",
   "execution_count": 6,
   "metadata": {},
   "outputs": [],
   "source": [
    "df = pd.DataFrame(files_list)"
   ]
  },
  {
   "cell_type": "code",
   "execution_count": 7,
   "metadata": {},
   "outputs": [
    {
     "data": {
      "text/html": [
       "<div>\n",
       "<style scoped>\n",
       "    .dataframe tbody tr th:only-of-type {\n",
       "        vertical-align: middle;\n",
       "    }\n",
       "\n",
       "    .dataframe tbody tr th {\n",
       "        vertical-align: top;\n",
       "    }\n",
       "\n",
       "    .dataframe thead th {\n",
       "        text-align: right;\n",
       "    }\n",
       "</style>\n",
       "<table border=\"1\" class=\"dataframe\">\n",
       "  <thead>\n",
       "    <tr style=\"text-align: right;\">\n",
       "      <th></th>\n",
       "      <th>paper_id</th>\n",
       "      <th>title</th>\n",
       "      <th>abstract</th>\n",
       "      <th>body</th>\n",
       "    </tr>\n",
       "  </thead>\n",
       "  <tbody>\n",
       "    <tr>\n",
       "      <th>0</th>\n",
       "      <td>0015023cc06b5362d332b3baf348d11567ca2fbb</td>\n",
       "      <td>The RNA pseudoknots in foot-and-mouth disease ...</td>\n",
       "      <td>word count: 194 22 Text word count: 5168 23 24...</td>\n",
       "      <td>VP3, and VP0 (which is further processed to VP...</td>\n",
       "    </tr>\n",
       "    <tr>\n",
       "      <th>1</th>\n",
       "      <td>004f0f8bb66cf446678dc13cf2701feec4f36d76</td>\n",
       "      <td>Healthcare-resource-adjusted vulnerabilities t...</td>\n",
       "      <td>None</td>\n",
       "      <td>The 2019-nCoV epidemic has spread across China...</td>\n",
       "    </tr>\n",
       "    <tr>\n",
       "      <th>2</th>\n",
       "      <td>00d16927588fb04d4be0e6b269fc02f0d3c2aa7b</td>\n",
       "      <td>Real-time, MinION-based, amplicon sequencing f...</td>\n",
       "      <td>Infectious bronchitis (IB) causes significant ...</td>\n",
       "      <td>Infectious bronchitis (IB), which is caused by...</td>\n",
       "    </tr>\n",
       "    <tr>\n",
       "      <th>3</th>\n",
       "      <td>0139ea4ca580af99b602c6435368e7fdbefacb03</td>\n",
       "      <td>A Combined Evidence Approach to Prioritize Nip...</td>\n",
       "      <td>Nipah Virus (NiV) came into limelight recently...</td>\n",
       "      <td>Nipah is an infectious negative-sense single-s...</td>\n",
       "    </tr>\n",
       "    <tr>\n",
       "      <th>4</th>\n",
       "      <td>013d9d1cba8a54d5d3718c229b812d7cf91b6c89</td>\n",
       "      <td>Assessing spread risk of Wuhan novel coronavir...</td>\n",
       "      <td>Background: A novel coronavirus (2019-nCoV) em...</td>\n",
       "      <td>In December 2019, a cluster of patients with p...</td>\n",
       "    </tr>\n",
       "    <tr>\n",
       "      <th>...</th>\n",
       "      <td>...</td>\n",
       "      <td>...</td>\n",
       "      <td>...</td>\n",
       "      <td>...</td>\n",
       "    </tr>\n",
       "    <tr>\n",
       "      <th>29310</th>\n",
       "      <td>ff5a79ed22ea416e6d89caad1cf0d83dbc741a4b</td>\n",
       "      <td>Understanding Human Coronavirus HCoV-NL63</td>\n",
       "      <td>Even though coronavirus infection of humans is...</td>\n",
       "      <td>Regardless of geographic location, respiratory...</td>\n",
       "    </tr>\n",
       "    <tr>\n",
       "      <th>29311</th>\n",
       "      <td>ff6d57f2aad99be129432058665b361dc18747e8</td>\n",
       "      <td>Brief Definitive Report MACROPHAGES GENETICALL...</td>\n",
       "      <td>There is extensive evidence that cultured macr...</td>\n",
       "      <td>Experiments were designed to test whether subs...</td>\n",
       "    </tr>\n",
       "    <tr>\n",
       "      <th>29312</th>\n",
       "      <td>ff83907653a4c4500e8c509ca28169e924742b40</td>\n",
       "      <td>Identification of a Subdomain of CENPB That Is...</td>\n",
       "      <td>We have combined in vivo and in vitro approach...</td>\n",
       "      <td>can function in an autonomous fashion, relocat...</td>\n",
       "    </tr>\n",
       "    <tr>\n",
       "      <th>29313</th>\n",
       "      <td>ffe718db1820f27bf274e3fc519ab78e450de288</td>\n",
       "      <td>Replication enhancer elements within the open ...</td>\n",
       "      <td>We provide experimental evidence of a replicat...</td>\n",
       "      <td>Tick-borne encephalitis virus (TBEV) is a huma...</td>\n",
       "    </tr>\n",
       "    <tr>\n",
       "      <th>29314</th>\n",
       "      <td>ffed5d2a31a0c1a0db11905fe378e7735b6d70ca</td>\n",
       "      <td>Supplemental material for the paper \"Evidence ...</td>\n",
       "      <td>Israel. *Corresponding author (TT): tamirtul@p...</td>\n",
       "      <td>20min). We trimmed the poly-A adaptors from th...</td>\n",
       "    </tr>\n",
       "  </tbody>\n",
       "</table>\n",
       "<p>29315 rows × 4 columns</p>\n",
       "</div>"
      ],
      "text/plain": [
       "                                       paper_id  \\\n",
       "0      0015023cc06b5362d332b3baf348d11567ca2fbb   \n",
       "1      004f0f8bb66cf446678dc13cf2701feec4f36d76   \n",
       "2      00d16927588fb04d4be0e6b269fc02f0d3c2aa7b   \n",
       "3      0139ea4ca580af99b602c6435368e7fdbefacb03   \n",
       "4      013d9d1cba8a54d5d3718c229b812d7cf91b6c89   \n",
       "...                                         ...   \n",
       "29310  ff5a79ed22ea416e6d89caad1cf0d83dbc741a4b   \n",
       "29311  ff6d57f2aad99be129432058665b361dc18747e8   \n",
       "29312  ff83907653a4c4500e8c509ca28169e924742b40   \n",
       "29313  ffe718db1820f27bf274e3fc519ab78e450de288   \n",
       "29314  ffed5d2a31a0c1a0db11905fe378e7735b6d70ca   \n",
       "\n",
       "                                                   title  \\\n",
       "0      The RNA pseudoknots in foot-and-mouth disease ...   \n",
       "1      Healthcare-resource-adjusted vulnerabilities t...   \n",
       "2      Real-time, MinION-based, amplicon sequencing f...   \n",
       "3      A Combined Evidence Approach to Prioritize Nip...   \n",
       "4      Assessing spread risk of Wuhan novel coronavir...   \n",
       "...                                                  ...   \n",
       "29310          Understanding Human Coronavirus HCoV-NL63   \n",
       "29311  Brief Definitive Report MACROPHAGES GENETICALL...   \n",
       "29312  Identification of a Subdomain of CENPB That Is...   \n",
       "29313  Replication enhancer elements within the open ...   \n",
       "29314  Supplemental material for the paper \"Evidence ...   \n",
       "\n",
       "                                                abstract  \\\n",
       "0      word count: 194 22 Text word count: 5168 23 24...   \n",
       "1                                                   None   \n",
       "2      Infectious bronchitis (IB) causes significant ...   \n",
       "3      Nipah Virus (NiV) came into limelight recently...   \n",
       "4      Background: A novel coronavirus (2019-nCoV) em...   \n",
       "...                                                  ...   \n",
       "29310  Even though coronavirus infection of humans is...   \n",
       "29311  There is extensive evidence that cultured macr...   \n",
       "29312  We have combined in vivo and in vitro approach...   \n",
       "29313  We provide experimental evidence of a replicat...   \n",
       "29314  Israel. *Corresponding author (TT): tamirtul@p...   \n",
       "\n",
       "                                                    body  \n",
       "0      VP3, and VP0 (which is further processed to VP...  \n",
       "1      The 2019-nCoV epidemic has spread across China...  \n",
       "2      Infectious bronchitis (IB), which is caused by...  \n",
       "3      Nipah is an infectious negative-sense single-s...  \n",
       "4      In December 2019, a cluster of patients with p...  \n",
       "...                                                  ...  \n",
       "29310  Regardless of geographic location, respiratory...  \n",
       "29311  Experiments were designed to test whether subs...  \n",
       "29312  can function in an autonomous fashion, relocat...  \n",
       "29313  Tick-borne encephalitis virus (TBEV) is a huma...  \n",
       "29314  20min). We trimmed the poly-A adaptors from th...  \n",
       "\n",
       "[29315 rows x 4 columns]"
      ]
     },
     "execution_count": 7,
     "metadata": {},
     "output_type": "execute_result"
    }
   ],
   "source": [
    "df"
   ]
  }
 ],
 "metadata": {
  "kernelspec": {
   "display_name": "Python 3",
   "language": "python",
   "name": "python3"
  },
  "language_info": {
   "codemirror_mode": {
    "name": "ipython",
    "version": 3
   },
   "file_extension": ".py",
   "mimetype": "text/x-python",
   "name": "python",
   "nbconvert_exporter": "python",
   "pygments_lexer": "ipython3",
   "version": "3.7.6"
  }
 },
 "nbformat": 4,
 "nbformat_minor": 4
}
