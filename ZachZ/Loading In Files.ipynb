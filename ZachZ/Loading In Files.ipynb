{
 "cells": [
  {
   "cell_type": "markdown",
   "metadata": {},
   "source": [
    "Zachary Z.\n",
    "\n",
    "30 March 2020"
   ]
  },
  {
   "cell_type": "markdown",
   "metadata": {},
   "source": [
    "# Loading In The Data"
   ]
  },
  {
   "cell_type": "code",
   "execution_count": null,
   "metadata": {},
   "outputs": [],
   "source": [
    "# dependencies\n",
    "import pandas as pd\n",
    "\n",
    "import json\n",
    "from dictor import dictor\n",
    "\n",
    "from datetime import datetime\n",
    "import os"
   ]
  },
  {
   "cell_type": "code",
   "execution_count": null,
   "metadata": {},
   "outputs": [],
   "source": [
    "# navigate to the folder with the files\n",
    "%cd \".\\CORD-19-research-challenge\""
   ]
  },
  {
   "cell_type": "markdown",
   "metadata": {},
   "source": [
    "load in the data and create a dataframe"
   ]
  },
  {
   "cell_type": "code",
   "execution_count": null,
   "metadata": {},
   "outputs": [],
   "source": [
    "os.listdir()"
   ]
  },
  {
   "cell_type": "code",
   "execution_count": null,
   "metadata": {},
   "outputs": [],
   "source": [
    "folders = [\"biorxiv_medrxiv\", \n",
    "           \"comm_use_subset\", \n",
    "           \"custom_license\", \n",
    "           \"noncomm_use_subset\"]"
   ]
  },
  {
   "cell_type": "code",
   "execution_count": null,
   "metadata": {},
   "outputs": [],
   "source": [
    "# create the list that will hold the files (for creating a dataframe)\n",
    "files_list=[]\n",
    "\n",
    "# get the start time\n",
    "start = datetime.now()\n",
    "\n",
    "# loop through the 4 folders\n",
    "for i in folders: \n",
    "    \n",
    "    # loop through each file\n",
    "    for j in os.listdir(i):\n",
    "        with open(i + \"\\\\\" + j, \"r\") as temp:\n",
    "            data = json.load(temp)\n",
    "        temp.close()\n",
    "        \n",
    "        ### The following code utilizes the dictor package to navigate the nested lists/dicts ###\n",
    "        \n",
    "        # get the paper id\n",
    "        paper_id = dictor(data, \"paper_id\")\n",
    "        \n",
    "        # get the paper title\n",
    "        paper_title = dictor(data, \"metadata.title\")\n",
    "        \n",
    "        # get the abstract\n",
    "        paper_abstract = dictor(data, \"abstract.0.text\")\n",
    "        \n",
    "        # get the body text\n",
    "        paper_body = dictor(data, \"body_text.0.text\")\n",
    "            \n",
    "        # Appending Main Keys to list\n",
    "        files_list.append({'paper_id': paper_id,\n",
    "                           'title': paper_title, \n",
    "                           'abstract': paper_abstract, \n",
    "                           'body': paper_body})\n",
    "        \n",
    "# get the total run time\n",
    "print(\"Total Runtime:\", datetime.now()-start)"
   ]
  },
  {
   "cell_type": "code",
   "execution_count": null,
   "metadata": {},
   "outputs": [],
   "source": [
    "df = pd.DataFrame(files_list)"
   ]
  },
  {
   "cell_type": "code",
   "execution_count": null,
   "metadata": {},
   "outputs": [],
   "source": [
    "df"
   ]
  },
  {
   "cell_type": "markdown",
   "metadata": {},
   "source": [
    "Load in the metadata file"
   ]
  },
  {
   "cell_type": "code",
   "execution_count": null,
   "metadata": {},
   "outputs": [],
   "source": [
    "# load in the file\n",
    "meta = pd.read_csv(\"metadata.csv\")\n",
    "meta"
   ]
  },
  {
   "cell_type": "code",
   "execution_count": null,
   "metadata": {},
   "outputs": [],
   "source": [
    "# check only the ones with actual text\n",
    "meta_full = meta[meta['has_full_text'] == True]\n",
    "meta_full"
   ]
  },
  {
   "cell_type": "code",
   "execution_count": null,
   "metadata": {},
   "outputs": [],
   "source": [
    "# merge the metadata with the already created df (containing raw papers)\n",
    "combo_df = pd.merge(df, meta, how='inner', left_on=\"paper_id\", right_on='sha')\n",
    "combo_df"
   ]
  }
 ],
 "metadata": {
  "kernelspec": {
   "display_name": "Python 3",
   "language": "python",
   "name": "python3"
  },
  "language_info": {
   "codemirror_mode": {
    "name": "ipython",
    "version": 3
   },
   "file_extension": ".py",
   "mimetype": "text/x-python",
   "name": "python",
   "nbconvert_exporter": "python",
   "pygments_lexer": "ipython3",
   "version": "3.7.6"
  }
 },
 "nbformat": 4,
 "nbformat_minor": 4
}
